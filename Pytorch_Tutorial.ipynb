{
  "nbformat": 4,
  "nbformat_minor": 0,
  "metadata": {
    "colab": {
      "name": "Pytorch_Tutorial.ipynb",
      "provenance": [],
      "collapsed_sections": [
        "_QD_JnuGvmM8",
        "nsdvDHBD5MKs",
        "Dgper-krAfJO"
      ],
      "authorship_tag": "ABX9TyMCaPM7Obpx3MLCeodTi2wl",
      "include_colab_link": true
    },
    "kernelspec": {
      "name": "python3",
      "display_name": "Python 3"
    },
    "accelerator": "GPU",
    "widgets": {
      "application/vnd.jupyter.widget-state+json": {
        "2b59469566b244ee834b32a4701ec77f": {
          "model_module": "@jupyter-widgets/controls",
          "model_name": "HBoxModel",
          "state": {
            "_view_name": "HBoxView",
            "_dom_classes": [],
            "_model_name": "HBoxModel",
            "_view_module": "@jupyter-widgets/controls",
            "_model_module_version": "1.5.0",
            "_view_count": null,
            "_view_module_version": "1.5.0",
            "box_style": "",
            "layout": "IPY_MODEL_1c6c35b5cf1f48308a171a038a7a4fd3",
            "_model_module": "@jupyter-widgets/controls",
            "children": [
              "IPY_MODEL_545d7a61075a41bfb75d567c0bd8d54b",
              "IPY_MODEL_acbc63c55f564ea7bb49eecfc20c9477"
            ]
          }
        },
        "1c6c35b5cf1f48308a171a038a7a4fd3": {
          "model_module": "@jupyter-widgets/base",
          "model_name": "LayoutModel",
          "state": {
            "_view_name": "LayoutView",
            "grid_template_rows": null,
            "right": null,
            "justify_content": null,
            "_view_module": "@jupyter-widgets/base",
            "overflow": null,
            "_model_module_version": "1.2.0",
            "_view_count": null,
            "flex_flow": null,
            "width": null,
            "min_width": null,
            "border": null,
            "align_items": null,
            "bottom": null,
            "_model_module": "@jupyter-widgets/base",
            "top": null,
            "grid_column": null,
            "overflow_y": null,
            "overflow_x": null,
            "grid_auto_flow": null,
            "grid_area": null,
            "grid_template_columns": null,
            "flex": null,
            "_model_name": "LayoutModel",
            "justify_items": null,
            "grid_row": null,
            "max_height": null,
            "align_content": null,
            "visibility": null,
            "align_self": null,
            "height": null,
            "min_height": null,
            "padding": null,
            "grid_auto_rows": null,
            "grid_gap": null,
            "max_width": null,
            "order": null,
            "_view_module_version": "1.2.0",
            "grid_template_areas": null,
            "object_position": null,
            "object_fit": null,
            "grid_auto_columns": null,
            "margin": null,
            "display": null,
            "left": null
          }
        },
        "545d7a61075a41bfb75d567c0bd8d54b": {
          "model_module": "@jupyter-widgets/controls",
          "model_name": "FloatProgressModel",
          "state": {
            "_view_name": "ProgressView",
            "style": "IPY_MODEL_7c3ced4d92274a509df61958da053622",
            "_dom_classes": [],
            "description": "",
            "_model_name": "FloatProgressModel",
            "bar_style": "success",
            "max": 1,
            "_view_module": "@jupyter-widgets/controls",
            "_model_module_version": "1.5.0",
            "value": 1,
            "_view_count": null,
            "_view_module_version": "1.5.0",
            "orientation": "horizontal",
            "min": 0,
            "description_tooltip": null,
            "_model_module": "@jupyter-widgets/controls",
            "layout": "IPY_MODEL_18ea64150dc24a799d81e9a0044a87d0"
          }
        },
        "acbc63c55f564ea7bb49eecfc20c9477": {
          "model_module": "@jupyter-widgets/controls",
          "model_name": "HTMLModel",
          "state": {
            "_view_name": "HTMLView",
            "style": "IPY_MODEL_d55bbfdf1e0e4819a945863b4efbc762",
            "_dom_classes": [],
            "description": "",
            "_model_name": "HTMLModel",
            "placeholder": "​",
            "_view_module": "@jupyter-widgets/controls",
            "_model_module_version": "1.5.0",
            "value": " 170500096/? [00:08&lt;00:00, 19796549.14it/s]",
            "_view_count": null,
            "_view_module_version": "1.5.0",
            "description_tooltip": null,
            "_model_module": "@jupyter-widgets/controls",
            "layout": "IPY_MODEL_34c0e6107caf4594bdb8671453a11b96"
          }
        },
        "7c3ced4d92274a509df61958da053622": {
          "model_module": "@jupyter-widgets/controls",
          "model_name": "ProgressStyleModel",
          "state": {
            "_view_name": "StyleView",
            "_model_name": "ProgressStyleModel",
            "description_width": "initial",
            "_view_module": "@jupyter-widgets/base",
            "_model_module_version": "1.5.0",
            "_view_count": null,
            "_view_module_version": "1.2.0",
            "bar_color": null,
            "_model_module": "@jupyter-widgets/controls"
          }
        },
        "18ea64150dc24a799d81e9a0044a87d0": {
          "model_module": "@jupyter-widgets/base",
          "model_name": "LayoutModel",
          "state": {
            "_view_name": "LayoutView",
            "grid_template_rows": null,
            "right": null,
            "justify_content": null,
            "_view_module": "@jupyter-widgets/base",
            "overflow": null,
            "_model_module_version": "1.2.0",
            "_view_count": null,
            "flex_flow": null,
            "width": null,
            "min_width": null,
            "border": null,
            "align_items": null,
            "bottom": null,
            "_model_module": "@jupyter-widgets/base",
            "top": null,
            "grid_column": null,
            "overflow_y": null,
            "overflow_x": null,
            "grid_auto_flow": null,
            "grid_area": null,
            "grid_template_columns": null,
            "flex": null,
            "_model_name": "LayoutModel",
            "justify_items": null,
            "grid_row": null,
            "max_height": null,
            "align_content": null,
            "visibility": null,
            "align_self": null,
            "height": null,
            "min_height": null,
            "padding": null,
            "grid_auto_rows": null,
            "grid_gap": null,
            "max_width": null,
            "order": null,
            "_view_module_version": "1.2.0",
            "grid_template_areas": null,
            "object_position": null,
            "object_fit": null,
            "grid_auto_columns": null,
            "margin": null,
            "display": null,
            "left": null
          }
        },
        "d55bbfdf1e0e4819a945863b4efbc762": {
          "model_module": "@jupyter-widgets/controls",
          "model_name": "DescriptionStyleModel",
          "state": {
            "_view_name": "StyleView",
            "_model_name": "DescriptionStyleModel",
            "description_width": "",
            "_view_module": "@jupyter-widgets/base",
            "_model_module_version": "1.5.0",
            "_view_count": null,
            "_view_module_version": "1.2.0",
            "_model_module": "@jupyter-widgets/controls"
          }
        },
        "34c0e6107caf4594bdb8671453a11b96": {
          "model_module": "@jupyter-widgets/base",
          "model_name": "LayoutModel",
          "state": {
            "_view_name": "LayoutView",
            "grid_template_rows": null,
            "right": null,
            "justify_content": null,
            "_view_module": "@jupyter-widgets/base",
            "overflow": null,
            "_model_module_version": "1.2.0",
            "_view_count": null,
            "flex_flow": null,
            "width": null,
            "min_width": null,
            "border": null,
            "align_items": null,
            "bottom": null,
            "_model_module": "@jupyter-widgets/base",
            "top": null,
            "grid_column": null,
            "overflow_y": null,
            "overflow_x": null,
            "grid_auto_flow": null,
            "grid_area": null,
            "grid_template_columns": null,
            "flex": null,
            "_model_name": "LayoutModel",
            "justify_items": null,
            "grid_row": null,
            "max_height": null,
            "align_content": null,
            "visibility": null,
            "align_self": null,
            "height": null,
            "min_height": null,
            "padding": null,
            "grid_auto_rows": null,
            "grid_gap": null,
            "max_width": null,
            "order": null,
            "_view_module_version": "1.2.0",
            "grid_template_areas": null,
            "object_position": null,
            "object_fit": null,
            "grid_auto_columns": null,
            "margin": null,
            "display": null,
            "left": null
          }
        }
      }
    }
  },
  "cells": [
    {
      "cell_type": "markdown",
      "metadata": {
        "id": "view-in-github",
        "colab_type": "text"
      },
      "source": [
        "<a href=\"https://colab.research.google.com/github/HSJung93/Pytorch_Practice/blob/master/Pytorch_Tutorial.ipynb\" target=\"_parent\"><img src=\"https://colab.research.google.com/assets/colab-badge.svg\" alt=\"Open In Colab\"/></a>"
      ]
    },
    {
      "cell_type": "markdown",
      "metadata": {
        "id": "YKiW_hNIval1"
      },
      "source": [
        "# 1. Tensor"
      ]
    },
    {
      "cell_type": "code",
      "metadata": {
        "id": "qwUTWuPnQW4q"
      },
      "source": [
        "import torch"
      ],
      "execution_count": null,
      "outputs": []
    },
    {
      "cell_type": "code",
      "metadata": {
        "id": "ciiJjWGNQxMN"
      },
      "source": [
        "import numpy as np"
      ],
      "execution_count": null,
      "outputs": []
    },
    {
      "cell_type": "code",
      "metadata": {
        "id": "FGb96i2rQzX4",
        "outputId": "1a3eeb92-f825-4584-b79c-ff4d3a89e4f8",
        "colab": {
          "base_uri": "https://localhost:8080/",
          "height": 107
        }
      },
      "source": [
        "x = torch.empty(5, 4)\n",
        "print(x)"
      ],
      "execution_count": null,
      "outputs": [
        {
          "output_type": "stream",
          "text": [
            "tensor([[1.0774e-35, 0.0000e+00, 7.0065e-44, 6.7262e-44],\n",
            "        [6.3058e-44, 6.7262e-44, 7.9874e-44, 6.3058e-44],\n",
            "        [7.0065e-44, 7.8473e-44, 1.1771e-43, 6.8664e-44],\n",
            "        [7.0065e-44, 8.1275e-44, 7.0065e-44, 7.7071e-44],\n",
            "        [8.1275e-44, 7.0065e-44, 7.9874e-44, 6.4460e-44]])\n"
          ],
          "name": "stdout"
        }
      ]
    },
    {
      "cell_type": "code",
      "metadata": {
        "id": "9braRmx4Q2n_",
        "outputId": "cf4bdfeb-2364-416c-d3af-9f1e08e03aba",
        "colab": {
          "base_uri": "https://localhost:8080/",
          "height": 71
        }
      },
      "source": [
        "torch.ones(3, 3)"
      ],
      "execution_count": null,
      "outputs": [
        {
          "output_type": "execute_result",
          "data": {
            "text/plain": [
              "tensor([[1., 1., 1.],\n",
              "        [1., 1., 1.],\n",
              "        [1., 1., 1.]])"
            ]
          },
          "metadata": {
            "tags": []
          },
          "execution_count": 4
        }
      ]
    },
    {
      "cell_type": "code",
      "metadata": {
        "id": "80PANSPBQ3oQ",
        "outputId": "b36774a7-d76d-400e-8518-9bcd7e8c174c",
        "colab": {
          "base_uri": "https://localhost:8080/",
          "height": 35
        }
      },
      "source": [
        "torch.zeros(2)"
      ],
      "execution_count": null,
      "outputs": [
        {
          "output_type": "execute_result",
          "data": {
            "text/plain": [
              "tensor([0., 0.])"
            ]
          },
          "metadata": {
            "tags": []
          },
          "execution_count": 5
        }
      ]
    },
    {
      "cell_type": "code",
      "metadata": {
        "id": "fMfVeXCwQ5aX",
        "outputId": "ed11c014-0859-44fa-8dbb-2f9e38b12853",
        "colab": {
          "base_uri": "https://localhost:8080/",
          "height": 107
        }
      },
      "source": [
        "torch.rand(5, 6)"
      ],
      "execution_count": null,
      "outputs": [
        {
          "output_type": "execute_result",
          "data": {
            "text/plain": [
              "tensor([[0.7664, 0.6283, 0.4970, 0.4406, 0.6160, 0.5643],\n",
              "        [0.7479, 0.6351, 0.2462, 0.0120, 0.6967, 0.5282],\n",
              "        [0.4584, 0.6201, 0.8591, 0.1014, 0.2376, 0.3748],\n",
              "        [0.7914, 0.2098, 0.4803, 0.5506, 0.5014, 0.5871],\n",
              "        [0.2392, 0.6070, 0.4017, 0.1647, 0.2233, 0.2751]])"
            ]
          },
          "metadata": {
            "tags": []
          },
          "execution_count": 6
        }
      ]
    },
    {
      "cell_type": "code",
      "metadata": {
        "id": "KfkA5_CZSqkM"
      },
      "source": [
        "l = [13, 4]\n",
        "r = np.array([4, 56, 7])"
      ],
      "execution_count": null,
      "outputs": []
    },
    {
      "cell_type": "code",
      "metadata": {
        "id": "mvqxZZYGS-YC",
        "outputId": "e78cce27-64d0-45a0-be16-b3b8be7c58ac",
        "colab": {
          "base_uri": "https://localhost:8080/",
          "height": 35
        }
      },
      "source": [
        "torch.tensor(l)"
      ],
      "execution_count": null,
      "outputs": [
        {
          "output_type": "execute_result",
          "data": {
            "text/plain": [
              "tensor([13,  4])"
            ]
          },
          "metadata": {
            "tags": []
          },
          "execution_count": 8
        }
      ]
    },
    {
      "cell_type": "code",
      "metadata": {
        "id": "hXo9KdfJTCqQ",
        "outputId": "b2f9bb0f-15b5-49cc-dffa-12db598f9684",
        "colab": {
          "base_uri": "https://localhost:8080/",
          "height": 35
        }
      },
      "source": [
        "torch.tensor(r)"
      ],
      "execution_count": null,
      "outputs": [
        {
          "output_type": "execute_result",
          "data": {
            "text/plain": [
              "tensor([ 4, 56,  7])"
            ]
          },
          "metadata": {
            "tags": []
          },
          "execution_count": 9
        }
      ]
    },
    {
      "cell_type": "code",
      "metadata": {
        "id": "bP2Gy4gFTDmv",
        "outputId": "a492f8d3-6a44-4ce5-d2e9-80c6e74a4c31",
        "colab": {
          "base_uri": "https://localhost:8080/",
          "height": 35
        }
      },
      "source": [
        "x.size()"
      ],
      "execution_count": null,
      "outputs": [
        {
          "output_type": "execute_result",
          "data": {
            "text/plain": [
              "torch.Size([5, 4])"
            ]
          },
          "metadata": {
            "tags": []
          },
          "execution_count": 10
        }
      ]
    },
    {
      "cell_type": "code",
      "metadata": {
        "id": "Fn_tzA2BTEno",
        "outputId": "e1835525-0f6f-44b8-c762-8e671bcd78e1",
        "colab": {
          "base_uri": "https://localhost:8080/",
          "height": 35
        }
      },
      "source": [
        "type(x)"
      ],
      "execution_count": null,
      "outputs": [
        {
          "output_type": "execute_result",
          "data": {
            "text/plain": [
              "torch.Tensor"
            ]
          },
          "metadata": {
            "tags": []
          },
          "execution_count": 11
        }
      ]
    },
    {
      "cell_type": "code",
      "metadata": {
        "id": "7ASCKY4UTHPv",
        "outputId": "e1ad682b-8e2d-4aa2-a588-53be9dd08605",
        "colab": {
          "base_uri": "https://localhost:8080/",
          "height": 89
        }
      },
      "source": [
        "x = torch.rand(2, 2)\n",
        "y = torch.rand(2, 2)\n",
        "print(x)\n",
        "print(y)"
      ],
      "execution_count": null,
      "outputs": [
        {
          "output_type": "stream",
          "text": [
            "tensor([[0.9944, 0.2625],\n",
            "        [0.1342, 0.7259]])\n",
            "tensor([[0.6170, 0.1901],\n",
            "        [0.8998, 0.1817]])\n"
          ],
          "name": "stdout"
        }
      ]
    },
    {
      "cell_type": "code",
      "metadata": {
        "id": "tniyhSLbTN0P",
        "outputId": "303ac418-143a-44df-f715-a7142f636f7d",
        "colab": {
          "base_uri": "https://localhost:8080/",
          "height": 53
        }
      },
      "source": [
        "x+y"
      ],
      "execution_count": null,
      "outputs": [
        {
          "output_type": "execute_result",
          "data": {
            "text/plain": [
              "tensor([[1.6114, 0.4526],\n",
              "        [1.0340, 0.9076]])"
            ]
          },
          "metadata": {
            "tags": []
          },
          "execution_count": 13
        }
      ]
    },
    {
      "cell_type": "code",
      "metadata": {
        "id": "-EjXL9JoTPZH",
        "outputId": "62d5ec22-41f1-4ba1-c53b-f4a9119df494",
        "colab": {
          "base_uri": "https://localhost:8080/",
          "height": 53
        }
      },
      "source": [
        "torch.add(x, y)"
      ],
      "execution_count": null,
      "outputs": [
        {
          "output_type": "execute_result",
          "data": {
            "text/plain": [
              "tensor([[1.6114, 0.4526],\n",
              "        [1.0340, 0.9076]])"
            ]
          },
          "metadata": {
            "tags": []
          },
          "execution_count": 14
        }
      ]
    },
    {
      "cell_type": "code",
      "metadata": {
        "id": "QpT6HKX1TRYf",
        "outputId": "b6441f22-ea32-4540-dd6d-0c51f2449a20",
        "colab": {
          "base_uri": "https://localhost:8080/",
          "height": 53
        }
      },
      "source": [
        "y.add(x)"
      ],
      "execution_count": null,
      "outputs": [
        {
          "output_type": "execute_result",
          "data": {
            "text/plain": [
              "tensor([[1.6114, 0.4526],\n",
              "        [1.0340, 0.9076]])"
            ]
          },
          "metadata": {
            "tags": []
          },
          "execution_count": 15
        }
      ]
    },
    {
      "cell_type": "code",
      "metadata": {
        "id": "n4bejWBRTSzg",
        "outputId": "8e64be4a-fb77-478e-a623-43b5912e684b",
        "colab": {
          "base_uri": "https://localhost:8080/",
          "height": 53
        }
      },
      "source": [
        "y.add_(x)"
      ],
      "execution_count": null,
      "outputs": [
        {
          "output_type": "execute_result",
          "data": {
            "text/plain": [
              "tensor([[1.6114, 0.4526],\n",
              "        [1.0340, 0.9076]])"
            ]
          },
          "metadata": {
            "tags": []
          },
          "execution_count": 16
        }
      ]
    },
    {
      "cell_type": "code",
      "metadata": {
        "id": "JICUTC_7TXOg",
        "outputId": "727e29a6-e798-47e5-b057-df093b5d6276",
        "colab": {
          "base_uri": "https://localhost:8080/",
          "height": 53
        }
      },
      "source": [
        "y"
      ],
      "execution_count": null,
      "outputs": [
        {
          "output_type": "execute_result",
          "data": {
            "text/plain": [
              "tensor([[1.6114, 0.4526],\n",
              "        [1.0340, 0.9076]])"
            ]
          },
          "metadata": {
            "tags": []
          },
          "execution_count": 17
        }
      ]
    },
    {
      "cell_type": "code",
      "metadata": {
        "id": "auNAXH-UTYSY",
        "outputId": "003dafa9-12d8-4f22-c538-1c8a6255dd43",
        "colab": {
          "base_uri": "https://localhost:8080/",
          "height": 35
        }
      },
      "source": [
        "y[1, 1]"
      ],
      "execution_count": null,
      "outputs": [
        {
          "output_type": "execute_result",
          "data": {
            "text/plain": [
              "tensor(0.9076)"
            ]
          },
          "metadata": {
            "tags": []
          },
          "execution_count": 18
        }
      ]
    },
    {
      "cell_type": "code",
      "metadata": {
        "id": "daRZVE_FuUvk",
        "outputId": "d3462ea3-5f0f-4fa7-d363-1a1fb0e1358e",
        "colab": {
          "base_uri": "https://localhost:8080/",
          "height": 35
        }
      },
      "source": [
        "y[:, 1]"
      ],
      "execution_count": null,
      "outputs": [
        {
          "output_type": "execute_result",
          "data": {
            "text/plain": [
              "tensor([0.4526, 0.9076])"
            ]
          },
          "metadata": {
            "tags": []
          },
          "execution_count": 19
        }
      ]
    },
    {
      "cell_type": "code",
      "metadata": {
        "id": "snYl_aAOuc08",
        "outputId": "e048688d-0a6f-4868-80ae-2c9189a2fb16",
        "colab": {
          "base_uri": "https://localhost:8080/",
          "height": 161
        }
      },
      "source": [
        "x = torch.rand(8, 8)\n",
        "print(x)"
      ],
      "execution_count": null,
      "outputs": [
        {
          "output_type": "stream",
          "text": [
            "tensor([[0.4231, 0.8871, 0.9321, 0.8236, 0.2434, 0.4370, 0.6570, 0.2761],\n",
            "        [0.9591, 0.4284, 0.3859, 0.1380, 0.5607, 0.3962, 0.8077, 0.2151],\n",
            "        [0.5777, 0.5301, 0.4986, 0.0179, 0.2619, 0.7954, 0.9269, 0.7559],\n",
            "        [0.8936, 0.8812, 0.8311, 0.7130, 0.9472, 0.9249, 0.5150, 0.3959],\n",
            "        [0.3385, 0.2596, 0.1365, 0.6660, 0.5531, 0.3971, 0.6447, 0.3884],\n",
            "        [0.1170, 0.1487, 0.0032, 0.2627, 0.5426, 0.1882, 0.2070, 0.2585],\n",
            "        [0.6991, 0.6740, 0.6799, 0.8977, 0.2230, 0.5724, 0.7736, 0.8987],\n",
            "        [0.8198, 0.8675, 0.3444, 0.4106, 0.5751, 0.2009, 0.8886, 0.6210]])\n"
          ],
          "name": "stdout"
        }
      ]
    },
    {
      "cell_type": "code",
      "metadata": {
        "id": "oUj9RIM6uk18",
        "outputId": "63e067cd-d2fc-4e44-c81f-b33855f4b25a",
        "colab": {
          "base_uri": "https://localhost:8080/",
          "height": 161
        }
      },
      "source": [
        "x.view(64)"
      ],
      "execution_count": null,
      "outputs": [
        {
          "output_type": "execute_result",
          "data": {
            "text/plain": [
              "tensor([0.4231, 0.8871, 0.9321, 0.8236, 0.2434, 0.4370, 0.6570, 0.2761, 0.9591,\n",
              "        0.4284, 0.3859, 0.1380, 0.5607, 0.3962, 0.8077, 0.2151, 0.5777, 0.5301,\n",
              "        0.4986, 0.0179, 0.2619, 0.7954, 0.9269, 0.7559, 0.8936, 0.8812, 0.8311,\n",
              "        0.7130, 0.9472, 0.9249, 0.5150, 0.3959, 0.3385, 0.2596, 0.1365, 0.6660,\n",
              "        0.5531, 0.3971, 0.6447, 0.3884, 0.1170, 0.1487, 0.0032, 0.2627, 0.5426,\n",
              "        0.1882, 0.2070, 0.2585, 0.6991, 0.6740, 0.6799, 0.8977, 0.2230, 0.5724,\n",
              "        0.7736, 0.8987, 0.8198, 0.8675, 0.3444, 0.4106, 0.5751, 0.2009, 0.8886,\n",
              "        0.6210])"
            ]
          },
          "metadata": {
            "tags": []
          },
          "execution_count": 21
        }
      ]
    },
    {
      "cell_type": "code",
      "metadata": {
        "id": "i4imCHJFun85",
        "outputId": "f601351d-935b-4f02-b2e8-1ecccbe8761c",
        "colab": {
          "base_uri": "https://localhost:8080/",
          "height": 161
        }
      },
      "source": [
        "x.view(4, 16)"
      ],
      "execution_count": null,
      "outputs": [
        {
          "output_type": "execute_result",
          "data": {
            "text/plain": [
              "tensor([[0.4231, 0.8871, 0.9321, 0.8236, 0.2434, 0.4370, 0.6570, 0.2761, 0.9591,\n",
              "         0.4284, 0.3859, 0.1380, 0.5607, 0.3962, 0.8077, 0.2151],\n",
              "        [0.5777, 0.5301, 0.4986, 0.0179, 0.2619, 0.7954, 0.9269, 0.7559, 0.8936,\n",
              "         0.8812, 0.8311, 0.7130, 0.9472, 0.9249, 0.5150, 0.3959],\n",
              "        [0.3385, 0.2596, 0.1365, 0.6660, 0.5531, 0.3971, 0.6447, 0.3884, 0.1170,\n",
              "         0.1487, 0.0032, 0.2627, 0.5426, 0.1882, 0.2070, 0.2585],\n",
              "        [0.6991, 0.6740, 0.6799, 0.8977, 0.2230, 0.5724, 0.7736, 0.8987, 0.8198,\n",
              "         0.8675, 0.3444, 0.4106, 0.5751, 0.2009, 0.8886, 0.6210]])"
            ]
          },
          "metadata": {
            "tags": []
          },
          "execution_count": 22
        }
      ]
    },
    {
      "cell_type": "code",
      "metadata": {
        "id": "DmRYkCOSuyMo",
        "outputId": "7d9f0fb4-d58b-4b8f-cfe2-19046af496b0",
        "colab": {
          "base_uri": "https://localhost:8080/",
          "height": 161
        }
      },
      "source": [
        "x.view(2, -1) # conv. layer -> preconnected layer"
      ],
      "execution_count": null,
      "outputs": [
        {
          "output_type": "execute_result",
          "data": {
            "text/plain": [
              "tensor([[0.4231, 0.8871, 0.9321, 0.8236, 0.2434, 0.4370, 0.6570, 0.2761, 0.9591,\n",
              "         0.4284, 0.3859, 0.1380, 0.5607, 0.3962, 0.8077, 0.2151, 0.5777, 0.5301,\n",
              "         0.4986, 0.0179, 0.2619, 0.7954, 0.9269, 0.7559, 0.8936, 0.8812, 0.8311,\n",
              "         0.7130, 0.9472, 0.9249, 0.5150, 0.3959],\n",
              "        [0.3385, 0.2596, 0.1365, 0.6660, 0.5531, 0.3971, 0.6447, 0.3884, 0.1170,\n",
              "         0.1487, 0.0032, 0.2627, 0.5426, 0.1882, 0.2070, 0.2585, 0.6991, 0.6740,\n",
              "         0.6799, 0.8977, 0.2230, 0.5724, 0.7736, 0.8987, 0.8198, 0.8675, 0.3444,\n",
              "         0.4106, 0.5751, 0.2009, 0.8886, 0.6210]])"
            ]
          },
          "metadata": {
            "tags": []
          },
          "execution_count": 23
        }
      ]
    },
    {
      "cell_type": "code",
      "metadata": {
        "id": "HfytBLeAu22w",
        "outputId": "d2e8df75-0cf5-4617-d44b-54275160354f",
        "colab": {
          "base_uri": "https://localhost:8080/",
          "height": 305
        }
      },
      "source": [
        "y = x.numpy()\n",
        "print(y)"
      ],
      "execution_count": null,
      "outputs": [
        {
          "output_type": "stream",
          "text": [
            "[[0.42307085 0.88713855 0.93206066 0.82363254 0.2434277  0.43702996\n",
            "  0.6570364  0.2760985 ]\n",
            " [0.9591395  0.42839044 0.3859306  0.13803434 0.5607135  0.39623183\n",
            "  0.8076959  0.21505082]\n",
            " [0.5776534  0.5300652  0.49856532 0.01794177 0.26190966 0.7953814\n",
            "  0.9268865  0.7559341 ]\n",
            " [0.89361846 0.88122326 0.831094   0.7130099  0.94722795 0.9249465\n",
            "  0.51496065 0.3958891 ]\n",
            " [0.33848047 0.25955665 0.13645375 0.66604793 0.5531364  0.39711654\n",
            "  0.64474446 0.38836527]\n",
            " [0.11703724 0.14868718 0.00323194 0.26265    0.5425867  0.18815327\n",
            "  0.20702678 0.25853068]\n",
            " [0.6990646  0.6739981  0.6799373  0.89769435 0.22303498 0.57237875\n",
            "  0.7735591  0.8986936 ]\n",
            " [0.8197676  0.8675233  0.34437126 0.41058153 0.575127   0.20093405\n",
            "  0.8885701  0.6209567 ]]\n"
          ],
          "name": "stdout"
        }
      ]
    },
    {
      "cell_type": "code",
      "metadata": {
        "id": "bh7miVQ1u_6p",
        "outputId": "5c774593-9810-42fc-df8c-553ea1204640",
        "colab": {
          "base_uri": "https://localhost:8080/",
          "height": 35
        }
      },
      "source": [
        "type(y)"
      ],
      "execution_count": null,
      "outputs": [
        {
          "output_type": "execute_result",
          "data": {
            "text/plain": [
              "numpy.ndarray"
            ]
          },
          "metadata": {
            "tags": []
          },
          "execution_count": 25
        }
      ]
    },
    {
      "cell_type": "code",
      "metadata": {
        "id": "lK8JicB4vAkX"
      },
      "source": [
        "x = torch.ones(1)"
      ],
      "execution_count": null,
      "outputs": []
    },
    {
      "cell_type": "code",
      "metadata": {
        "id": "ARY5drb-vEQS",
        "outputId": "60724697-d777-4637-8820-4dcb7c54a7bc",
        "colab": {
          "base_uri": "https://localhost:8080/",
          "height": 35
        }
      },
      "source": [
        "x"
      ],
      "execution_count": null,
      "outputs": [
        {
          "output_type": "execute_result",
          "data": {
            "text/plain": [
              "tensor([1.])"
            ]
          },
          "metadata": {
            "tags": []
          },
          "execution_count": 27
        }
      ]
    },
    {
      "cell_type": "code",
      "metadata": {
        "id": "8QR5OKGSvEv3",
        "outputId": "ca076826-613c-49d2-8bdd-40e622a27f26",
        "colab": {
          "base_uri": "https://localhost:8080/",
          "height": 35
        }
      },
      "source": [
        "x.item() #loss function, value"
      ],
      "execution_count": null,
      "outputs": [
        {
          "output_type": "execute_result",
          "data": {
            "text/plain": [
              "1.0"
            ]
          },
          "metadata": {
            "tags": []
          },
          "execution_count": 28
        }
      ]
    },
    {
      "cell_type": "markdown",
      "metadata": {
        "id": "_QD_JnuGvmM8"
      },
      "source": [
        "# 2. Back propagation"
      ]
    },
    {
      "cell_type": "code",
      "metadata": {
        "id": "1ri_jIKvvG0R",
        "outputId": "c139200b-cade-4794-feba-d040050feb2d",
        "colab": {
          "base_uri": "https://localhost:8080/",
          "height": 53
        }
      },
      "source": [
        "import torch\n",
        "x = torch.ones(2, 2, requires_grad=True)\n",
        "print(x)"
      ],
      "execution_count": null,
      "outputs": [
        {
          "output_type": "stream",
          "text": [
            "tensor([[1., 1.],\n",
            "        [1., 1.]], requires_grad=True)\n"
          ],
          "name": "stdout"
        }
      ]
    },
    {
      "cell_type": "code",
      "metadata": {
        "id": "vF-JrbkCvyq0",
        "outputId": "231fb6ed-1891-4c9b-dabb-a834d6795352",
        "colab": {
          "base_uri": "https://localhost:8080/",
          "height": 53
        }
      },
      "source": [
        "y = x+1\n",
        "print(y)"
      ],
      "execution_count": null,
      "outputs": [
        {
          "output_type": "stream",
          "text": [
            "tensor([[2., 2.],\n",
            "        [2., 2.]], grad_fn=<AddBackward0>)\n"
          ],
          "name": "stdout"
        }
      ]
    },
    {
      "cell_type": "code",
      "metadata": {
        "id": "DV3_tUGQv6-i"
      },
      "source": [
        "z = 2*y**2\n",
        "res = z.mean()"
      ],
      "execution_count": null,
      "outputs": []
    },
    {
      "cell_type": "code",
      "metadata": {
        "id": "PS2vPkgcwA74",
        "outputId": "eafab8a3-546d-4852-dbbb-c909f821fc34",
        "colab": {
          "base_uri": "https://localhost:8080/",
          "height": 35
        }
      },
      "source": [
        "print(res)"
      ],
      "execution_count": null,
      "outputs": [
        {
          "output_type": "stream",
          "text": [
            "tensor(8., grad_fn=<MeanBackward0>)\n"
          ],
          "name": "stdout"
        }
      ]
    },
    {
      "cell_type": "code",
      "metadata": {
        "id": "1PfNVEiVwBsw",
        "outputId": "75cca260-c42c-4246-9b0b-36868ceefdc9",
        "colab": {
          "base_uri": "https://localhost:8080/",
          "height": 35
        }
      },
      "source": [
        "res"
      ],
      "execution_count": null,
      "outputs": [
        {
          "output_type": "execute_result",
          "data": {
            "text/plain": [
              "tensor(8., grad_fn=<MeanBackward0>)"
            ]
          },
          "metadata": {
            "tags": []
          },
          "execution_count": 33
        }
      ]
    },
    {
      "cell_type": "code",
      "metadata": {
        "id": "O6fvDuw8wCJg"
      },
      "source": [
        "# d(res)/dx_i = x_i+1\n",
        "# res = (z_1+...+z_4)/4\n",
        "# z_i = 2(x_i+1)**2\n",
        "\n",
        "res.backward()"
      ],
      "execution_count": null,
      "outputs": []
    },
    {
      "cell_type": "code",
      "metadata": {
        "id": "W99-TVrN3Vn6",
        "outputId": "7d45ad9e-dda8-401c-8da8-1150dc40d673",
        "colab": {
          "base_uri": "https://localhost:8080/",
          "height": 53
        }
      },
      "source": [
        "print(x.grad)"
      ],
      "execution_count": null,
      "outputs": [
        {
          "output_type": "stream",
          "text": [
            "tensor([[2., 2.],\n",
            "        [2., 2.]])\n"
          ],
          "name": "stdout"
        }
      ]
    },
    {
      "cell_type": "code",
      "metadata": {
        "id": "c1cVVR7b3WjS"
      },
      "source": [
        "import torch.nn as nn\n",
        "import torch.nn.functional as f "
      ],
      "execution_count": null,
      "outputs": []
    },
    {
      "cell_type": "markdown",
      "metadata": {
        "id": "bU-s67D83kJN"
      },
      "source": [
        "# 3. Import data and customizing"
      ]
    },
    {
      "cell_type": "code",
      "metadata": {
        "id": "i22unUEM3hXz"
      },
      "source": [
        "import torch\n",
        "import torchvision\n",
        "import torchvision.transforms as tr\n",
        "from torch.utils.data import DataLoader, Dataset\n",
        "import numpy as np"
      ],
      "execution_count": null,
      "outputs": []
    },
    {
      "cell_type": "markdown",
      "metadata": {
        "id": "nsdvDHBD5MKs"
      },
      "source": [
        "## 3.1. 파이토치 제공 데이터 사용"
      ]
    },
    {
      "cell_type": "code",
      "metadata": {
        "id": "H3N_Ldhe5ubj"
      },
      "source": [
        "transf = tr.Compose([tr.Resize(8), tr.ToTensor()])\n",
        "# Transforms on PIL Image\n",
        "# Pad, Grayscale, RandomCrop, Normalize ...\n",
        "# Transfroms on torch.*Tensor - tensor image\n",
        "# torchvision.transforms.ToPILImage(mode=None)...\n"
      ],
      "execution_count": null,
      "outputs": []
    },
    {
      "cell_type": "code",
      "metadata": {
        "id": "Ps8Uspl54EqV",
        "outputId": "e1928cfa-e89b-4eaf-f255-d3913f214375",
        "colab": {
          "base_uri": "https://localhost:8080/",
          "height": 103,
          "referenced_widgets": [
            "2b59469566b244ee834b32a4701ec77f",
            "1c6c35b5cf1f48308a171a038a7a4fd3",
            "545d7a61075a41bfb75d567c0bd8d54b",
            "acbc63c55f564ea7bb49eecfc20c9477",
            "7c3ced4d92274a509df61958da053622",
            "18ea64150dc24a799d81e9a0044a87d0",
            "d55bbfdf1e0e4819a945863b4efbc762",
            "34c0e6107caf4594bdb8671453a11b96"
          ]
        }
      },
      "source": [
        "trainset = torchvision.datasets.CIFAR10(root = './sample_data', train = True, download = True, transform = transf)\n",
        "testset = torchvision.datasets.CIFAR10(root = './sample_data', train = False, download = True, transform = transf)"
      ],
      "execution_count": null,
      "outputs": [
        {
          "output_type": "stream",
          "text": [
            "Downloading https://www.cs.toronto.edu/~kriz/cifar-10-python.tar.gz to ./sample_data/cifar-10-python.tar.gz\n"
          ],
          "name": "stdout"
        },
        {
          "output_type": "display_data",
          "data": {
            "application/vnd.jupyter.widget-view+json": {
              "model_id": "2b59469566b244ee834b32a4701ec77f",
              "version_minor": 0,
              "version_major": 2
            },
            "text/plain": [
              "HBox(children=(FloatProgress(value=1.0, bar_style='info', max=1.0), HTML(value='')))"
            ]
          },
          "metadata": {
            "tags": []
          }
        },
        {
          "output_type": "stream",
          "text": [
            "Extracting ./sample_data/cifar-10-python.tar.gz to ./sample_data\n",
            "Files already downloaded and verified\n"
          ],
          "name": "stdout"
        }
      ]
    },
    {
      "cell_type": "code",
      "metadata": {
        "id": "UTAPbDhf-hpf",
        "outputId": "c6a58d50-9be2-44e2-8789-5de9411dbd1b",
        "colab": {
          "base_uri": "https://localhost:8080/",
          "height": 35
        }
      },
      "source": [
        "trainset[0][0].size()"
      ],
      "execution_count": null,
      "outputs": [
        {
          "output_type": "execute_result",
          "data": {
            "text/plain": [
              "torch.Size([3, 8, 8])"
            ]
          },
          "metadata": {
            "tags": []
          },
          "execution_count": 40
        }
      ]
    },
    {
      "cell_type": "code",
      "metadata": {
        "id": "MbysPk1M_DTn",
        "outputId": "963ac9c1-fa34-4c91-deb2-4c8b4fda6c48",
        "colab": {
          "base_uri": "https://localhost:8080/",
          "height": 35
        }
      },
      "source": [
        "trainset[0][1]"
      ],
      "execution_count": null,
      "outputs": [
        {
          "output_type": "execute_result",
          "data": {
            "text/plain": [
              "6"
            ]
          },
          "metadata": {
            "tags": []
          },
          "execution_count": 41
        }
      ]
    },
    {
      "cell_type": "code",
      "metadata": {
        "id": "OmwCVlmO_IQM"
      },
      "source": [
        "trainloader = DataLoader(trainset, batch_size = 50, shuffle= True, num_workers = 2)\n",
        "testloader = DataLoader(testset, batch_size = 50, shuffle= True, num_workers = 2)"
      ],
      "execution_count": null,
      "outputs": []
    },
    {
      "cell_type": "code",
      "metadata": {
        "id": "R8RNhijo_vEL",
        "outputId": "85349019-3ae3-4ab8-cce9-97767fa60518",
        "colab": {
          "base_uri": "https://localhost:8080/",
          "height": 35
        }
      },
      "source": [
        "len(trainloader) # total 50000 data, batch_size is 50, so batch is 1000."
      ],
      "execution_count": null,
      "outputs": [
        {
          "output_type": "execute_result",
          "data": {
            "text/plain": [
              "1000"
            ]
          },
          "metadata": {
            "tags": []
          },
          "execution_count": 43
        }
      ]
    },
    {
      "cell_type": "code",
      "metadata": {
        "id": "IJSogXjv_5qF"
      },
      "source": [
        "dataiter = iter(trainloader)\n",
        "images, labels = dataiter.next()"
      ],
      "execution_count": null,
      "outputs": []
    },
    {
      "cell_type": "code",
      "metadata": {
        "id": "KUS1Wxv4ALjl",
        "outputId": "0a82344a-26ac-4a93-9684-faad9dd80e6b",
        "colab": {
          "base_uri": "https://localhost:8080/",
          "height": 35
        }
      },
      "source": [
        "images.size() # batch size, channel #, size"
      ],
      "execution_count": null,
      "outputs": [
        {
          "output_type": "execute_result",
          "data": {
            "text/plain": [
              "torch.Size([50, 3, 8, 8])"
            ]
          },
          "metadata": {
            "tags": []
          },
          "execution_count": 45
        }
      ]
    },
    {
      "cell_type": "markdown",
      "metadata": {
        "id": "Dgper-krAfJO"
      },
      "source": [
        "## 3.2. 같은 클래스 별 폴더 이미지 데이터 이용"
      ]
    },
    {
      "cell_type": "code",
      "metadata": {
        "id": "NgHhbIcTAQBV",
        "outputId": "27f0d652-7d92-41aa-a171-8149a7131da3",
        "colab": {
          "base_uri": "https://localhost:8080/",
          "height": 412
        }
      },
      "source": [
        "# ./class/tiger ./class/lion\n",
        "transf = tr.Compose([tr.Resize(16), tr.ToTensor()])\n",
        "trainset = torchvision.datasets.ImageFolder(root='./class', transform=transf)\n",
        "trainloader = DataLoader(trainset, batch_size = 10, shuffle = False, num_workder = 2)\n",
        "print(len(trainloader))\n",
        "print(trainset[0][0].size())"
      ],
      "execution_count": null,
      "outputs": [
        {
          "output_type": "stream",
          "text": [
            "\n"
          ],
          "name": "stdout"
        },
        {
          "output_type": "error",
          "ename": "FileNotFoundError",
          "evalue": "ignored",
          "traceback": [
            "\u001b[0;31m---------------------------------------------------------------------------\u001b[0m",
            "\u001b[0;31mFileNotFoundError\u001b[0m                         Traceback (most recent call last)",
            "\u001b[0;32m<ipython-input-46-ce8f5bf13a61>\u001b[0m in \u001b[0;36m<module>\u001b[0;34m()\u001b[0m\n\u001b[1;32m      1\u001b[0m \u001b[0;31m# ./class/tiger ./class/lion\u001b[0m\u001b[0;34m\u001b[0m\u001b[0;34m\u001b[0m\u001b[0;34m\u001b[0m\u001b[0m\n\u001b[1;32m      2\u001b[0m \u001b[0mtransf\u001b[0m \u001b[0;34m=\u001b[0m \u001b[0mtr\u001b[0m\u001b[0;34m.\u001b[0m\u001b[0mCompose\u001b[0m\u001b[0;34m(\u001b[0m\u001b[0;34m[\u001b[0m\u001b[0mtr\u001b[0m\u001b[0;34m.\u001b[0m\u001b[0mResize\u001b[0m\u001b[0;34m(\u001b[0m\u001b[0;36m16\u001b[0m\u001b[0;34m)\u001b[0m\u001b[0;34m,\u001b[0m \u001b[0mtr\u001b[0m\u001b[0;34m.\u001b[0m\u001b[0mToTensor\u001b[0m\u001b[0;34m(\u001b[0m\u001b[0;34m)\u001b[0m\u001b[0;34m]\u001b[0m\u001b[0;34m)\u001b[0m\u001b[0;34m\u001b[0m\u001b[0;34m\u001b[0m\u001b[0m\n\u001b[0;32m----> 3\u001b[0;31m \u001b[0mtrainset\u001b[0m \u001b[0;34m=\u001b[0m \u001b[0mtorchvision\u001b[0m\u001b[0;34m.\u001b[0m\u001b[0mdatasets\u001b[0m\u001b[0;34m.\u001b[0m\u001b[0mImageFolder\u001b[0m\u001b[0;34m(\u001b[0m\u001b[0mroot\u001b[0m\u001b[0;34m=\u001b[0m\u001b[0;34m'./class'\u001b[0m\u001b[0;34m,\u001b[0m \u001b[0mtransform\u001b[0m\u001b[0;34m=\u001b[0m\u001b[0mtransf\u001b[0m\u001b[0;34m)\u001b[0m\u001b[0;34m\u001b[0m\u001b[0;34m\u001b[0m\u001b[0m\n\u001b[0m\u001b[1;32m      4\u001b[0m \u001b[0mtrainloader\u001b[0m \u001b[0;34m=\u001b[0m \u001b[0mDataLoader\u001b[0m\u001b[0;34m(\u001b[0m\u001b[0mtrainset\u001b[0m\u001b[0;34m,\u001b[0m \u001b[0mbatch_size\u001b[0m \u001b[0;34m=\u001b[0m \u001b[0;36m10\u001b[0m\u001b[0;34m,\u001b[0m \u001b[0mshuffle\u001b[0m \u001b[0;34m=\u001b[0m \u001b[0;32mFalse\u001b[0m\u001b[0;34m,\u001b[0m \u001b[0mnum_workder\u001b[0m \u001b[0;34m=\u001b[0m \u001b[0;36m2\u001b[0m\u001b[0;34m)\u001b[0m\u001b[0;34m\u001b[0m\u001b[0;34m\u001b[0m\u001b[0m\n\u001b[1;32m      5\u001b[0m \u001b[0mprint\u001b[0m\u001b[0;34m(\u001b[0m\u001b[0mlen\u001b[0m\u001b[0;34m(\u001b[0m\u001b[0mtrainloader\u001b[0m\u001b[0;34m)\u001b[0m\u001b[0;34m)\u001b[0m\u001b[0;34m\u001b[0m\u001b[0;34m\u001b[0m\u001b[0m\n",
            "\u001b[0;32m/usr/local/lib/python3.6/dist-packages/torchvision/datasets/folder.py\u001b[0m in \u001b[0;36m__init__\u001b[0;34m(self, root, transform, target_transform, loader, is_valid_file)\u001b[0m\n\u001b[1;32m    206\u001b[0m                                           \u001b[0mtransform\u001b[0m\u001b[0;34m=\u001b[0m\u001b[0mtransform\u001b[0m\u001b[0;34m,\u001b[0m\u001b[0;34m\u001b[0m\u001b[0;34m\u001b[0m\u001b[0m\n\u001b[1;32m    207\u001b[0m                                           \u001b[0mtarget_transform\u001b[0m\u001b[0;34m=\u001b[0m\u001b[0mtarget_transform\u001b[0m\u001b[0;34m,\u001b[0m\u001b[0;34m\u001b[0m\u001b[0;34m\u001b[0m\u001b[0m\n\u001b[0;32m--> 208\u001b[0;31m                                           is_valid_file=is_valid_file)\n\u001b[0m\u001b[1;32m    209\u001b[0m         \u001b[0mself\u001b[0m\u001b[0;34m.\u001b[0m\u001b[0mimgs\u001b[0m \u001b[0;34m=\u001b[0m \u001b[0mself\u001b[0m\u001b[0;34m.\u001b[0m\u001b[0msamples\u001b[0m\u001b[0;34m\u001b[0m\u001b[0;34m\u001b[0m\u001b[0m\n",
            "\u001b[0;32m/usr/local/lib/python3.6/dist-packages/torchvision/datasets/folder.py\u001b[0m in \u001b[0;36m__init__\u001b[0;34m(self, root, loader, extensions, transform, target_transform, is_valid_file)\u001b[0m\n\u001b[1;32m     92\u001b[0m         super(DatasetFolder, self).__init__(root, transform=transform,\n\u001b[1;32m     93\u001b[0m                                             target_transform=target_transform)\n\u001b[0;32m---> 94\u001b[0;31m         \u001b[0mclasses\u001b[0m\u001b[0;34m,\u001b[0m \u001b[0mclass_to_idx\u001b[0m \u001b[0;34m=\u001b[0m \u001b[0mself\u001b[0m\u001b[0;34m.\u001b[0m\u001b[0m_find_classes\u001b[0m\u001b[0;34m(\u001b[0m\u001b[0mself\u001b[0m\u001b[0;34m.\u001b[0m\u001b[0mroot\u001b[0m\u001b[0;34m)\u001b[0m\u001b[0;34m\u001b[0m\u001b[0;34m\u001b[0m\u001b[0m\n\u001b[0m\u001b[1;32m     95\u001b[0m         \u001b[0msamples\u001b[0m \u001b[0;34m=\u001b[0m \u001b[0mmake_dataset\u001b[0m\u001b[0;34m(\u001b[0m\u001b[0mself\u001b[0m\u001b[0;34m.\u001b[0m\u001b[0mroot\u001b[0m\u001b[0;34m,\u001b[0m \u001b[0mclass_to_idx\u001b[0m\u001b[0;34m,\u001b[0m \u001b[0mextensions\u001b[0m\u001b[0;34m,\u001b[0m \u001b[0mis_valid_file\u001b[0m\u001b[0;34m)\u001b[0m\u001b[0;34m\u001b[0m\u001b[0;34m\u001b[0m\u001b[0m\n\u001b[1;32m     96\u001b[0m         \u001b[0;32mif\u001b[0m \u001b[0mlen\u001b[0m\u001b[0;34m(\u001b[0m\u001b[0msamples\u001b[0m\u001b[0;34m)\u001b[0m \u001b[0;34m==\u001b[0m \u001b[0;36m0\u001b[0m\u001b[0;34m:\u001b[0m\u001b[0;34m\u001b[0m\u001b[0;34m\u001b[0m\u001b[0m\n",
            "\u001b[0;32m/usr/local/lib/python3.6/dist-packages/torchvision/datasets/folder.py\u001b[0m in \u001b[0;36m_find_classes\u001b[0;34m(self, dir)\u001b[0m\n\u001b[1;32m    121\u001b[0m             \u001b[0mNo\u001b[0m \u001b[0;32mclass\u001b[0m \u001b[0;32mis\u001b[0m \u001b[0ma\u001b[0m \u001b[0msubdirectory\u001b[0m \u001b[0mof\u001b[0m \u001b[0manother\u001b[0m\u001b[0;34m.\u001b[0m\u001b[0;34m\u001b[0m\u001b[0;34m\u001b[0m\u001b[0m\n\u001b[1;32m    122\u001b[0m         \"\"\"\n\u001b[0;32m--> 123\u001b[0;31m         \u001b[0mclasses\u001b[0m \u001b[0;34m=\u001b[0m \u001b[0;34m[\u001b[0m\u001b[0md\u001b[0m\u001b[0;34m.\u001b[0m\u001b[0mname\u001b[0m \u001b[0;32mfor\u001b[0m \u001b[0md\u001b[0m \u001b[0;32min\u001b[0m \u001b[0mos\u001b[0m\u001b[0;34m.\u001b[0m\u001b[0mscandir\u001b[0m\u001b[0;34m(\u001b[0m\u001b[0mdir\u001b[0m\u001b[0;34m)\u001b[0m \u001b[0;32mif\u001b[0m \u001b[0md\u001b[0m\u001b[0;34m.\u001b[0m\u001b[0mis_dir\u001b[0m\u001b[0;34m(\u001b[0m\u001b[0;34m)\u001b[0m\u001b[0;34m]\u001b[0m\u001b[0;34m\u001b[0m\u001b[0;34m\u001b[0m\u001b[0m\n\u001b[0m\u001b[1;32m    124\u001b[0m         \u001b[0mclasses\u001b[0m\u001b[0;34m.\u001b[0m\u001b[0msort\u001b[0m\u001b[0;34m(\u001b[0m\u001b[0;34m)\u001b[0m\u001b[0;34m\u001b[0m\u001b[0;34m\u001b[0m\u001b[0m\n\u001b[1;32m    125\u001b[0m         \u001b[0mclass_to_idx\u001b[0m \u001b[0;34m=\u001b[0m \u001b[0;34m{\u001b[0m\u001b[0mcls_name\u001b[0m\u001b[0;34m:\u001b[0m \u001b[0mi\u001b[0m \u001b[0;32mfor\u001b[0m \u001b[0mi\u001b[0m\u001b[0;34m,\u001b[0m \u001b[0mcls_name\u001b[0m \u001b[0;32min\u001b[0m \u001b[0menumerate\u001b[0m\u001b[0;34m(\u001b[0m\u001b[0mclasses\u001b[0m\u001b[0;34m)\u001b[0m\u001b[0;34m}\u001b[0m\u001b[0;34m\u001b[0m\u001b[0;34m\u001b[0m\u001b[0m\n",
            "\u001b[0;31mFileNotFoundError\u001b[0m: [Errno 2] No such file or directory: './class'"
          ]
        }
      ]
    },
    {
      "cell_type": "markdown",
      "metadata": {
        "id": "vbahHcB7BeS4"
      },
      "source": [
        "## 3.3 개인 데이터 사용(2 types)"
      ]
    },
    {
      "cell_type": "code",
      "metadata": {
        "id": "983CT8ZDBJBa",
        "outputId": "024dfb1d-fde6-4fe5-f104-06a1dbe0d142",
        "colab": {
          "base_uri": "https://localhost:8080/",
          "height": 35
        }
      },
      "source": [
        "# import preprocessing\n",
        "\n",
        "train_images = np.random.randint(256, size=(20, 32, 32, 3))\n",
        "train_labels = np.random.randint(2, size = (20, 1) )\n",
        "\n",
        "# preprocessing\n",
        "# train_images, train_labels = preprocessing(train_images, train_labels)\n",
        "\n",
        "print(train_images.shape, train_labels.shape)"
      ],
      "execution_count": null,
      "outputs": [
        {
          "output_type": "stream",
          "text": [
            "(20, 32, 32, 3) (20, 1)\n"
          ],
          "name": "stdout"
        }
      ]
    },
    {
      "cell_type": "code",
      "metadata": {
        "id": "lZnyJImYCADC"
      },
      "source": [
        "class TensorData(Dataset):\n",
        "\n",
        "    def __init__(self, x_data, y_data):\n",
        "        self.x_data = torch.FloatTensor(x_data)\n",
        "        self.x_data = self.x_data.permute(0, 3, 1, 2) # 이미지 개수, 채널 수, 이미지 너비, 높이\n",
        "        self.y_data = torch.LongTensor(y_data)\n",
        "        self.len = self.y_data.shape[0]\n",
        "\n",
        "    def __getitem__(self, index):\n",
        "\n",
        "        return self.x_data[index], self.y_data[index]\n",
        "\n",
        "    def __len__(self):\n",
        "\n",
        "        return self.len\n",
        "\n"
      ],
      "execution_count": null,
      "outputs": []
    },
    {
      "cell_type": "code",
      "metadata": {
        "id": "BmS08-8zrp3z"
      },
      "source": [
        "train_data = TensorData(train_images, train_labels)\n",
        "train_loader = DataLoader(train_data, batch_size = 10, shuffle = True)"
      ],
      "execution_count": null,
      "outputs": []
    },
    {
      "cell_type": "code",
      "metadata": {
        "id": "QYiWqNN1r-HT",
        "outputId": "ed0b8fc7-fb56-4ace-ffdd-2de0f41c8c12",
        "colab": {
          "base_uri": "https://localhost:8080/",
          "height": 35
        }
      },
      "source": [
        "train_data[0][0].size()"
      ],
      "execution_count": null,
      "outputs": [
        {
          "output_type": "execute_result",
          "data": {
            "text/plain": [
              "torch.Size([3, 32, 32])"
            ]
          },
          "metadata": {
            "tags": []
          },
          "execution_count": 55
        }
      ]
    },
    {
      "cell_type": "code",
      "metadata": {
        "id": "XPLElwphsMlS"
      },
      "source": [
        "dataiter = iter(train_loader)\n",
        "images, labels = dataiter.next()"
      ],
      "execution_count": null,
      "outputs": []
    },
    {
      "cell_type": "code",
      "metadata": {
        "id": "fLi7jLTeshhz",
        "outputId": "251a14e9-02b6-4b1e-d2a5-cd9c9995fb5b",
        "colab": {
          "base_uri": "https://localhost:8080/",
          "height": 35
        }
      },
      "source": [
        "images.size()"
      ],
      "execution_count": null,
      "outputs": [
        {
          "output_type": "execute_result",
          "data": {
            "text/plain": [
              "torch.Size([10, 3, 32, 32])"
            ]
          },
          "metadata": {
            "tags": []
          },
          "execution_count": 57
        }
      ]
    },
    {
      "cell_type": "markdown",
      "metadata": {
        "id": "x49oXpzOtgFz"
      },
      "source": [
        "from torch.utils.data import Dataset\n",
        "\n",
        "class MyDataset(Dataset):\n",
        "\n",
        "    def __init__(self):\n",
        "\n",
        "    def __gettime__(self, index):\n",
        "\n",
        "    def __len__(self):\n",
        "        "
      ]
    },
    {
      "cell_type": "code",
      "metadata": {
        "id": "g0rPc0ctsktj"
      },
      "source": [
        "# memorize this format\n",
        "from torch.utils.data import Dataset\n",
        "\n",
        "class MyDataset(Dataset):\n",
        "\n",
        "    def __init__(self, x_data, y_data, transform = None):\n",
        "        self.x_data = x_data\n",
        "        self.y_data = y_data\n",
        "        self.transform = transform\n",
        "        self.len = len(y_data)\n",
        "\n",
        "    def __getitem__(self, index):\n",
        "        sample = self.x_data[index], self.y_data[index]\n",
        "\n",
        "        if self.transform:\n",
        "            sample = self.transform(sample)\n",
        "\n",
        "        return sample\n",
        "\n",
        "    def __len__(self):\n",
        "        return self.len\n",
        "\n",
        "class ToTensor:\n",
        "  \n",
        "    def __call__(self, sample):\n",
        "        inputs, labels = sample\n",
        "        inputs = torch.FloatTensor(inputs)\n",
        "        inputs = inputs.permute(2, 0, 1)\n",
        "        return inputs, torch.LongTensor(labels)\n",
        "\n",
        "class LinearTensor:\n",
        "\n",
        "    def __init__(self, slope = 1, bias = 0):\n",
        "        self.slope = slope\n",
        "        self.bias = bias\n",
        "\n",
        "    def __call__(self, sample):\n",
        "        inputs, labels = sample\n",
        "        inputs = self.slope * inputs + self.bias\n",
        "        return inputs, labels"
      ],
      "execution_count": null,
      "outputs": []
    },
    {
      "cell_type": "code",
      "metadata": {
        "id": "tpIniAG6vVpA"
      },
      "source": [
        "trans = tr.Compose([ToTensor(), LinearTensor(2, 5)]) # vs. transf = tr.Compose([tr.Resize(8), tr.ToTensor()])\n",
        "\n",
        "ds1 = MyDataset(train_images, train_labels, transform = trans)\n",
        "train_loader1 = DataLoader(ds1, batch_size = 10, shuffle = True)"
      ],
      "execution_count": null,
      "outputs": []
    },
    {
      "cell_type": "code",
      "metadata": {
        "id": "DFxzl3cwwSA7",
        "outputId": "ad164c03-362b-4cc5-a036-f1a2f6c16651",
        "colab": {
          "base_uri": "https://localhost:8080/",
          "height": 35
        }
      },
      "source": [
        "first_data = ds1[0]\n",
        "features, labels = first_data\n",
        "print(type(features), type(labels))"
      ],
      "execution_count": null,
      "outputs": [
        {
          "output_type": "stream",
          "text": [
            "<class 'torch.Tensor'> <class 'torch.Tensor'>\n"
          ],
          "name": "stdout"
        }
      ]
    },
    {
      "cell_type": "code",
      "metadata": {
        "id": "WaI0VX9awlkU"
      },
      "source": [
        "dataiter1 = iter(train_loader1)\n",
        "images1, labels1 = dataiter1.next()"
      ],
      "execution_count": null,
      "outputs": []
    },
    {
      "cell_type": "code",
      "metadata": {
        "id": "GihERZ_DyRJf",
        "outputId": "90710f9f-e176-44ff-98c6-5381bdc6ff83",
        "colab": {
          "base_uri": "https://localhost:8080/",
          "height": 1000
        }
      },
      "source": [
        "images1"
      ],
      "execution_count": null,
      "outputs": [
        {
          "output_type": "execute_result",
          "data": {
            "text/plain": [
              "tensor([[[[133., 499., 193.,  ..., 201., 389.,  91.],\n",
              "          [271., 377., 181.,  ..., 291., 499., 387.],\n",
              "          [379., 455.,   9.,  ...,  15., 325., 477.],\n",
              "          ...,\n",
              "          [269., 291.,  31.,  ...,  17., 119.,  15.],\n",
              "          [485., 259., 163.,  ..., 213.,  79., 201.],\n",
              "          [481., 429., 339.,  ..., 315., 103., 213.]],\n",
              "\n",
              "         [[327., 175., 255.,  ..., 473., 249.,  51.],\n",
              "          [247., 297., 381.,  ...,  67., 347.,  99.],\n",
              "          [111., 503., 375.,  ..., 379.,  89., 301.],\n",
              "          ...,\n",
              "          [391., 297.,  55.,  ..., 173., 117., 421.],\n",
              "          [419., 183., 335.,  ..., 361.,  17., 161.],\n",
              "          [473., 445., 389.,  ...,  43., 287.,  49.]],\n",
              "\n",
              "         [[469., 235., 511.,  ..., 411., 317.,  13.],\n",
              "          [403., 239., 181.,  ..., 431.,  33., 371.],\n",
              "          [235.,  21., 391.,  ..., 479.,  37., 205.],\n",
              "          ...,\n",
              "          [305., 405., 333.,  ..., 313., 307., 159.],\n",
              "          [ 55., 409., 129.,  ..., 399., 473., 377.],\n",
              "          [353., 507., 405.,  ..., 381., 239., 235.]]],\n",
              "\n",
              "\n",
              "        [[[ 37., 321., 341.,  ...,  83., 455., 265.],\n",
              "          [157., 195., 171.,  ..., 397., 275., 389.],\n",
              "          [373.,   9., 141.,  ...,  77.,  67., 197.],\n",
              "          ...,\n",
              "          [ 67., 345., 187.,  ..., 361., 181., 203.],\n",
              "          [ 47., 277., 355.,  ..., 353.,  77.,  75.],\n",
              "          [ 71., 121., 399.,  ..., 381., 339., 217.]],\n",
              "\n",
              "         [[313., 261., 351.,  ..., 157., 289., 265.],\n",
              "          [ 85., 161., 119.,  ..., 435., 207., 187.],\n",
              "          [249., 489., 295.,  ..., 483.,  17., 311.],\n",
              "          ...,\n",
              "          [109., 357., 183.,  ...,  99., 123., 169.],\n",
              "          [379., 239.,  81.,  ..., 229., 109., 289.],\n",
              "          [111., 331., 415.,  ..., 343., 303., 151.]],\n",
              "\n",
              "         [[ 45., 411.,  95.,  ..., 443., 491., 331.],\n",
              "          [269., 501., 261.,  ..., 417., 421., 229.],\n",
              "          [143., 425., 329.,  ..., 287., 485., 211.],\n",
              "          ...,\n",
              "          [173., 461., 199.,  ..., 217., 285.,  17.],\n",
              "          [131., 185.,  17.,  ..., 385.,  41., 375.],\n",
              "          [395., 475., 107.,  ..., 249., 107., 173.]]],\n",
              "\n",
              "\n",
              "        [[[ 27.,  59., 311.,  ...,  71., 441., 211.],\n",
              "          [ 19.,  47.,  57.,  ..., 505.,  23., 293.],\n",
              "          [ 37., 217., 295.,  ..., 185., 507., 181.],\n",
              "          ...,\n",
              "          [363., 117., 303.,  ..., 361., 353.,  31.],\n",
              "          [ 17.,  39., 223.,  ..., 283., 297.,  13.],\n",
              "          [141., 277.,  95.,  ..., 351., 233., 487.]],\n",
              "\n",
              "         [[375., 171., 209.,  ...,  41., 455., 415.],\n",
              "          [ 95., 375., 395.,  ...,   5., 309., 231.],\n",
              "          [281.,  31., 443.,  ..., 145., 341., 259.],\n",
              "          ...,\n",
              "          [263., 381.,  31.,  ..., 145., 455., 181.],\n",
              "          [457., 421., 147.,  ..., 335.,  25., 167.],\n",
              "          [489., 191.,  75.,  ...,  55., 281., 309.]],\n",
              "\n",
              "         [[171., 353., 329.,  ..., 467., 209., 431.],\n",
              "          [235., 485., 499.,  ..., 357., 337., 217.],\n",
              "          [139., 191.,  35.,  ...,  55., 327., 405.],\n",
              "          ...,\n",
              "          [467., 449.,   9.,  ...,  59., 163., 209.],\n",
              "          [227., 483., 475.,  ..., 343.,  95., 451.],\n",
              "          [ 41.,  49., 141.,  ..., 295., 449., 147.]]],\n",
              "\n",
              "\n",
              "        ...,\n",
              "\n",
              "\n",
              "        [[[363., 133., 207.,  ..., 223.,  81., 159.],\n",
              "          [ 15., 501., 503.,  ..., 159., 251., 509.],\n",
              "          [479., 301.,  15.,  ..., 319., 221., 185.],\n",
              "          ...,\n",
              "          [267., 461., 185.,  ..., 483.,  33., 101.],\n",
              "          [363.,  83., 329.,  ...,  11.,  77., 121.],\n",
              "          [319., 221.,  93.,  ..., 151., 111., 313.]],\n",
              "\n",
              "         [[259., 251.,  51.,  ...,  39., 285., 313.],\n",
              "          [209., 325., 513.,  ...,  11., 329.,  25.],\n",
              "          [ 65.,  67., 401.,  ..., 465., 361., 255.],\n",
              "          ...,\n",
              "          [123., 445., 259.,  ..., 219.,  49., 127.],\n",
              "          [213., 359., 483.,  ...,  11., 505.,  97.],\n",
              "          [ 27., 415., 115.,  ..., 313.,  13., 405.]],\n",
              "\n",
              "         [[205.,  25., 145.,  ..., 465., 275., 207.],\n",
              "          [ 89., 437.,  43.,  ..., 495., 223., 359.],\n",
              "          [ 21., 341., 243.,  ..., 427., 389., 313.],\n",
              "          ...,\n",
              "          [155., 343.,  81.,  ..., 201., 295., 165.],\n",
              "          [431., 159., 423.,  ..., 147.,  93., 437.],\n",
              "          [515., 313., 453.,  ..., 103., 205., 461.]]],\n",
              "\n",
              "\n",
              "        [[[379., 199., 109.,  ...,  15., 145., 505.],\n",
              "          [363., 145., 261.,  ..., 195., 283., 447.],\n",
              "          [213., 201., 361.,  ...,  31., 199., 313.],\n",
              "          ...,\n",
              "          [  7., 419., 121.,  ..., 459., 307., 501.],\n",
              "          [407., 481., 469.,  ..., 229., 425.,  15.],\n",
              "          [133., 381.,  73.,  ..., 457., 367., 269.]],\n",
              "\n",
              "         [[115., 315., 501.,  ..., 103., 377., 397.],\n",
              "          [ 93., 513.,  53.,  ..., 145., 433., 125.],\n",
              "          [475., 439., 403.,  ..., 255., 139., 287.],\n",
              "          ...,\n",
              "          [215., 375., 421.,  ..., 337., 183.,   5.],\n",
              "          [ 55., 461., 265.,  ..., 285., 167., 509.],\n",
              "          [ 29., 157., 279.,  ...,  17., 477., 499.]],\n",
              "\n",
              "         [[ 41., 219., 363.,  ..., 423., 491.,  19.],\n",
              "          [ 75., 133., 269.,  ..., 231., 417.,  55.],\n",
              "          [409., 169., 267.,  ...,  29.,  25., 177.],\n",
              "          ...,\n",
              "          [351., 295., 149.,  ..., 203., 141.,  45.],\n",
              "          [441.,  93., 233.,  ..., 447.,  89., 303.],\n",
              "          [185., 155., 471.,  ..., 189., 111., 515.]]],\n",
              "\n",
              "\n",
              "        [[[235., 175.,  89.,  ..., 439., 155., 355.],\n",
              "          [161.,  55.,  73.,  ..., 147.,  95., 115.],\n",
              "          [195., 339., 367.,  ...,  45., 177., 301.],\n",
              "          ...,\n",
              "          [279., 227., 423.,  ..., 229.,  61., 513.],\n",
              "          [335., 271., 181.,  ..., 441., 309., 477.],\n",
              "          [495., 511., 383.,  ..., 121., 123., 369.]],\n",
              "\n",
              "         [[ 49.,  59., 443.,  ..., 161., 173., 109.],\n",
              "          [483., 243., 411.,  ..., 327., 201., 325.],\n",
              "          [283.,   9.,  81.,  ..., 247.,  47., 493.],\n",
              "          ...,\n",
              "          [175., 209., 463.,  ..., 305., 491., 505.],\n",
              "          [137., 289., 457.,  ..., 463., 477., 127.],\n",
              "          [ 69., 187., 403.,  ..., 407., 513.,  49.]],\n",
              "\n",
              "         [[463., 383., 139.,  ..., 271., 179., 361.],\n",
              "          [319., 505., 205.,  ..., 247., 457., 111.],\n",
              "          [173.,  21.,  79.,  ..., 137., 285., 127.],\n",
              "          ...,\n",
              "          [ 41., 487., 455.,  ...,  31., 495.,  95.],\n",
              "          [171., 147., 365.,  ..., 177., 371.,  45.],\n",
              "          [161., 513.,  17.,  ...,  85., 177., 479.]]]])"
            ]
          },
          "metadata": {
            "tags": []
          },
          "execution_count": 81
        }
      ]
    },
    {
      "cell_type": "code",
      "metadata": {
        "id": "cx-cUTsjyWCM"
      },
      "source": [
        "class MyDataset(Dataset):\n",
        "\n",
        "    def __init__(self, x_data, y_data, transform = None):\n",
        "        self.x_data = x_data\n",
        "        self.y_data = y_data\n",
        "        self.transform = transform\n",
        "        self.len = len(y_data)\n",
        "\n",
        "    def __getitem__(self, index):\n",
        "        sample = self.x_data[index], self.y_data[index]\n",
        "\n",
        "        if self.transform:\n",
        "            sample = self.transform(sample)\n",
        "\n",
        "        return sample\n",
        "\n",
        "    def __len__(self):\n",
        "        return self.len\n",
        "\n",
        "class MyTransform:\n",
        "\n",
        "    def __call__(self, sample):\n",
        "        inputs, labels = sample\n",
        "        inputs = torch.FloatTensor(inputs)\n",
        "        inputs = inputs.permute(2, 0, 1)\n",
        "        labels = torch.FloatTensor(labels)\n",
        "\n",
        "        transf = tr.Compose([tr.ToPILImage(), tr.Resize(128), tr.ToTensor() ])\n",
        "        final_output = transf(inputs)\n",
        "\n",
        "        return final_output, labels"
      ],
      "execution_count": null,
      "outputs": []
    },
    {
      "cell_type": "code",
      "metadata": {
        "id": "gDtF4DUnzhL1"
      },
      "source": [
        "ds2 = MyDataset(train_images, train_labels, transform = MyTransform() )\n",
        "train_loader2 = DataLoader(ds2, batch_size = 10, shuffle = True)"
      ],
      "execution_count": null,
      "outputs": []
    },
    {
      "cell_type": "code",
      "metadata": {
        "id": "No9QX0auzzwN",
        "outputId": "9a9a30b7-4ea3-4abe-803c-a055f7565f0a",
        "colab": {
          "base_uri": "https://localhost:8080/",
          "height": 35
        }
      },
      "source": [
        "first_data = ds2[0]\n",
        "features, labels = first_data\n",
        "print(type(features), type(labels))"
      ],
      "execution_count": null,
      "outputs": [
        {
          "output_type": "stream",
          "text": [
            "<class 'torch.Tensor'> <class 'torch.Tensor'>\n"
          ],
          "name": "stdout"
        }
      ]
    },
    {
      "cell_type": "code",
      "metadata": {
        "id": "3fxI7d21z2UN"
      },
      "source": [
        "dataiter2 = iter(train_loader2)\n",
        "images2, labels2 = dataiter2.next()"
      ],
      "execution_count": null,
      "outputs": []
    },
    {
      "cell_type": "code",
      "metadata": {
        "id": "WCb4zzV70LCV",
        "outputId": "250fbb4c-d303-4e64-d3cc-3193be9baf09",
        "colab": {
          "base_uri": "https://localhost:8080/",
          "height": 35
        }
      },
      "source": [
        "images2.size()"
      ],
      "execution_count": null,
      "outputs": [
        {
          "output_type": "execute_result",
          "data": {
            "text/plain": [
              "torch.Size([10, 3, 128, 128])"
            ]
          },
          "metadata": {
            "tags": []
          },
          "execution_count": 96
        }
      ]
    },
    {
      "cell_type": "code",
      "metadata": {
        "id": "mOR5_mhg0NEt",
        "outputId": "eeda3cb0-7c76-46e5-c937-269eb2dbaa9a",
        "colab": {
          "base_uri": "https://localhost:8080/",
          "height": 1000
        }
      },
      "source": [
        "images2"
      ],
      "execution_count": null,
      "outputs": [
        {
          "output_type": "execute_result",
          "data": {
            "text/plain": [
              "tensor([[[[0.0275, 0.0275, 0.0275,  ..., 0.7843, 0.7882, 0.7882],\n",
              "          [0.0275, 0.0275, 0.0275,  ..., 0.7843, 0.7882, 0.7882],\n",
              "          [0.1137, 0.1137, 0.1098,  ..., 0.7216, 0.7294, 0.7294],\n",
              "          ...,\n",
              "          [0.4000, 0.4000, 0.4275,  ..., 0.1059, 0.0863, 0.0863],\n",
              "          [0.3529, 0.3529, 0.3961,  ..., 0.0627, 0.0431, 0.0431],\n",
              "          [0.3529, 0.3529, 0.3961,  ..., 0.0627, 0.0431, 0.0431]],\n",
              "\n",
              "         [[0.6039, 0.6039, 0.5725,  ..., 0.7765, 0.8196, 0.8196],\n",
              "          [0.6039, 0.6039, 0.5725,  ..., 0.7765, 0.8196, 0.8196],\n",
              "          [0.6078, 0.6078, 0.5725,  ..., 0.6784, 0.7176, 0.7176],\n",
              "          ...,\n",
              "          [0.6353, 0.6353, 0.6314,  ..., 0.4980, 0.5020, 0.5020],\n",
              "          [0.6941, 0.6941, 0.6863,  ..., 0.5373, 0.5412, 0.5412],\n",
              "          [0.6941, 0.6941, 0.6863,  ..., 0.5373, 0.5412, 0.5412]],\n",
              "\n",
              "         [[0.4745, 0.4745, 0.5333,  ..., 0.2471, 0.2039, 0.2039],\n",
              "          [0.4745, 0.4745, 0.5333,  ..., 0.2471, 0.2039, 0.2039],\n",
              "          [0.5137, 0.5137, 0.5569,  ..., 0.2980, 0.2627, 0.2627],\n",
              "          ...,\n",
              "          [0.0980, 0.0980, 0.1490,  ..., 0.3216, 0.2941, 0.2941],\n",
              "          [0.0980, 0.0980, 0.1451,  ..., 0.3373, 0.3098, 0.3098],\n",
              "          [0.0980, 0.0980, 0.1451,  ..., 0.3373, 0.3098, 0.3098]]],\n",
              "\n",
              "\n",
              "        [[[0.4275, 0.4275, 0.4431,  ..., 0.6314, 0.7020, 0.7020],\n",
              "          [0.4275, 0.4275, 0.4431,  ..., 0.6314, 0.7020, 0.7020],\n",
              "          [0.4667, 0.4667, 0.4745,  ..., 0.6431, 0.7020, 0.7020],\n",
              "          ...,\n",
              "          [0.2902, 0.2902, 0.3725,  ..., 0.2745, 0.1882, 0.1882],\n",
              "          [0.2863, 0.2863, 0.3725,  ..., 0.2824, 0.1882, 0.1882],\n",
              "          [0.2863, 0.2863, 0.3725,  ..., 0.2824, 0.1882, 0.1882]],\n",
              "\n",
              "         [[0.4863, 0.4863, 0.4706,  ..., 0.4157, 0.4118, 0.4118],\n",
              "          [0.4863, 0.4863, 0.4706,  ..., 0.4157, 0.4118, 0.4118],\n",
              "          [0.4902, 0.4902, 0.4745,  ..., 0.4588, 0.4549, 0.4549],\n",
              "          ...,\n",
              "          [0.8118, 0.8118, 0.7451,  ..., 0.8314, 0.8863, 0.8863],\n",
              "          [0.8275, 0.8275, 0.7608,  ..., 0.8353, 0.8980, 0.8980],\n",
              "          [0.8275, 0.8275, 0.7608,  ..., 0.8353, 0.8980, 0.8980]],\n",
              "\n",
              "         [[0.1216, 0.1216, 0.1176,  ..., 0.6824, 0.6824, 0.6824],\n",
              "          [0.1216, 0.1216, 0.1176,  ..., 0.6824, 0.6824, 0.6824],\n",
              "          [0.2196, 0.2196, 0.2118,  ..., 0.6039, 0.6000, 0.6000],\n",
              "          ...,\n",
              "          [0.5255, 0.5255, 0.4902,  ..., 0.1294, 0.1294, 0.1294],\n",
              "          [0.4706, 0.4706, 0.4431,  ..., 0.1255, 0.1255, 0.1255],\n",
              "          [0.4706, 0.4706, 0.4431,  ..., 0.1255, 0.1255, 0.1255]]],\n",
              "\n",
              "\n",
              "        [[[0.3020, 0.3020, 0.3569,  ..., 0.7216, 0.7020, 0.7020],\n",
              "          [0.3020, 0.3020, 0.3569,  ..., 0.7216, 0.7020, 0.7020],\n",
              "          [0.3882, 0.3882, 0.4196,  ..., 0.6431, 0.6157, 0.6157],\n",
              "          ...,\n",
              "          [0.3765, 0.3765, 0.4078,  ..., 0.4941, 0.4471, 0.4471],\n",
              "          [0.3882, 0.3882, 0.4118,  ..., 0.4510, 0.4000, 0.4000],\n",
              "          [0.3882, 0.3882, 0.4118,  ..., 0.4510, 0.4000, 0.4000]],\n",
              "\n",
              "         [[0.5059, 0.5059, 0.5098,  ..., 0.4078, 0.4000, 0.4000],\n",
              "          [0.5059, 0.5059, 0.5098,  ..., 0.4078, 0.4000, 0.4000],\n",
              "          [0.5176, 0.5176, 0.5176,  ..., 0.4667, 0.4706, 0.4706],\n",
              "          ...,\n",
              "          [0.9137, 0.9137, 0.8275,  ..., 0.3686, 0.2941, 0.2941],\n",
              "          [0.9608, 0.9608, 0.8667,  ..., 0.3176, 0.2196, 0.2196],\n",
              "          [0.9608, 0.9608, 0.8667,  ..., 0.3176, 0.2196, 0.2196]],\n",
              "\n",
              "         [[0.6118, 0.6118, 0.6549,  ..., 0.5922, 0.6078, 0.6078],\n",
              "          [0.6118, 0.6118, 0.6549,  ..., 0.5922, 0.6078, 0.6078],\n",
              "          [0.6392, 0.6392, 0.6667,  ..., 0.5608, 0.5725, 0.5725],\n",
              "          ...,\n",
              "          [0.0235, 0.0235, 0.0784,  ..., 0.1804, 0.1176, 0.1176],\n",
              "          [0.0039, 0.0039, 0.0549,  ..., 0.1725, 0.1098, 0.1098],\n",
              "          [0.0039, 0.0039, 0.0549,  ..., 0.1725, 0.1098, 0.1098]]],\n",
              "\n",
              "\n",
              "        ...,\n",
              "\n",
              "\n",
              "        [[[0.2863, 0.2863, 0.2745,  ..., 0.7098, 0.7725, 0.7725],\n",
              "          [0.2863, 0.2863, 0.2745,  ..., 0.7098, 0.7725, 0.7725],\n",
              "          [0.2588, 0.2588, 0.2510,  ..., 0.6510, 0.7020, 0.7020],\n",
              "          ...,\n",
              "          [0.8510, 0.8510, 0.8118,  ..., 0.2784, 0.2353, 0.2353],\n",
              "          [0.8902, 0.8902, 0.8510,  ..., 0.2667, 0.2196, 0.2196],\n",
              "          [0.8902, 0.8902, 0.8510,  ..., 0.2667, 0.2196, 0.2196]],\n",
              "\n",
              "         [[0.6353, 0.6353, 0.6824,  ..., 0.1686, 0.1647, 0.1647],\n",
              "          [0.6353, 0.6353, 0.6824,  ..., 0.1686, 0.1647, 0.1647],\n",
              "          [0.5569, 0.5569, 0.6118,  ..., 0.2118, 0.2039, 0.2039],\n",
              "          ...,\n",
              "          [0.3137, 0.3137, 0.3725,  ..., 0.1098, 0.0431, 0.0431],\n",
              "          [0.2863, 0.2863, 0.3529,  ..., 0.1176, 0.0431, 0.0431],\n",
              "          [0.2863, 0.2863, 0.3529,  ..., 0.1176, 0.0431, 0.0431]],\n",
              "\n",
              "         [[0.4353, 0.4353, 0.4078,  ..., 0.2902, 0.2863, 0.2863],\n",
              "          [0.4353, 0.4353, 0.4078,  ..., 0.2902, 0.2863, 0.2863],\n",
              "          [0.4471, 0.4471, 0.4196,  ..., 0.2863, 0.2863, 0.2863],\n",
              "          ...,\n",
              "          [0.2980, 0.2980, 0.3059,  ..., 0.3098, 0.2275, 0.2275],\n",
              "          [0.2196, 0.2196, 0.2314,  ..., 0.2510, 0.1490, 0.1490],\n",
              "          [0.2196, 0.2196, 0.2314,  ..., 0.2510, 0.1490, 0.1490]]],\n",
              "\n",
              "\n",
              "        [[[0.5529, 0.5529, 0.5686,  ..., 0.3686, 0.3176, 0.3176],\n",
              "          [0.5529, 0.5529, 0.5686,  ..., 0.3686, 0.3176, 0.3176],\n",
              "          [0.5725, 0.5725, 0.5882,  ..., 0.4235, 0.3765, 0.3765],\n",
              "          ...,\n",
              "          [0.0824, 0.0824, 0.0824,  ..., 0.3216, 0.2627, 0.2627],\n",
              "          [0.0431, 0.0431, 0.0392,  ..., 0.3490, 0.2902, 0.2902],\n",
              "          [0.0431, 0.0431, 0.0392,  ..., 0.3490, 0.2902, 0.2902]],\n",
              "\n",
              "         [[0.9176, 0.9176, 0.9137,  ..., 0.7843, 0.8000, 0.8000],\n",
              "          [0.9176, 0.9176, 0.9137,  ..., 0.7843, 0.8000, 0.8000],\n",
              "          [0.8118, 0.8118, 0.8157,  ..., 0.7373, 0.7490, 0.7490],\n",
              "          ...,\n",
              "          [0.8627, 0.8627, 0.8353,  ..., 0.7882, 0.8980, 0.8980],\n",
              "          [0.8784, 0.8784, 0.8510,  ..., 0.8039, 0.9176, 0.9176],\n",
              "          [0.8784, 0.8784, 0.8510,  ..., 0.8039, 0.9176, 0.9176]],\n",
              "\n",
              "         [[0.1059, 0.1059, 0.1255,  ..., 0.3490, 0.3059, 0.3059],\n",
              "          [0.1059, 0.1059, 0.1255,  ..., 0.3490, 0.3059, 0.3059],\n",
              "          [0.1412, 0.1412, 0.1529,  ..., 0.3961, 0.3686, 0.3686],\n",
              "          ...,\n",
              "          [0.6941, 0.6941, 0.6196,  ..., 0.2353, 0.1804, 0.1804],\n",
              "          [0.6980, 0.6980, 0.6118,  ..., 0.1490, 0.0745, 0.0745],\n",
              "          [0.6980, 0.6980, 0.6118,  ..., 0.1490, 0.0745, 0.0745]]],\n",
              "\n",
              "\n",
              "        [[[0.6392, 0.6392, 0.6118,  ..., 0.7333, 0.7059, 0.7059],\n",
              "          [0.6392, 0.6392, 0.6118,  ..., 0.7333, 0.7059, 0.7059],\n",
              "          [0.5725, 0.5725, 0.5608,  ..., 0.7569, 0.7373, 0.7373],\n",
              "          ...,\n",
              "          [0.5882, 0.5882, 0.5490,  ..., 0.8667, 0.9686, 0.9686],\n",
              "          [0.5647, 0.5647, 0.5255,  ..., 0.8863, 0.9922, 0.9922],\n",
              "          [0.5647, 0.5647, 0.5255,  ..., 0.8863, 0.9922, 0.9922]],\n",
              "\n",
              "         [[0.2000, 0.2000, 0.2000,  ..., 0.0353, 0.0314, 0.0314],\n",
              "          [0.2000, 0.2000, 0.2000,  ..., 0.0353, 0.0314, 0.0314],\n",
              "          [0.2353, 0.2353, 0.2275,  ..., 0.0745, 0.0784, 0.0784],\n",
              "          ...,\n",
              "          [0.3373, 0.3373, 0.3059,  ..., 0.2549, 0.2000, 0.2000],\n",
              "          [0.3804, 0.3804, 0.3451,  ..., 0.1882, 0.1137, 0.1137],\n",
              "          [0.3804, 0.3804, 0.3451,  ..., 0.1882, 0.1137, 0.1137]],\n",
              "\n",
              "         [[0.1294, 0.1294, 0.1804,  ..., 0.7020, 0.7255, 0.7255],\n",
              "          [0.1294, 0.1294, 0.1804,  ..., 0.7020, 0.7255, 0.7255],\n",
              "          [0.1569, 0.1569, 0.2078,  ..., 0.7020, 0.7333, 0.7333],\n",
              "          ...,\n",
              "          [0.6863, 0.6863, 0.6196,  ..., 0.5765, 0.6275, 0.6275],\n",
              "          [0.7412, 0.7412, 0.6627,  ..., 0.6078, 0.6667, 0.6667],\n",
              "          [0.7412, 0.7412, 0.6627,  ..., 0.6078, 0.6667, 0.6667]]]])"
            ]
          },
          "metadata": {
            "tags": []
          },
          "execution_count": 97
        }
      ]
    },
    {
      "cell_type": "markdown",
      "metadata": {
        "id": "VO9v_Xb-nGRx"
      },
      "source": [
        "# 4. Build and Save Basic Models"
      ]
    },
    {
      "cell_type": "code",
      "metadata": {
        "id": "ekcohSCU0UIe"
      },
      "source": [
        "import torch\n",
        "import torchvision\n",
        "import torchvision.transforms as transforms\n",
        "from torch.utils.data import DataLoader"
      ],
      "execution_count": null,
      "outputs": []
    },
    {
      "cell_type": "markdown",
      "metadata": {
        "id": "cRrgGY92nVpW"
      },
      "source": [
        "## 4.1. Load data set"
      ]
    },
    {
      "cell_type": "code",
      "metadata": {
        "id": "7UIb0j9enUcz",
        "outputId": "b1e86bff-7495-4d4d-fa01-87fdb3473b03",
        "colab": {
          "base_uri": "https://localhost:8080/",
          "height": 51
        }
      },
      "source": [
        "transform = transforms.Compose(\n",
        "    [transforms.ToTensor(),\n",
        "     transforms.Normalize((0.5, 0.5, 0.5), (0.5, 0.5, 0.5))]\n",
        ")\n",
        "\n",
        "trainset = torchvision.datasets.CIFAR10(root='./data', train=True,\n",
        "                                        download=True, transform=transform)\n",
        "\n",
        "trainloader = torch.utils.data.DataLoader(trainset, batch_size = 8,\n",
        "                                          shuffle=True, num_workers = 2)\n",
        "\n",
        "testset = torchvision.datasets.CIFAR10(root='./data', train=False,\n",
        "                                       download=True, transform=transform)\n",
        "\n",
        "testloader = torch.utils.data.DataLoader(testset, batch_size = 8, \n",
        "                                         shuffle = False, num_workers = 2)\n",
        "\n",
        "classes = ( 'plane', 'car', 'bird', 'cat', \n",
        "           'deer', 'dog', 'frog', 'horse', 'ship', 'truck')"
      ],
      "execution_count": null,
      "outputs": [
        {
          "output_type": "stream",
          "text": [
            "Files already downloaded and verified\n",
            "Files already downloaded and verified\n"
          ],
          "name": "stdout"
        }
      ]
    },
    {
      "cell_type": "markdown",
      "metadata": {
        "id": "jTlQtQo2wdjq"
      },
      "source": [
        "## 4.2. Build a model"
      ]
    },
    {
      "cell_type": "code",
      "metadata": {
        "id": "WJ6BpSm7vaBZ"
      },
      "source": [
        "import torch.nn as nn\n",
        "import torch.nn.functional as F\n",
        "\n",
        "class Net(nn.Module):\n",
        "    def __init__(self):\n",
        "        super(Net, self).__init__()\n",
        "        self.conv1 = nn.Conv2d(3, 6, 5)\n",
        "        self.pool = nn.MaxPool2d(2, 2)\n",
        "        self.conv2 = nn.Conv2d(6, 16, 5)\n",
        "        self.fc1 = nn.Linear(16 * 5 * 5, 120)\n",
        "        self.fc2 = nn.Linear(120, 84)\n",
        "        self.fc3 = nn.Linear(84, 10)\n",
        "\n",
        "    def forward(self, x):\n",
        "        x = self.pool(F.relu(self.conv1(x)))\n",
        "        x = self.pool(F.relu(self.conv2(x)))\n",
        "        x = x.view(-1, 16 * 5 * 5) # in order to plug in x to fully connected we flat the x with view funtion \n",
        "        x = F.relu(self.fc1(x))\n",
        "        x = F.relu(self.fc2(x))\n",
        "        x = self.fc3(x)\n",
        "        return x\n",
        "\n",
        "net = Net()"
      ],
      "execution_count": null,
      "outputs": []
    },
    {
      "cell_type": "code",
      "metadata": {
        "id": "JRF5TTmo0uvE",
        "outputId": "ea8a4cec-8cc3-448c-e152-e7b32685e035",
        "colab": {
          "base_uri": "https://localhost:8080/",
          "height": 173
        }
      },
      "source": [
        "print(net)"
      ],
      "execution_count": null,
      "outputs": [
        {
          "output_type": "stream",
          "text": [
            "Net(\n",
            "  (conv1): Conv2d(3, 6, kernel_size=(5, 5), stride=(1, 1))\n",
            "  (pool): MaxPool2d(kernel_size=2, stride=2, padding=0, dilation=1, ceil_mode=False)\n",
            "  (conv2): Conv2d(6, 16, kernel_size=(5, 5), stride=(1, 1))\n",
            "  (fc1): Linear(in_features=400, out_features=120, bias=True)\n",
            "  (fc2): Linear(in_features=120, out_features=84, bias=True)\n",
            "  (fc3): Linear(in_features=84, out_features=10, bias=True)\n",
            ")\n"
          ],
          "name": "stdout"
        }
      ]
    },
    {
      "cell_type": "markdown",
      "metadata": {
        "id": "dMXlPc991Fho"
      },
      "source": [
        "## 4.3. Implement the model with training set"
      ]
    },
    {
      "cell_type": "code",
      "metadata": {
        "id": "kPmySilO0xEO"
      },
      "source": [
        "import torch.optim as optim\n",
        "\n",
        "criterion = nn.CrossEntropyLoss() # classifying \n",
        "optimizer = optim.SGD(net.parameters(), lr=0.001, momentum=0.9)"
      ],
      "execution_count": null,
      "outputs": []
    },
    {
      "cell_type": "code",
      "metadata": {
        "id": "3nlu7v-_2OyF",
        "outputId": "e1315053-5cba-4562-95cf-b9736fe0d725",
        "colab": {
          "base_uri": "https://localhost:8080/",
          "height": 85
        }
      },
      "source": [
        "for epoch in range(1): # loop over the dataset multiple times\n",
        "\n",
        "    running_loss = 0.0\n",
        "    for i, data in enumerate(trainloader, 0): \n",
        "        # get the inputs; data is a list of [inputs, labels]\n",
        "        inputs, labels = data\n",
        "\n",
        "        # zero the parmeter gradients\n",
        "        optimizer.zero_grad()\n",
        "\n",
        "        # forward + backward + optimize\n",
        "        outputs = net(inputs)\n",
        "        loss = criterion(outputs, labels)\n",
        "        loss.backward()\n",
        "        optimizer.step()\n",
        "\n",
        "        # print statistics\n",
        "        running_loss += loss.item()\n",
        "        if i % 2000 == 1999: # print every 2000 mini-batches\n",
        "            print('[%d, %5d] loss: %.3f' %\n",
        "                  (epoch + 1, i + 1, running_loss / 2000))\n",
        "            running_loss = 0.0\n",
        "\n",
        "print('Finished Training')"
      ],
      "execution_count": null,
      "outputs": [
        {
          "output_type": "stream",
          "text": [
            "[1,  2000] loss: 2.200\n",
            "[1,  4000] loss: 1.815\n",
            "[1,  6000] loss: 1.613\n",
            "Finished Training\n"
          ],
          "name": "stdout"
        }
      ]
    },
    {
      "cell_type": "markdown",
      "metadata": {
        "id": "OjyRbuxo_7JF"
      },
      "source": [
        "### 4.4. Save the trained model"
      ]
    },
    {
      "cell_type": "code",
      "metadata": {
        "id": "pZ_qj5cd_6Mu"
      },
      "source": [
        "PATH = './cifar_net.pth'\n",
        "torch.save(net.state_dict(), PATH)"
      ],
      "execution_count": null,
      "outputs": []
    },
    {
      "cell_type": "markdown",
      "metadata": {
        "id": "mSCmc7h1ATAX"
      },
      "source": [
        "### 4.5 Load the pre-trained model"
      ]
    },
    {
      "cell_type": "code",
      "metadata": {
        "id": "hd84HglF_nmB",
        "outputId": "1a0aae2e-2ca8-49e0-d061-49b5ac23dec9",
        "colab": {
          "base_uri": "https://localhost:8080/",
          "height": 34
        }
      },
      "source": [
        "net = Net()\n",
        "net.load_state_dict((torch.load(PATH)))"
      ],
      "execution_count": null,
      "outputs": [
        {
          "output_type": "execute_result",
          "data": {
            "text/plain": [
              "<All keys matched successfully>"
            ]
          },
          "metadata": {
            "tags": []
          },
          "execution_count": 25
        }
      ]
    },
    {
      "cell_type": "markdown",
      "metadata": {
        "id": "vXbABJ5FAk-I"
      },
      "source": [
        "### output은 미니배치의 결과가 산출되기 때문에 for 문을 통해서 test 전체의 예측값을 구해야 한다."
      ]
    },
    {
      "cell_type": "code",
      "metadata": {
        "id": "dwdZYQYPAbiE",
        "outputId": "b853a39a-da44-4830-9b8d-601657037bdb",
        "colab": {
          "base_uri": "https://localhost:8080/",
          "height": 34
        }
      },
      "source": [
        "correct = 0\n",
        "total = 0\n",
        "with torch.no_grad():\n",
        "    for data in testloader:\n",
        "        images, labels = data\n",
        "        outputs = net(images) # output is the vector of length 10 \n",
        "        _, predicted = torch.max(outputs.data, 1)\n",
        "        total += labels.size(0)\n",
        "        correct += (predicted == labels).sum().item()\n",
        "\n",
        "print(\"Accuracy of the network on the 10000 test images: %d %%\" % (100 * correct / total))"
      ],
      "execution_count": null,
      "outputs": [
        {
          "output_type": "stream",
          "text": [
            "Accuracy of the network on the 10000 test images: 43 %\n"
          ],
          "name": "stdout"
        }
      ]
    },
    {
      "cell_type": "markdown",
      "metadata": {
        "id": "0qWKmxmSDYBN"
      },
      "source": [
        "# 5. Network-based Deep Transfer Learning"
      ]
    },
    {
      "cell_type": "code",
      "metadata": {
        "id": "MV3Rfs-6BZMV"
      },
      "source": [
        "import torch\n",
        "import torchvision\n",
        "import torchvision.transforms as transforms # data preprocessing\n",
        "from torch.utils.data import DataLoader # mini-batch\n",
        "\n",
        "import torch.nn as nn # loss\n",
        "import torch.optim as optim # optimizer"
      ],
      "execution_count": null,
      "outputs": []
    },
    {
      "cell_type": "code",
      "metadata": {
        "id": "enlyO10RDepm",
        "outputId": "aab69fb9-47c0-4ef7-efed-f43b3c2dbe97",
        "colab": {
          "base_uri": "https://localhost:8080/",
          "height": 34
        }
      },
      "source": [
        "from google.colab import drive\n",
        "drive.mount('/content/gdrive')"
      ],
      "execution_count": null,
      "outputs": [
        {
          "output_type": "stream",
          "text": [
            "Mounted at /content/gdrive\n"
          ],
          "name": "stdout"
        }
      ]
    },
    {
      "cell_type": "code",
      "metadata": {
        "id": "ZMx8bgTVVs9V"
      },
      "source": [
        ""
      ],
      "execution_count": null,
      "outputs": []
    }
  ]
}