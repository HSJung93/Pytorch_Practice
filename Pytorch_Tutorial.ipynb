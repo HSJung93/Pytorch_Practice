{
  "nbformat": 4,
  "nbformat_minor": 0,
  "metadata": {
    "colab": {
      "name": "Pytorch_Tutorial.ipynb",
      "provenance": [],
      "collapsed_sections": [
        "_QD_JnuGvmM8",
        "nsdvDHBD5MKs",
        "Dgper-krAfJO"
      ],
      "include_colab_link": true
    },
    "kernelspec": {
      "name": "python3",
      "display_name": "Python 3"
    },
    "accelerator": "GPU",
    "widgets": {
      "application/vnd.jupyter.widget-state+json": {
        "2b59469566b244ee834b32a4701ec77f": {
          "model_module": "@jupyter-widgets/controls",
          "model_name": "HBoxModel",
          "state": {
            "_view_name": "HBoxView",
            "_dom_classes": [],
            "_model_name": "HBoxModel",
            "_view_module": "@jupyter-widgets/controls",
            "_model_module_version": "1.5.0",
            "_view_count": null,
            "_view_module_version": "1.5.0",
            "box_style": "",
            "layout": "IPY_MODEL_1c6c35b5cf1f48308a171a038a7a4fd3",
            "_model_module": "@jupyter-widgets/controls",
            "children": [
              "IPY_MODEL_545d7a61075a41bfb75d567c0bd8d54b",
              "IPY_MODEL_acbc63c55f564ea7bb49eecfc20c9477"
            ]
          }
        },
        "1c6c35b5cf1f48308a171a038a7a4fd3": {
          "model_module": "@jupyter-widgets/base",
          "model_name": "LayoutModel",
          "state": {
            "_view_name": "LayoutView",
            "grid_template_rows": null,
            "right": null,
            "justify_content": null,
            "_view_module": "@jupyter-widgets/base",
            "overflow": null,
            "_model_module_version": "1.2.0",
            "_view_count": null,
            "flex_flow": null,
            "width": null,
            "min_width": null,
            "border": null,
            "align_items": null,
            "bottom": null,
            "_model_module": "@jupyter-widgets/base",
            "top": null,
            "grid_column": null,
            "overflow_y": null,
            "overflow_x": null,
            "grid_auto_flow": null,
            "grid_area": null,
            "grid_template_columns": null,
            "flex": null,
            "_model_name": "LayoutModel",
            "justify_items": null,
            "grid_row": null,
            "max_height": null,
            "align_content": null,
            "visibility": null,
            "align_self": null,
            "height": null,
            "min_height": null,
            "padding": null,
            "grid_auto_rows": null,
            "grid_gap": null,
            "max_width": null,
            "order": null,
            "_view_module_version": "1.2.0",
            "grid_template_areas": null,
            "object_position": null,
            "object_fit": null,
            "grid_auto_columns": null,
            "margin": null,
            "display": null,
            "left": null
          }
        },
        "545d7a61075a41bfb75d567c0bd8d54b": {
          "model_module": "@jupyter-widgets/controls",
          "model_name": "FloatProgressModel",
          "state": {
            "_view_name": "ProgressView",
            "style": "IPY_MODEL_7c3ced4d92274a509df61958da053622",
            "_dom_classes": [],
            "description": "",
            "_model_name": "FloatProgressModel",
            "bar_style": "success",
            "max": 1,
            "_view_module": "@jupyter-widgets/controls",
            "_model_module_version": "1.5.0",
            "value": 1,
            "_view_count": null,
            "_view_module_version": "1.5.0",
            "orientation": "horizontal",
            "min": 0,
            "description_tooltip": null,
            "_model_module": "@jupyter-widgets/controls",
            "layout": "IPY_MODEL_18ea64150dc24a799d81e9a0044a87d0"
          }
        },
        "acbc63c55f564ea7bb49eecfc20c9477": {
          "model_module": "@jupyter-widgets/controls",
          "model_name": "HTMLModel",
          "state": {
            "_view_name": "HTMLView",
            "style": "IPY_MODEL_d55bbfdf1e0e4819a945863b4efbc762",
            "_dom_classes": [],
            "description": "",
            "_model_name": "HTMLModel",
            "placeholder": "​",
            "_view_module": "@jupyter-widgets/controls",
            "_model_module_version": "1.5.0",
            "value": " 170500096/? [00:08&lt;00:00, 19796549.14it/s]",
            "_view_count": null,
            "_view_module_version": "1.5.0",
            "description_tooltip": null,
            "_model_module": "@jupyter-widgets/controls",
            "layout": "IPY_MODEL_34c0e6107caf4594bdb8671453a11b96"
          }
        },
        "7c3ced4d92274a509df61958da053622": {
          "model_module": "@jupyter-widgets/controls",
          "model_name": "ProgressStyleModel",
          "state": {
            "_view_name": "StyleView",
            "_model_name": "ProgressStyleModel",
            "description_width": "initial",
            "_view_module": "@jupyter-widgets/base",
            "_model_module_version": "1.5.0",
            "_view_count": null,
            "_view_module_version": "1.2.0",
            "bar_color": null,
            "_model_module": "@jupyter-widgets/controls"
          }
        },
        "18ea64150dc24a799d81e9a0044a87d0": {
          "model_module": "@jupyter-widgets/base",
          "model_name": "LayoutModel",
          "state": {
            "_view_name": "LayoutView",
            "grid_template_rows": null,
            "right": null,
            "justify_content": null,
            "_view_module": "@jupyter-widgets/base",
            "overflow": null,
            "_model_module_version": "1.2.0",
            "_view_count": null,
            "flex_flow": null,
            "width": null,
            "min_width": null,
            "border": null,
            "align_items": null,
            "bottom": null,
            "_model_module": "@jupyter-widgets/base",
            "top": null,
            "grid_column": null,
            "overflow_y": null,
            "overflow_x": null,
            "grid_auto_flow": null,
            "grid_area": null,
            "grid_template_columns": null,
            "flex": null,
            "_model_name": "LayoutModel",
            "justify_items": null,
            "grid_row": null,
            "max_height": null,
            "align_content": null,
            "visibility": null,
            "align_self": null,
            "height": null,
            "min_height": null,
            "padding": null,
            "grid_auto_rows": null,
            "grid_gap": null,
            "max_width": null,
            "order": null,
            "_view_module_version": "1.2.0",
            "grid_template_areas": null,
            "object_position": null,
            "object_fit": null,
            "grid_auto_columns": null,
            "margin": null,
            "display": null,
            "left": null
          }
        },
        "d55bbfdf1e0e4819a945863b4efbc762": {
          "model_module": "@jupyter-widgets/controls",
          "model_name": "DescriptionStyleModel",
          "state": {
            "_view_name": "StyleView",
            "_model_name": "DescriptionStyleModel",
            "description_width": "",
            "_view_module": "@jupyter-widgets/base",
            "_model_module_version": "1.5.0",
            "_view_count": null,
            "_view_module_version": "1.2.0",
            "_model_module": "@jupyter-widgets/controls"
          }
        },
        "34c0e6107caf4594bdb8671453a11b96": {
          "model_module": "@jupyter-widgets/base",
          "model_name": "LayoutModel",
          "state": {
            "_view_name": "LayoutView",
            "grid_template_rows": null,
            "right": null,
            "justify_content": null,
            "_view_module": "@jupyter-widgets/base",
            "overflow": null,
            "_model_module_version": "1.2.0",
            "_view_count": null,
            "flex_flow": null,
            "width": null,
            "min_width": null,
            "border": null,
            "align_items": null,
            "bottom": null,
            "_model_module": "@jupyter-widgets/base",
            "top": null,
            "grid_column": null,
            "overflow_y": null,
            "overflow_x": null,
            "grid_auto_flow": null,
            "grid_area": null,
            "grid_template_columns": null,
            "flex": null,
            "_model_name": "LayoutModel",
            "justify_items": null,
            "grid_row": null,
            "max_height": null,
            "align_content": null,
            "visibility": null,
            "align_self": null,
            "height": null,
            "min_height": null,
            "padding": null,
            "grid_auto_rows": null,
            "grid_gap": null,
            "max_width": null,
            "order": null,
            "_view_module_version": "1.2.0",
            "grid_template_areas": null,
            "object_position": null,
            "object_fit": null,
            "grid_auto_columns": null,
            "margin": null,
            "display": null,
            "left": null
          }
        },
        "2ec8260d26f346e3bec1fa66abf40724": {
          "model_module": "@jupyter-widgets/controls",
          "model_name": "HBoxModel",
          "state": {
            "_view_name": "HBoxView",
            "_dom_classes": [],
            "_model_name": "HBoxModel",
            "_view_module": "@jupyter-widgets/controls",
            "_model_module_version": "1.5.0",
            "_view_count": null,
            "_view_module_version": "1.5.0",
            "box_style": "",
            "layout": "IPY_MODEL_63811025292c46bd9dad22f708250903",
            "_model_module": "@jupyter-widgets/controls",
            "children": [
              "IPY_MODEL_19da6be5a23f4612a02d46675067805b",
              "IPY_MODEL_93b8a169076b44428b9a9d7b5101546d"
            ]
          }
        },
        "63811025292c46bd9dad22f708250903": {
          "model_module": "@jupyter-widgets/base",
          "model_name": "LayoutModel",
          "state": {
            "_view_name": "LayoutView",
            "grid_template_rows": null,
            "right": null,
            "justify_content": null,
            "_view_module": "@jupyter-widgets/base",
            "overflow": null,
            "_model_module_version": "1.2.0",
            "_view_count": null,
            "flex_flow": null,
            "width": null,
            "min_width": null,
            "border": null,
            "align_items": null,
            "bottom": null,
            "_model_module": "@jupyter-widgets/base",
            "top": null,
            "grid_column": null,
            "overflow_y": null,
            "overflow_x": null,
            "grid_auto_flow": null,
            "grid_area": null,
            "grid_template_columns": null,
            "flex": null,
            "_model_name": "LayoutModel",
            "justify_items": null,
            "grid_row": null,
            "max_height": null,
            "align_content": null,
            "visibility": null,
            "align_self": null,
            "height": null,
            "min_height": null,
            "padding": null,
            "grid_auto_rows": null,
            "grid_gap": null,
            "max_width": null,
            "order": null,
            "_view_module_version": "1.2.0",
            "grid_template_areas": null,
            "object_position": null,
            "object_fit": null,
            "grid_auto_columns": null,
            "margin": null,
            "display": null,
            "left": null
          }
        },
        "19da6be5a23f4612a02d46675067805b": {
          "model_module": "@jupyter-widgets/controls",
          "model_name": "FloatProgressModel",
          "state": {
            "_view_name": "ProgressView",
            "style": "IPY_MODEL_053fe49ac2a647989d7ac3c8197372f4",
            "_dom_classes": [],
            "description": "",
            "_model_name": "FloatProgressModel",
            "bar_style": "info",
            "max": 1,
            "_view_module": "@jupyter-widgets/controls",
            "_model_module_version": "1.5.0",
            "value": 1,
            "_view_count": null,
            "_view_module_version": "1.5.0",
            "orientation": "horizontal",
            "min": 0,
            "description_tooltip": null,
            "_model_module": "@jupyter-widgets/controls",
            "layout": "IPY_MODEL_7a81d0d132474e96838386cee5aa58ad"
          }
        },
        "93b8a169076b44428b9a9d7b5101546d": {
          "model_module": "@jupyter-widgets/controls",
          "model_name": "HTMLModel",
          "state": {
            "_view_name": "HTMLView",
            "style": "IPY_MODEL_b2c097d705ec4a3abcc2396baf954138",
            "_dom_classes": [],
            "description": "",
            "_model_name": "HTMLModel",
            "placeholder": "​",
            "_view_module": "@jupyter-widgets/controls",
            "_model_module_version": "1.5.0",
            "value": " 170500096/? [00:12&lt;00:00, 77752381.98it/s]",
            "_view_count": null,
            "_view_module_version": "1.5.0",
            "description_tooltip": null,
            "_model_module": "@jupyter-widgets/controls",
            "layout": "IPY_MODEL_d095c9481b984f4f9ef85ffacc949b19"
          }
        },
        "053fe49ac2a647989d7ac3c8197372f4": {
          "model_module": "@jupyter-widgets/controls",
          "model_name": "ProgressStyleModel",
          "state": {
            "_view_name": "StyleView",
            "_model_name": "ProgressStyleModel",
            "description_width": "initial",
            "_view_module": "@jupyter-widgets/base",
            "_model_module_version": "1.5.0",
            "_view_count": null,
            "_view_module_version": "1.2.0",
            "bar_color": null,
            "_model_module": "@jupyter-widgets/controls"
          }
        },
        "7a81d0d132474e96838386cee5aa58ad": {
          "model_module": "@jupyter-widgets/base",
          "model_name": "LayoutModel",
          "state": {
            "_view_name": "LayoutView",
            "grid_template_rows": null,
            "right": null,
            "justify_content": null,
            "_view_module": "@jupyter-widgets/base",
            "overflow": null,
            "_model_module_version": "1.2.0",
            "_view_count": null,
            "flex_flow": null,
            "width": null,
            "min_width": null,
            "border": null,
            "align_items": null,
            "bottom": null,
            "_model_module": "@jupyter-widgets/base",
            "top": null,
            "grid_column": null,
            "overflow_y": null,
            "overflow_x": null,
            "grid_auto_flow": null,
            "grid_area": null,
            "grid_template_columns": null,
            "flex": null,
            "_model_name": "LayoutModel",
            "justify_items": null,
            "grid_row": null,
            "max_height": null,
            "align_content": null,
            "visibility": null,
            "align_self": null,
            "height": null,
            "min_height": null,
            "padding": null,
            "grid_auto_rows": null,
            "grid_gap": null,
            "max_width": null,
            "order": null,
            "_view_module_version": "1.2.0",
            "grid_template_areas": null,
            "object_position": null,
            "object_fit": null,
            "grid_auto_columns": null,
            "margin": null,
            "display": null,
            "left": null
          }
        },
        "b2c097d705ec4a3abcc2396baf954138": {
          "model_module": "@jupyter-widgets/controls",
          "model_name": "DescriptionStyleModel",
          "state": {
            "_view_name": "StyleView",
            "_model_name": "DescriptionStyleModel",
            "description_width": "",
            "_view_module": "@jupyter-widgets/base",
            "_model_module_version": "1.5.0",
            "_view_count": null,
            "_view_module_version": "1.2.0",
            "_model_module": "@jupyter-widgets/controls"
          }
        },
        "d095c9481b984f4f9ef85ffacc949b19": {
          "model_module": "@jupyter-widgets/base",
          "model_name": "LayoutModel",
          "state": {
            "_view_name": "LayoutView",
            "grid_template_rows": null,
            "right": null,
            "justify_content": null,
            "_view_module": "@jupyter-widgets/base",
            "overflow": null,
            "_model_module_version": "1.2.0",
            "_view_count": null,
            "flex_flow": null,
            "width": null,
            "min_width": null,
            "border": null,
            "align_items": null,
            "bottom": null,
            "_model_module": "@jupyter-widgets/base",
            "top": null,
            "grid_column": null,
            "overflow_y": null,
            "overflow_x": null,
            "grid_auto_flow": null,
            "grid_area": null,
            "grid_template_columns": null,
            "flex": null,
            "_model_name": "LayoutModel",
            "justify_items": null,
            "grid_row": null,
            "max_height": null,
            "align_content": null,
            "visibility": null,
            "align_self": null,
            "height": null,
            "min_height": null,
            "padding": null,
            "grid_auto_rows": null,
            "grid_gap": null,
            "max_width": null,
            "order": null,
            "_view_module_version": "1.2.0",
            "grid_template_areas": null,
            "object_position": null,
            "object_fit": null,
            "grid_auto_columns": null,
            "margin": null,
            "display": null,
            "left": null
          }
        },
        "91bc170bdeba48d3b95e0fc2410af9a2": {
          "model_module": "@jupyter-widgets/controls",
          "model_name": "HBoxModel",
          "state": {
            "_view_name": "HBoxView",
            "_dom_classes": [],
            "_model_name": "HBoxModel",
            "_view_module": "@jupyter-widgets/controls",
            "_model_module_version": "1.5.0",
            "_view_count": null,
            "_view_module_version": "1.5.0",
            "box_style": "",
            "layout": "IPY_MODEL_918cb177f6324cd181e22c54a80b6f83",
            "_model_module": "@jupyter-widgets/controls",
            "children": [
              "IPY_MODEL_e8d9a5b69aac412cabdce0b644c5ed7b",
              "IPY_MODEL_552c03537e1f4bc49f075a63796fba5d"
            ]
          }
        },
        "918cb177f6324cd181e22c54a80b6f83": {
          "model_module": "@jupyter-widgets/base",
          "model_name": "LayoutModel",
          "state": {
            "_view_name": "LayoutView",
            "grid_template_rows": null,
            "right": null,
            "justify_content": null,
            "_view_module": "@jupyter-widgets/base",
            "overflow": null,
            "_model_module_version": "1.2.0",
            "_view_count": null,
            "flex_flow": null,
            "width": null,
            "min_width": null,
            "border": null,
            "align_items": null,
            "bottom": null,
            "_model_module": "@jupyter-widgets/base",
            "top": null,
            "grid_column": null,
            "overflow_y": null,
            "overflow_x": null,
            "grid_auto_flow": null,
            "grid_area": null,
            "grid_template_columns": null,
            "flex": null,
            "_model_name": "LayoutModel",
            "justify_items": null,
            "grid_row": null,
            "max_height": null,
            "align_content": null,
            "visibility": null,
            "align_self": null,
            "height": null,
            "min_height": null,
            "padding": null,
            "grid_auto_rows": null,
            "grid_gap": null,
            "max_width": null,
            "order": null,
            "_view_module_version": "1.2.0",
            "grid_template_areas": null,
            "object_position": null,
            "object_fit": null,
            "grid_auto_columns": null,
            "margin": null,
            "display": null,
            "left": null
          }
        },
        "e8d9a5b69aac412cabdce0b644c5ed7b": {
          "model_module": "@jupyter-widgets/controls",
          "model_name": "FloatProgressModel",
          "state": {
            "_view_name": "ProgressView",
            "style": "IPY_MODEL_71ad8c3c5cfe4966b5256d38d85bdb39",
            "_dom_classes": [],
            "description": "100%",
            "_model_name": "FloatProgressModel",
            "bar_style": "success",
            "max": 102502400,
            "_view_module": "@jupyter-widgets/controls",
            "_model_module_version": "1.5.0",
            "value": 102502400,
            "_view_count": null,
            "_view_module_version": "1.5.0",
            "orientation": "horizontal",
            "min": 0,
            "description_tooltip": null,
            "_model_module": "@jupyter-widgets/controls",
            "layout": "IPY_MODEL_a91fb4b4dc2e4581942a1be12504b73c"
          }
        },
        "552c03537e1f4bc49f075a63796fba5d": {
          "model_module": "@jupyter-widgets/controls",
          "model_name": "HTMLModel",
          "state": {
            "_view_name": "HTMLView",
            "style": "IPY_MODEL_e37f0a3aec7d4b5482c6120daa927ca3",
            "_dom_classes": [],
            "description": "",
            "_model_name": "HTMLModel",
            "placeholder": "​",
            "_view_module": "@jupyter-widgets/controls",
            "_model_module_version": "1.5.0",
            "value": " 97.8M/97.8M [00:01&lt;00:00, 75.9MB/s]",
            "_view_count": null,
            "_view_module_version": "1.5.0",
            "description_tooltip": null,
            "_model_module": "@jupyter-widgets/controls",
            "layout": "IPY_MODEL_4913eda3eaf04322adb855ee228e3da9"
          }
        },
        "71ad8c3c5cfe4966b5256d38d85bdb39": {
          "model_module": "@jupyter-widgets/controls",
          "model_name": "ProgressStyleModel",
          "state": {
            "_view_name": "StyleView",
            "_model_name": "ProgressStyleModel",
            "description_width": "initial",
            "_view_module": "@jupyter-widgets/base",
            "_model_module_version": "1.5.0",
            "_view_count": null,
            "_view_module_version": "1.2.0",
            "bar_color": null,
            "_model_module": "@jupyter-widgets/controls"
          }
        },
        "a91fb4b4dc2e4581942a1be12504b73c": {
          "model_module": "@jupyter-widgets/base",
          "model_name": "LayoutModel",
          "state": {
            "_view_name": "LayoutView",
            "grid_template_rows": null,
            "right": null,
            "justify_content": null,
            "_view_module": "@jupyter-widgets/base",
            "overflow": null,
            "_model_module_version": "1.2.0",
            "_view_count": null,
            "flex_flow": null,
            "width": null,
            "min_width": null,
            "border": null,
            "align_items": null,
            "bottom": null,
            "_model_module": "@jupyter-widgets/base",
            "top": null,
            "grid_column": null,
            "overflow_y": null,
            "overflow_x": null,
            "grid_auto_flow": null,
            "grid_area": null,
            "grid_template_columns": null,
            "flex": null,
            "_model_name": "LayoutModel",
            "justify_items": null,
            "grid_row": null,
            "max_height": null,
            "align_content": null,
            "visibility": null,
            "align_self": null,
            "height": null,
            "min_height": null,
            "padding": null,
            "grid_auto_rows": null,
            "grid_gap": null,
            "max_width": null,
            "order": null,
            "_view_module_version": "1.2.0",
            "grid_template_areas": null,
            "object_position": null,
            "object_fit": null,
            "grid_auto_columns": null,
            "margin": null,
            "display": null,
            "left": null
          }
        },
        "e37f0a3aec7d4b5482c6120daa927ca3": {
          "model_module": "@jupyter-widgets/controls",
          "model_name": "DescriptionStyleModel",
          "state": {
            "_view_name": "StyleView",
            "_model_name": "DescriptionStyleModel",
            "description_width": "",
            "_view_module": "@jupyter-widgets/base",
            "_model_module_version": "1.5.0",
            "_view_count": null,
            "_view_module_version": "1.2.0",
            "_model_module": "@jupyter-widgets/controls"
          }
        },
        "4913eda3eaf04322adb855ee228e3da9": {
          "model_module": "@jupyter-widgets/base",
          "model_name": "LayoutModel",
          "state": {
            "_view_name": "LayoutView",
            "grid_template_rows": null,
            "right": null,
            "justify_content": null,
            "_view_module": "@jupyter-widgets/base",
            "overflow": null,
            "_model_module_version": "1.2.0",
            "_view_count": null,
            "flex_flow": null,
            "width": null,
            "min_width": null,
            "border": null,
            "align_items": null,
            "bottom": null,
            "_model_module": "@jupyter-widgets/base",
            "top": null,
            "grid_column": null,
            "overflow_y": null,
            "overflow_x": null,
            "grid_auto_flow": null,
            "grid_area": null,
            "grid_template_columns": null,
            "flex": null,
            "_model_name": "LayoutModel",
            "justify_items": null,
            "grid_row": null,
            "max_height": null,
            "align_content": null,
            "visibility": null,
            "align_self": null,
            "height": null,
            "min_height": null,
            "padding": null,
            "grid_auto_rows": null,
            "grid_gap": null,
            "max_width": null,
            "order": null,
            "_view_module_version": "1.2.0",
            "grid_template_areas": null,
            "object_position": null,
            "object_fit": null,
            "grid_auto_columns": null,
            "margin": null,
            "display": null,
            "left": null
          }
        },
        "e75ef0b077324c55836311a5a307b707": {
          "model_module": "@jupyter-widgets/controls",
          "model_name": "HBoxModel",
          "state": {
            "_view_name": "HBoxView",
            "_dom_classes": [],
            "_model_name": "HBoxModel",
            "_view_module": "@jupyter-widgets/controls",
            "_model_module_version": "1.5.0",
            "_view_count": null,
            "_view_module_version": "1.5.0",
            "box_style": "",
            "layout": "IPY_MODEL_ef82eb50089241e79df6822e0d74663f",
            "_model_module": "@jupyter-widgets/controls",
            "children": [
              "IPY_MODEL_1c717f9779ba4998b8b81421af121549",
              "IPY_MODEL_a8ab6ac5fdef4d55a3447cf5385ab10c"
            ]
          }
        },
        "ef82eb50089241e79df6822e0d74663f": {
          "model_module": "@jupyter-widgets/base",
          "model_name": "LayoutModel",
          "state": {
            "_view_name": "LayoutView",
            "grid_template_rows": null,
            "right": null,
            "justify_content": null,
            "_view_module": "@jupyter-widgets/base",
            "overflow": null,
            "_model_module_version": "1.2.0",
            "_view_count": null,
            "flex_flow": null,
            "width": null,
            "min_width": null,
            "border": null,
            "align_items": null,
            "bottom": null,
            "_model_module": "@jupyter-widgets/base",
            "top": null,
            "grid_column": null,
            "overflow_y": null,
            "overflow_x": null,
            "grid_auto_flow": null,
            "grid_area": null,
            "grid_template_columns": null,
            "flex": null,
            "_model_name": "LayoutModel",
            "justify_items": null,
            "grid_row": null,
            "max_height": null,
            "align_content": null,
            "visibility": null,
            "align_self": null,
            "height": null,
            "min_height": null,
            "padding": null,
            "grid_auto_rows": null,
            "grid_gap": null,
            "max_width": null,
            "order": null,
            "_view_module_version": "1.2.0",
            "grid_template_areas": null,
            "object_position": null,
            "object_fit": null,
            "grid_auto_columns": null,
            "margin": null,
            "display": null,
            "left": null
          }
        },
        "1c717f9779ba4998b8b81421af121549": {
          "model_module": "@jupyter-widgets/controls",
          "model_name": "FloatProgressModel",
          "state": {
            "_view_name": "ProgressView",
            "style": "IPY_MODEL_6cadee91ca5e4040a211b0d8788b5af8",
            "_dom_classes": [],
            "description": "",
            "_model_name": "FloatProgressModel",
            "bar_style": "info",
            "max": 1,
            "_view_module": "@jupyter-widgets/controls",
            "_model_module_version": "1.5.0",
            "value": 1,
            "_view_count": null,
            "_view_module_version": "1.5.0",
            "orientation": "horizontal",
            "min": 0,
            "description_tooltip": null,
            "_model_module": "@jupyter-widgets/controls",
            "layout": "IPY_MODEL_514a7ffb9859485da2c9d3e8bcd0ea31"
          }
        },
        "a8ab6ac5fdef4d55a3447cf5385ab10c": {
          "model_module": "@jupyter-widgets/controls",
          "model_name": "HTMLModel",
          "state": {
            "_view_name": "HTMLView",
            "style": "IPY_MODEL_18d4904d9a8f47f1b2e0e0d5bee44e08",
            "_dom_classes": [],
            "description": "",
            "_model_name": "HTMLModel",
            "placeholder": "​",
            "_view_module": "@jupyter-widgets/controls",
            "_model_module_version": "1.5.0",
            "value": " 2640404480/? [03:30&lt;00:00, 7119270.88it/s]",
            "_view_count": null,
            "_view_module_version": "1.5.0",
            "description_tooltip": null,
            "_model_module": "@jupyter-widgets/controls",
            "layout": "IPY_MODEL_06bbec07d1c744f3a8915c9aea0a76f5"
          }
        },
        "6cadee91ca5e4040a211b0d8788b5af8": {
          "model_module": "@jupyter-widgets/controls",
          "model_name": "ProgressStyleModel",
          "state": {
            "_view_name": "StyleView",
            "_model_name": "ProgressStyleModel",
            "description_width": "initial",
            "_view_module": "@jupyter-widgets/base",
            "_model_module_version": "1.5.0",
            "_view_count": null,
            "_view_module_version": "1.2.0",
            "bar_color": null,
            "_model_module": "@jupyter-widgets/controls"
          }
        },
        "514a7ffb9859485da2c9d3e8bcd0ea31": {
          "model_module": "@jupyter-widgets/base",
          "model_name": "LayoutModel",
          "state": {
            "_view_name": "LayoutView",
            "grid_template_rows": null,
            "right": null,
            "justify_content": null,
            "_view_module": "@jupyter-widgets/base",
            "overflow": null,
            "_model_module_version": "1.2.0",
            "_view_count": null,
            "flex_flow": null,
            "width": null,
            "min_width": null,
            "border": null,
            "align_items": null,
            "bottom": null,
            "_model_module": "@jupyter-widgets/base",
            "top": null,
            "grid_column": null,
            "overflow_y": null,
            "overflow_x": null,
            "grid_auto_flow": null,
            "grid_area": null,
            "grid_template_columns": null,
            "flex": null,
            "_model_name": "LayoutModel",
            "justify_items": null,
            "grid_row": null,
            "max_height": null,
            "align_content": null,
            "visibility": null,
            "align_self": null,
            "height": null,
            "min_height": null,
            "padding": null,
            "grid_auto_rows": null,
            "grid_gap": null,
            "max_width": null,
            "order": null,
            "_view_module_version": "1.2.0",
            "grid_template_areas": null,
            "object_position": null,
            "object_fit": null,
            "grid_auto_columns": null,
            "margin": null,
            "display": null,
            "left": null
          }
        },
        "18d4904d9a8f47f1b2e0e0d5bee44e08": {
          "model_module": "@jupyter-widgets/controls",
          "model_name": "DescriptionStyleModel",
          "state": {
            "_view_name": "StyleView",
            "_model_name": "DescriptionStyleModel",
            "description_width": "",
            "_view_module": "@jupyter-widgets/base",
            "_model_module_version": "1.5.0",
            "_view_count": null,
            "_view_module_version": "1.2.0",
            "_model_module": "@jupyter-widgets/controls"
          }
        },
        "06bbec07d1c744f3a8915c9aea0a76f5": {
          "model_module": "@jupyter-widgets/base",
          "model_name": "LayoutModel",
          "state": {
            "_view_name": "LayoutView",
            "grid_template_rows": null,
            "right": null,
            "justify_content": null,
            "_view_module": "@jupyter-widgets/base",
            "overflow": null,
            "_model_module_version": "1.2.0",
            "_view_count": null,
            "flex_flow": null,
            "width": null,
            "min_width": null,
            "border": null,
            "align_items": null,
            "bottom": null,
            "_model_module": "@jupyter-widgets/base",
            "top": null,
            "grid_column": null,
            "overflow_y": null,
            "overflow_x": null,
            "grid_auto_flow": null,
            "grid_area": null,
            "grid_template_columns": null,
            "flex": null,
            "_model_name": "LayoutModel",
            "justify_items": null,
            "grid_row": null,
            "max_height": null,
            "align_content": null,
            "visibility": null,
            "align_self": null,
            "height": null,
            "min_height": null,
            "padding": null,
            "grid_auto_rows": null,
            "grid_gap": null,
            "max_width": null,
            "order": null,
            "_view_module_version": "1.2.0",
            "grid_template_areas": null,
            "object_position": null,
            "object_fit": null,
            "grid_auto_columns": null,
            "margin": null,
            "display": null,
            "left": null
          }
        }
      }
    }
  },
  "cells": [
    {
      "cell_type": "markdown",
      "metadata": {
        "id": "view-in-github",
        "colab_type": "text"
      },
      "source": [
        "<a href=\"https://colab.research.google.com/github/HSJung93/Pytorch_Practice/blob/master/Pytorch_Tutorial.ipynb\" target=\"_parent\"><img src=\"https://colab.research.google.com/assets/colab-badge.svg\" alt=\"Open In Colab\"/></a>"
      ]
    },
    {
      "cell_type": "markdown",
      "metadata": {
        "id": "YKiW_hNIval1"
      },
      "source": [
        "# 1. Tensor"
      ]
    },
    {
      "cell_type": "code",
      "metadata": {
        "id": "qwUTWuPnQW4q"
      },
      "source": [
        "import torch"
      ],
      "execution_count": null,
      "outputs": []
    },
    {
      "cell_type": "code",
      "metadata": {
        "id": "ciiJjWGNQxMN"
      },
      "source": [
        "import numpy as np"
      ],
      "execution_count": null,
      "outputs": []
    },
    {
      "cell_type": "code",
      "metadata": {
        "id": "FGb96i2rQzX4",
        "outputId": "1a3eeb92-f825-4584-b79c-ff4d3a89e4f8",
        "colab": {
          "base_uri": "https://localhost:8080/",
          "height": 107
        }
      },
      "source": [
        "x = torch.empty(5, 4)\n",
        "print(x)"
      ],
      "execution_count": null,
      "outputs": [
        {
          "output_type": "stream",
          "text": [
            "tensor([[1.0774e-35, 0.0000e+00, 7.0065e-44, 6.7262e-44],\n",
            "        [6.3058e-44, 6.7262e-44, 7.9874e-44, 6.3058e-44],\n",
            "        [7.0065e-44, 7.8473e-44, 1.1771e-43, 6.8664e-44],\n",
            "        [7.0065e-44, 8.1275e-44, 7.0065e-44, 7.7071e-44],\n",
            "        [8.1275e-44, 7.0065e-44, 7.9874e-44, 6.4460e-44]])\n"
          ],
          "name": "stdout"
        }
      ]
    },
    {
      "cell_type": "code",
      "metadata": {
        "id": "9braRmx4Q2n_",
        "outputId": "cf4bdfeb-2364-416c-d3af-9f1e08e03aba",
        "colab": {
          "base_uri": "https://localhost:8080/",
          "height": 71
        }
      },
      "source": [
        "torch.ones(3, 3)"
      ],
      "execution_count": null,
      "outputs": [
        {
          "output_type": "execute_result",
          "data": {
            "text/plain": [
              "tensor([[1., 1., 1.],\n",
              "        [1., 1., 1.],\n",
              "        [1., 1., 1.]])"
            ]
          },
          "metadata": {
            "tags": []
          },
          "execution_count": 4
        }
      ]
    },
    {
      "cell_type": "code",
      "metadata": {
        "id": "80PANSPBQ3oQ",
        "outputId": "b36774a7-d76d-400e-8518-9bcd7e8c174c",
        "colab": {
          "base_uri": "https://localhost:8080/",
          "height": 35
        }
      },
      "source": [
        "torch.zeros(2)"
      ],
      "execution_count": null,
      "outputs": [
        {
          "output_type": "execute_result",
          "data": {
            "text/plain": [
              "tensor([0., 0.])"
            ]
          },
          "metadata": {
            "tags": []
          },
          "execution_count": 5
        }
      ]
    },
    {
      "cell_type": "code",
      "metadata": {
        "id": "fMfVeXCwQ5aX",
        "outputId": "ed11c014-0859-44fa-8dbb-2f9e38b12853",
        "colab": {
          "base_uri": "https://localhost:8080/",
          "height": 107
        }
      },
      "source": [
        "torch.rand(5, 6)"
      ],
      "execution_count": null,
      "outputs": [
        {
          "output_type": "execute_result",
          "data": {
            "text/plain": [
              "tensor([[0.7664, 0.6283, 0.4970, 0.4406, 0.6160, 0.5643],\n",
              "        [0.7479, 0.6351, 0.2462, 0.0120, 0.6967, 0.5282],\n",
              "        [0.4584, 0.6201, 0.8591, 0.1014, 0.2376, 0.3748],\n",
              "        [0.7914, 0.2098, 0.4803, 0.5506, 0.5014, 0.5871],\n",
              "        [0.2392, 0.6070, 0.4017, 0.1647, 0.2233, 0.2751]])"
            ]
          },
          "metadata": {
            "tags": []
          },
          "execution_count": 6
        }
      ]
    },
    {
      "cell_type": "code",
      "metadata": {
        "id": "KfkA5_CZSqkM"
      },
      "source": [
        "l = [13, 4]\n",
        "r = np.array([4, 56, 7])"
      ],
      "execution_count": null,
      "outputs": []
    },
    {
      "cell_type": "code",
      "metadata": {
        "id": "mvqxZZYGS-YC",
        "outputId": "e78cce27-64d0-45a0-be16-b3b8be7c58ac",
        "colab": {
          "base_uri": "https://localhost:8080/",
          "height": 35
        }
      },
      "source": [
        "torch.tensor(l)"
      ],
      "execution_count": null,
      "outputs": [
        {
          "output_type": "execute_result",
          "data": {
            "text/plain": [
              "tensor([13,  4])"
            ]
          },
          "metadata": {
            "tags": []
          },
          "execution_count": 8
        }
      ]
    },
    {
      "cell_type": "code",
      "metadata": {
        "id": "hXo9KdfJTCqQ",
        "outputId": "b2f9bb0f-15b5-49cc-dffa-12db598f9684",
        "colab": {
          "base_uri": "https://localhost:8080/",
          "height": 35
        }
      },
      "source": [
        "torch.tensor(r)"
      ],
      "execution_count": null,
      "outputs": [
        {
          "output_type": "execute_result",
          "data": {
            "text/plain": [
              "tensor([ 4, 56,  7])"
            ]
          },
          "metadata": {
            "tags": []
          },
          "execution_count": 9
        }
      ]
    },
    {
      "cell_type": "code",
      "metadata": {
        "id": "bP2Gy4gFTDmv",
        "outputId": "a492f8d3-6a44-4ce5-d2e9-80c6e74a4c31",
        "colab": {
          "base_uri": "https://localhost:8080/",
          "height": 35
        }
      },
      "source": [
        "x.size()"
      ],
      "execution_count": null,
      "outputs": [
        {
          "output_type": "execute_result",
          "data": {
            "text/plain": [
              "torch.Size([5, 4])"
            ]
          },
          "metadata": {
            "tags": []
          },
          "execution_count": 10
        }
      ]
    },
    {
      "cell_type": "code",
      "metadata": {
        "id": "Fn_tzA2BTEno",
        "outputId": "e1835525-0f6f-44b8-c762-8e671bcd78e1",
        "colab": {
          "base_uri": "https://localhost:8080/",
          "height": 35
        }
      },
      "source": [
        "type(x)"
      ],
      "execution_count": null,
      "outputs": [
        {
          "output_type": "execute_result",
          "data": {
            "text/plain": [
              "torch.Tensor"
            ]
          },
          "metadata": {
            "tags": []
          },
          "execution_count": 11
        }
      ]
    },
    {
      "cell_type": "code",
      "metadata": {
        "id": "7ASCKY4UTHPv",
        "outputId": "e1ad682b-8e2d-4aa2-a588-53be9dd08605",
        "colab": {
          "base_uri": "https://localhost:8080/",
          "height": 89
        }
      },
      "source": [
        "x = torch.rand(2, 2)\n",
        "y = torch.rand(2, 2)\n",
        "print(x)\n",
        "print(y)"
      ],
      "execution_count": null,
      "outputs": [
        {
          "output_type": "stream",
          "text": [
            "tensor([[0.9944, 0.2625],\n",
            "        [0.1342, 0.7259]])\n",
            "tensor([[0.6170, 0.1901],\n",
            "        [0.8998, 0.1817]])\n"
          ],
          "name": "stdout"
        }
      ]
    },
    {
      "cell_type": "code",
      "metadata": {
        "id": "tniyhSLbTN0P",
        "outputId": "303ac418-143a-44df-f715-a7142f636f7d",
        "colab": {
          "base_uri": "https://localhost:8080/",
          "height": 53
        }
      },
      "source": [
        "x+y"
      ],
      "execution_count": null,
      "outputs": [
        {
          "output_type": "execute_result",
          "data": {
            "text/plain": [
              "tensor([[1.6114, 0.4526],\n",
              "        [1.0340, 0.9076]])"
            ]
          },
          "metadata": {
            "tags": []
          },
          "execution_count": 13
        }
      ]
    },
    {
      "cell_type": "code",
      "metadata": {
        "id": "-EjXL9JoTPZH",
        "outputId": "62d5ec22-41f1-4ba1-c53b-f4a9119df494",
        "colab": {
          "base_uri": "https://localhost:8080/",
          "height": 53
        }
      },
      "source": [
        "torch.add(x, y)"
      ],
      "execution_count": null,
      "outputs": [
        {
          "output_type": "execute_result",
          "data": {
            "text/plain": [
              "tensor([[1.6114, 0.4526],\n",
              "        [1.0340, 0.9076]])"
            ]
          },
          "metadata": {
            "tags": []
          },
          "execution_count": 14
        }
      ]
    },
    {
      "cell_type": "code",
      "metadata": {
        "id": "QpT6HKX1TRYf",
        "outputId": "b6441f22-ea32-4540-dd6d-0c51f2449a20",
        "colab": {
          "base_uri": "https://localhost:8080/",
          "height": 53
        }
      },
      "source": [
        "y.add(x)"
      ],
      "execution_count": null,
      "outputs": [
        {
          "output_type": "execute_result",
          "data": {
            "text/plain": [
              "tensor([[1.6114, 0.4526],\n",
              "        [1.0340, 0.9076]])"
            ]
          },
          "metadata": {
            "tags": []
          },
          "execution_count": 15
        }
      ]
    },
    {
      "cell_type": "code",
      "metadata": {
        "id": "n4bejWBRTSzg",
        "outputId": "8e64be4a-fb77-478e-a623-43b5912e684b",
        "colab": {
          "base_uri": "https://localhost:8080/",
          "height": 53
        }
      },
      "source": [
        "y.add_(x)"
      ],
      "execution_count": null,
      "outputs": [
        {
          "output_type": "execute_result",
          "data": {
            "text/plain": [
              "tensor([[1.6114, 0.4526],\n",
              "        [1.0340, 0.9076]])"
            ]
          },
          "metadata": {
            "tags": []
          },
          "execution_count": 16
        }
      ]
    },
    {
      "cell_type": "code",
      "metadata": {
        "id": "JICUTC_7TXOg",
        "outputId": "727e29a6-e798-47e5-b057-df093b5d6276",
        "colab": {
          "base_uri": "https://localhost:8080/",
          "height": 53
        }
      },
      "source": [
        "y"
      ],
      "execution_count": null,
      "outputs": [
        {
          "output_type": "execute_result",
          "data": {
            "text/plain": [
              "tensor([[1.6114, 0.4526],\n",
              "        [1.0340, 0.9076]])"
            ]
          },
          "metadata": {
            "tags": []
          },
          "execution_count": 17
        }
      ]
    },
    {
      "cell_type": "code",
      "metadata": {
        "id": "auNAXH-UTYSY",
        "outputId": "003dafa9-12d8-4f22-c538-1c8a6255dd43",
        "colab": {
          "base_uri": "https://localhost:8080/",
          "height": 35
        }
      },
      "source": [
        "y[1, 1]"
      ],
      "execution_count": null,
      "outputs": [
        {
          "output_type": "execute_result",
          "data": {
            "text/plain": [
              "tensor(0.9076)"
            ]
          },
          "metadata": {
            "tags": []
          },
          "execution_count": 18
        }
      ]
    },
    {
      "cell_type": "code",
      "metadata": {
        "id": "daRZVE_FuUvk",
        "outputId": "d3462ea3-5f0f-4fa7-d363-1a1fb0e1358e",
        "colab": {
          "base_uri": "https://localhost:8080/",
          "height": 35
        }
      },
      "source": [
        "y[:, 1]"
      ],
      "execution_count": null,
      "outputs": [
        {
          "output_type": "execute_result",
          "data": {
            "text/plain": [
              "tensor([0.4526, 0.9076])"
            ]
          },
          "metadata": {
            "tags": []
          },
          "execution_count": 19
        }
      ]
    },
    {
      "cell_type": "code",
      "metadata": {
        "id": "snYl_aAOuc08",
        "outputId": "e048688d-0a6f-4868-80ae-2c9189a2fb16",
        "colab": {
          "base_uri": "https://localhost:8080/",
          "height": 161
        }
      },
      "source": [
        "x = torch.rand(8, 8)\n",
        "print(x)"
      ],
      "execution_count": null,
      "outputs": [
        {
          "output_type": "stream",
          "text": [
            "tensor([[0.4231, 0.8871, 0.9321, 0.8236, 0.2434, 0.4370, 0.6570, 0.2761],\n",
            "        [0.9591, 0.4284, 0.3859, 0.1380, 0.5607, 0.3962, 0.8077, 0.2151],\n",
            "        [0.5777, 0.5301, 0.4986, 0.0179, 0.2619, 0.7954, 0.9269, 0.7559],\n",
            "        [0.8936, 0.8812, 0.8311, 0.7130, 0.9472, 0.9249, 0.5150, 0.3959],\n",
            "        [0.3385, 0.2596, 0.1365, 0.6660, 0.5531, 0.3971, 0.6447, 0.3884],\n",
            "        [0.1170, 0.1487, 0.0032, 0.2627, 0.5426, 0.1882, 0.2070, 0.2585],\n",
            "        [0.6991, 0.6740, 0.6799, 0.8977, 0.2230, 0.5724, 0.7736, 0.8987],\n",
            "        [0.8198, 0.8675, 0.3444, 0.4106, 0.5751, 0.2009, 0.8886, 0.6210]])\n"
          ],
          "name": "stdout"
        }
      ]
    },
    {
      "cell_type": "code",
      "metadata": {
        "id": "oUj9RIM6uk18",
        "outputId": "63e067cd-d2fc-4e44-c81f-b33855f4b25a",
        "colab": {
          "base_uri": "https://localhost:8080/",
          "height": 161
        }
      },
      "source": [
        "x.view(64)"
      ],
      "execution_count": null,
      "outputs": [
        {
          "output_type": "execute_result",
          "data": {
            "text/plain": [
              "tensor([0.4231, 0.8871, 0.9321, 0.8236, 0.2434, 0.4370, 0.6570, 0.2761, 0.9591,\n",
              "        0.4284, 0.3859, 0.1380, 0.5607, 0.3962, 0.8077, 0.2151, 0.5777, 0.5301,\n",
              "        0.4986, 0.0179, 0.2619, 0.7954, 0.9269, 0.7559, 0.8936, 0.8812, 0.8311,\n",
              "        0.7130, 0.9472, 0.9249, 0.5150, 0.3959, 0.3385, 0.2596, 0.1365, 0.6660,\n",
              "        0.5531, 0.3971, 0.6447, 0.3884, 0.1170, 0.1487, 0.0032, 0.2627, 0.5426,\n",
              "        0.1882, 0.2070, 0.2585, 0.6991, 0.6740, 0.6799, 0.8977, 0.2230, 0.5724,\n",
              "        0.7736, 0.8987, 0.8198, 0.8675, 0.3444, 0.4106, 0.5751, 0.2009, 0.8886,\n",
              "        0.6210])"
            ]
          },
          "metadata": {
            "tags": []
          },
          "execution_count": 21
        }
      ]
    },
    {
      "cell_type": "code",
      "metadata": {
        "id": "i4imCHJFun85",
        "outputId": "f601351d-935b-4f02-b2e8-1ecccbe8761c",
        "colab": {
          "base_uri": "https://localhost:8080/",
          "height": 161
        }
      },
      "source": [
        "x.view(4, 16)"
      ],
      "execution_count": null,
      "outputs": [
        {
          "output_type": "execute_result",
          "data": {
            "text/plain": [
              "tensor([[0.4231, 0.8871, 0.9321, 0.8236, 0.2434, 0.4370, 0.6570, 0.2761, 0.9591,\n",
              "         0.4284, 0.3859, 0.1380, 0.5607, 0.3962, 0.8077, 0.2151],\n",
              "        [0.5777, 0.5301, 0.4986, 0.0179, 0.2619, 0.7954, 0.9269, 0.7559, 0.8936,\n",
              "         0.8812, 0.8311, 0.7130, 0.9472, 0.9249, 0.5150, 0.3959],\n",
              "        [0.3385, 0.2596, 0.1365, 0.6660, 0.5531, 0.3971, 0.6447, 0.3884, 0.1170,\n",
              "         0.1487, 0.0032, 0.2627, 0.5426, 0.1882, 0.2070, 0.2585],\n",
              "        [0.6991, 0.6740, 0.6799, 0.8977, 0.2230, 0.5724, 0.7736, 0.8987, 0.8198,\n",
              "         0.8675, 0.3444, 0.4106, 0.5751, 0.2009, 0.8886, 0.6210]])"
            ]
          },
          "metadata": {
            "tags": []
          },
          "execution_count": 22
        }
      ]
    },
    {
      "cell_type": "code",
      "metadata": {
        "id": "DmRYkCOSuyMo",
        "outputId": "7d9f0fb4-d58b-4b8f-cfe2-19046af496b0",
        "colab": {
          "base_uri": "https://localhost:8080/",
          "height": 161
        }
      },
      "source": [
        "x.view(2, -1) # conv. layer -> preconnected layer"
      ],
      "execution_count": null,
      "outputs": [
        {
          "output_type": "execute_result",
          "data": {
            "text/plain": [
              "tensor([[0.4231, 0.8871, 0.9321, 0.8236, 0.2434, 0.4370, 0.6570, 0.2761, 0.9591,\n",
              "         0.4284, 0.3859, 0.1380, 0.5607, 0.3962, 0.8077, 0.2151, 0.5777, 0.5301,\n",
              "         0.4986, 0.0179, 0.2619, 0.7954, 0.9269, 0.7559, 0.8936, 0.8812, 0.8311,\n",
              "         0.7130, 0.9472, 0.9249, 0.5150, 0.3959],\n",
              "        [0.3385, 0.2596, 0.1365, 0.6660, 0.5531, 0.3971, 0.6447, 0.3884, 0.1170,\n",
              "         0.1487, 0.0032, 0.2627, 0.5426, 0.1882, 0.2070, 0.2585, 0.6991, 0.6740,\n",
              "         0.6799, 0.8977, 0.2230, 0.5724, 0.7736, 0.8987, 0.8198, 0.8675, 0.3444,\n",
              "         0.4106, 0.5751, 0.2009, 0.8886, 0.6210]])"
            ]
          },
          "metadata": {
            "tags": []
          },
          "execution_count": 23
        }
      ]
    },
    {
      "cell_type": "code",
      "metadata": {
        "id": "HfytBLeAu22w",
        "outputId": "d2e8df75-0cf5-4617-d44b-54275160354f",
        "colab": {
          "base_uri": "https://localhost:8080/",
          "height": 305
        }
      },
      "source": [
        "y = x.numpy()\n",
        "print(y)"
      ],
      "execution_count": null,
      "outputs": [
        {
          "output_type": "stream",
          "text": [
            "[[0.42307085 0.88713855 0.93206066 0.82363254 0.2434277  0.43702996\n",
            "  0.6570364  0.2760985 ]\n",
            " [0.9591395  0.42839044 0.3859306  0.13803434 0.5607135  0.39623183\n",
            "  0.8076959  0.21505082]\n",
            " [0.5776534  0.5300652  0.49856532 0.01794177 0.26190966 0.7953814\n",
            "  0.9268865  0.7559341 ]\n",
            " [0.89361846 0.88122326 0.831094   0.7130099  0.94722795 0.9249465\n",
            "  0.51496065 0.3958891 ]\n",
            " [0.33848047 0.25955665 0.13645375 0.66604793 0.5531364  0.39711654\n",
            "  0.64474446 0.38836527]\n",
            " [0.11703724 0.14868718 0.00323194 0.26265    0.5425867  0.18815327\n",
            "  0.20702678 0.25853068]\n",
            " [0.6990646  0.6739981  0.6799373  0.89769435 0.22303498 0.57237875\n",
            "  0.7735591  0.8986936 ]\n",
            " [0.8197676  0.8675233  0.34437126 0.41058153 0.575127   0.20093405\n",
            "  0.8885701  0.6209567 ]]\n"
          ],
          "name": "stdout"
        }
      ]
    },
    {
      "cell_type": "code",
      "metadata": {
        "id": "bh7miVQ1u_6p",
        "outputId": "5c774593-9810-42fc-df8c-553ea1204640",
        "colab": {
          "base_uri": "https://localhost:8080/",
          "height": 35
        }
      },
      "source": [
        "type(y)"
      ],
      "execution_count": null,
      "outputs": [
        {
          "output_type": "execute_result",
          "data": {
            "text/plain": [
              "numpy.ndarray"
            ]
          },
          "metadata": {
            "tags": []
          },
          "execution_count": 25
        }
      ]
    },
    {
      "cell_type": "code",
      "metadata": {
        "id": "lK8JicB4vAkX"
      },
      "source": [
        "x = torch.ones(1)"
      ],
      "execution_count": null,
      "outputs": []
    },
    {
      "cell_type": "code",
      "metadata": {
        "id": "ARY5drb-vEQS",
        "outputId": "60724697-d777-4637-8820-4dcb7c54a7bc",
        "colab": {
          "base_uri": "https://localhost:8080/",
          "height": 35
        }
      },
      "source": [
        "x"
      ],
      "execution_count": null,
      "outputs": [
        {
          "output_type": "execute_result",
          "data": {
            "text/plain": [
              "tensor([1.])"
            ]
          },
          "metadata": {
            "tags": []
          },
          "execution_count": 27
        }
      ]
    },
    {
      "cell_type": "code",
      "metadata": {
        "id": "8QR5OKGSvEv3",
        "outputId": "ca076826-613c-49d2-8bdd-40e622a27f26",
        "colab": {
          "base_uri": "https://localhost:8080/",
          "height": 35
        }
      },
      "source": [
        "x.item() #loss function, value"
      ],
      "execution_count": null,
      "outputs": [
        {
          "output_type": "execute_result",
          "data": {
            "text/plain": [
              "1.0"
            ]
          },
          "metadata": {
            "tags": []
          },
          "execution_count": 28
        }
      ]
    },
    {
      "cell_type": "markdown",
      "metadata": {
        "id": "_QD_JnuGvmM8"
      },
      "source": [
        "# 2. Back propagation"
      ]
    },
    {
      "cell_type": "code",
      "metadata": {
        "id": "1ri_jIKvvG0R",
        "outputId": "c139200b-cade-4794-feba-d040050feb2d",
        "colab": {
          "base_uri": "https://localhost:8080/",
          "height": 53
        }
      },
      "source": [
        "import torch\n",
        "x = torch.ones(2, 2, requires_grad=True)\n",
        "print(x)"
      ],
      "execution_count": null,
      "outputs": [
        {
          "output_type": "stream",
          "text": [
            "tensor([[1., 1.],\n",
            "        [1., 1.]], requires_grad=True)\n"
          ],
          "name": "stdout"
        }
      ]
    },
    {
      "cell_type": "code",
      "metadata": {
        "id": "vF-JrbkCvyq0",
        "outputId": "231fb6ed-1891-4c9b-dabb-a834d6795352",
        "colab": {
          "base_uri": "https://localhost:8080/",
          "height": 53
        }
      },
      "source": [
        "y = x+1\n",
        "print(y)"
      ],
      "execution_count": null,
      "outputs": [
        {
          "output_type": "stream",
          "text": [
            "tensor([[2., 2.],\n",
            "        [2., 2.]], grad_fn=<AddBackward0>)\n"
          ],
          "name": "stdout"
        }
      ]
    },
    {
      "cell_type": "code",
      "metadata": {
        "id": "DV3_tUGQv6-i"
      },
      "source": [
        "z = 2*y**2\n",
        "res = z.mean()"
      ],
      "execution_count": null,
      "outputs": []
    },
    {
      "cell_type": "code",
      "metadata": {
        "id": "PS2vPkgcwA74",
        "outputId": "eafab8a3-546d-4852-dbbb-c909f821fc34",
        "colab": {
          "base_uri": "https://localhost:8080/",
          "height": 35
        }
      },
      "source": [
        "print(res)"
      ],
      "execution_count": null,
      "outputs": [
        {
          "output_type": "stream",
          "text": [
            "tensor(8., grad_fn=<MeanBackward0>)\n"
          ],
          "name": "stdout"
        }
      ]
    },
    {
      "cell_type": "code",
      "metadata": {
        "id": "1PfNVEiVwBsw",
        "outputId": "75cca260-c42c-4246-9b0b-36868ceefdc9",
        "colab": {
          "base_uri": "https://localhost:8080/",
          "height": 35
        }
      },
      "source": [
        "res"
      ],
      "execution_count": null,
      "outputs": [
        {
          "output_type": "execute_result",
          "data": {
            "text/plain": [
              "tensor(8., grad_fn=<MeanBackward0>)"
            ]
          },
          "metadata": {
            "tags": []
          },
          "execution_count": 33
        }
      ]
    },
    {
      "cell_type": "code",
      "metadata": {
        "id": "O6fvDuw8wCJg"
      },
      "source": [
        "# d(res)/dx_i = x_i+1\n",
        "# res = (z_1+...+z_4)/4\n",
        "# z_i = 2(x_i+1)**2\n",
        "\n",
        "res.backward()"
      ],
      "execution_count": null,
      "outputs": []
    },
    {
      "cell_type": "code",
      "metadata": {
        "id": "W99-TVrN3Vn6",
        "outputId": "7d45ad9e-dda8-401c-8da8-1150dc40d673",
        "colab": {
          "base_uri": "https://localhost:8080/",
          "height": 53
        }
      },
      "source": [
        "print(x.grad)"
      ],
      "execution_count": null,
      "outputs": [
        {
          "output_type": "stream",
          "text": [
            "tensor([[2., 2.],\n",
            "        [2., 2.]])\n"
          ],
          "name": "stdout"
        }
      ]
    },
    {
      "cell_type": "code",
      "metadata": {
        "id": "c1cVVR7b3WjS"
      },
      "source": [
        "import torch.nn as nn\n",
        "import torch.nn.functional as f "
      ],
      "execution_count": null,
      "outputs": []
    },
    {
      "cell_type": "markdown",
      "metadata": {
        "id": "bU-s67D83kJN"
      },
      "source": [
        "# 3. Import data and customizing"
      ]
    },
    {
      "cell_type": "code",
      "metadata": {
        "id": "i22unUEM3hXz"
      },
      "source": [
        "import torch\n",
        "import torchvision\n",
        "import torchvision.transforms as tr\n",
        "from torch.utils.data import DataLoader, Dataset\n",
        "import numpy as np"
      ],
      "execution_count": null,
      "outputs": []
    },
    {
      "cell_type": "markdown",
      "metadata": {
        "id": "nsdvDHBD5MKs"
      },
      "source": [
        "## 3.1. 파이토치 제공 데이터 사용"
      ]
    },
    {
      "cell_type": "code",
      "metadata": {
        "id": "H3N_Ldhe5ubj"
      },
      "source": [
        "transf = tr.Compose([tr.Resize(8), tr.ToTensor()])\n",
        "# Transforms on PIL Image\n",
        "# Pad, Grayscale, RandomCrop, Normalize ...\n",
        "# Transfroms on torch.*Tensor - tensor image\n",
        "# torchvision.transforms.ToPILImage(mode=None)...\n"
      ],
      "execution_count": null,
      "outputs": []
    },
    {
      "cell_type": "code",
      "metadata": {
        "id": "Ps8Uspl54EqV",
        "outputId": "e1928cfa-e89b-4eaf-f255-d3913f214375",
        "colab": {
          "base_uri": "https://localhost:8080/",
          "height": 103,
          "referenced_widgets": [
            "2b59469566b244ee834b32a4701ec77f",
            "1c6c35b5cf1f48308a171a038a7a4fd3",
            "545d7a61075a41bfb75d567c0bd8d54b",
            "acbc63c55f564ea7bb49eecfc20c9477",
            "7c3ced4d92274a509df61958da053622",
            "18ea64150dc24a799d81e9a0044a87d0",
            "d55bbfdf1e0e4819a945863b4efbc762",
            "34c0e6107caf4594bdb8671453a11b96"
          ]
        }
      },
      "source": [
        "trainset = torchvision.datasets.CIFAR10(root = './sample_data', train = True, download = True, transform = transf)\n",
        "testset = torchvision.datasets.CIFAR10(root = './sample_data', train = False, download = True, transform = transf)"
      ],
      "execution_count": null,
      "outputs": [
        {
          "output_type": "stream",
          "text": [
            "Downloading https://www.cs.toronto.edu/~kriz/cifar-10-python.tar.gz to ./sample_data/cifar-10-python.tar.gz\n"
          ],
          "name": "stdout"
        },
        {
          "output_type": "display_data",
          "data": {
            "application/vnd.jupyter.widget-view+json": {
              "model_id": "2b59469566b244ee834b32a4701ec77f",
              "version_minor": 0,
              "version_major": 2
            },
            "text/plain": [
              "HBox(children=(FloatProgress(value=1.0, bar_style='info', max=1.0), HTML(value='')))"
            ]
          },
          "metadata": {
            "tags": []
          }
        },
        {
          "output_type": "stream",
          "text": [
            "Extracting ./sample_data/cifar-10-python.tar.gz to ./sample_data\n",
            "Files already downloaded and verified\n"
          ],
          "name": "stdout"
        }
      ]
    },
    {
      "cell_type": "code",
      "metadata": {
        "id": "UTAPbDhf-hpf",
        "outputId": "c6a58d50-9be2-44e2-8789-5de9411dbd1b",
        "colab": {
          "base_uri": "https://localhost:8080/",
          "height": 35
        }
      },
      "source": [
        "trainset[0][0].size()"
      ],
      "execution_count": null,
      "outputs": [
        {
          "output_type": "execute_result",
          "data": {
            "text/plain": [
              "torch.Size([3, 8, 8])"
            ]
          },
          "metadata": {
            "tags": []
          },
          "execution_count": 40
        }
      ]
    },
    {
      "cell_type": "code",
      "metadata": {
        "id": "MbysPk1M_DTn",
        "outputId": "963ac9c1-fa34-4c91-deb2-4c8b4fda6c48",
        "colab": {
          "base_uri": "https://localhost:8080/",
          "height": 35
        }
      },
      "source": [
        "trainset[0][1]"
      ],
      "execution_count": null,
      "outputs": [
        {
          "output_type": "execute_result",
          "data": {
            "text/plain": [
              "6"
            ]
          },
          "metadata": {
            "tags": []
          },
          "execution_count": 41
        }
      ]
    },
    {
      "cell_type": "code",
      "metadata": {
        "id": "OmwCVlmO_IQM"
      },
      "source": [
        "trainloader = DataLoader(trainset, batch_size = 50, shuffle= True, num_workers = 2)\n",
        "testloader = DataLoader(testset, batch_size = 50, shuffle= True, num_workers = 2)"
      ],
      "execution_count": null,
      "outputs": []
    },
    {
      "cell_type": "code",
      "metadata": {
        "id": "R8RNhijo_vEL",
        "outputId": "85349019-3ae3-4ab8-cce9-97767fa60518",
        "colab": {
          "base_uri": "https://localhost:8080/",
          "height": 35
        }
      },
      "source": [
        "len(trainloader) # total 50000 data, batch_size is 50, so batch is 1000."
      ],
      "execution_count": null,
      "outputs": [
        {
          "output_type": "execute_result",
          "data": {
            "text/plain": [
              "1000"
            ]
          },
          "metadata": {
            "tags": []
          },
          "execution_count": 43
        }
      ]
    },
    {
      "cell_type": "code",
      "metadata": {
        "id": "IJSogXjv_5qF"
      },
      "source": [
        "dataiter = iter(trainloader)\n",
        "images, labels = dataiter.next()"
      ],
      "execution_count": null,
      "outputs": []
    },
    {
      "cell_type": "code",
      "metadata": {
        "id": "KUS1Wxv4ALjl",
        "outputId": "0a82344a-26ac-4a93-9684-faad9dd80e6b",
        "colab": {
          "base_uri": "https://localhost:8080/",
          "height": 35
        }
      },
      "source": [
        "images.size() # batch size, channel #, size"
      ],
      "execution_count": null,
      "outputs": [
        {
          "output_type": "execute_result",
          "data": {
            "text/plain": [
              "torch.Size([50, 3, 8, 8])"
            ]
          },
          "metadata": {
            "tags": []
          },
          "execution_count": 45
        }
      ]
    },
    {
      "cell_type": "markdown",
      "metadata": {
        "id": "Dgper-krAfJO"
      },
      "source": [
        "## 3.2. 같은 클래스 별 폴더 이미지 데이터 이용"
      ]
    },
    {
      "cell_type": "code",
      "metadata": {
        "id": "NgHhbIcTAQBV",
        "outputId": "27f0d652-7d92-41aa-a171-8149a7131da3",
        "colab": {
          "base_uri": "https://localhost:8080/",
          "height": 412
        }
      },
      "source": [
        "# ./class/tiger ./class/lion\n",
        "transf = tr.Compose([tr.Resize(16), tr.ToTensor()])\n",
        "trainset = torchvision.datasets.ImageFolder(root='./class', transform=transf)\n",
        "trainloader = DataLoader(trainset, batch_size = 10, shuffle = False, num_workder = 2)\n",
        "print(len(trainloader))\n",
        "print(trainset[0][0].size())"
      ],
      "execution_count": null,
      "outputs": [
        {
          "output_type": "stream",
          "text": [
            "\n"
          ],
          "name": "stdout"
        },
        {
          "output_type": "error",
          "ename": "FileNotFoundError",
          "evalue": "ignored",
          "traceback": [
            "\u001b[0;31m---------------------------------------------------------------------------\u001b[0m",
            "\u001b[0;31mFileNotFoundError\u001b[0m                         Traceback (most recent call last)",
            "\u001b[0;32m<ipython-input-46-ce8f5bf13a61>\u001b[0m in \u001b[0;36m<module>\u001b[0;34m()\u001b[0m\n\u001b[1;32m      1\u001b[0m \u001b[0;31m# ./class/tiger ./class/lion\u001b[0m\u001b[0;34m\u001b[0m\u001b[0;34m\u001b[0m\u001b[0;34m\u001b[0m\u001b[0m\n\u001b[1;32m      2\u001b[0m \u001b[0mtransf\u001b[0m \u001b[0;34m=\u001b[0m \u001b[0mtr\u001b[0m\u001b[0;34m.\u001b[0m\u001b[0mCompose\u001b[0m\u001b[0;34m(\u001b[0m\u001b[0;34m[\u001b[0m\u001b[0mtr\u001b[0m\u001b[0;34m.\u001b[0m\u001b[0mResize\u001b[0m\u001b[0;34m(\u001b[0m\u001b[0;36m16\u001b[0m\u001b[0;34m)\u001b[0m\u001b[0;34m,\u001b[0m \u001b[0mtr\u001b[0m\u001b[0;34m.\u001b[0m\u001b[0mToTensor\u001b[0m\u001b[0;34m(\u001b[0m\u001b[0;34m)\u001b[0m\u001b[0;34m]\u001b[0m\u001b[0;34m)\u001b[0m\u001b[0;34m\u001b[0m\u001b[0;34m\u001b[0m\u001b[0m\n\u001b[0;32m----> 3\u001b[0;31m \u001b[0mtrainset\u001b[0m \u001b[0;34m=\u001b[0m \u001b[0mtorchvision\u001b[0m\u001b[0;34m.\u001b[0m\u001b[0mdatasets\u001b[0m\u001b[0;34m.\u001b[0m\u001b[0mImageFolder\u001b[0m\u001b[0;34m(\u001b[0m\u001b[0mroot\u001b[0m\u001b[0;34m=\u001b[0m\u001b[0;34m'./class'\u001b[0m\u001b[0;34m,\u001b[0m \u001b[0mtransform\u001b[0m\u001b[0;34m=\u001b[0m\u001b[0mtransf\u001b[0m\u001b[0;34m)\u001b[0m\u001b[0;34m\u001b[0m\u001b[0;34m\u001b[0m\u001b[0m\n\u001b[0m\u001b[1;32m      4\u001b[0m \u001b[0mtrainloader\u001b[0m \u001b[0;34m=\u001b[0m \u001b[0mDataLoader\u001b[0m\u001b[0;34m(\u001b[0m\u001b[0mtrainset\u001b[0m\u001b[0;34m,\u001b[0m \u001b[0mbatch_size\u001b[0m \u001b[0;34m=\u001b[0m \u001b[0;36m10\u001b[0m\u001b[0;34m,\u001b[0m \u001b[0mshuffle\u001b[0m \u001b[0;34m=\u001b[0m \u001b[0;32mFalse\u001b[0m\u001b[0;34m,\u001b[0m \u001b[0mnum_workder\u001b[0m \u001b[0;34m=\u001b[0m \u001b[0;36m2\u001b[0m\u001b[0;34m)\u001b[0m\u001b[0;34m\u001b[0m\u001b[0;34m\u001b[0m\u001b[0m\n\u001b[1;32m      5\u001b[0m \u001b[0mprint\u001b[0m\u001b[0;34m(\u001b[0m\u001b[0mlen\u001b[0m\u001b[0;34m(\u001b[0m\u001b[0mtrainloader\u001b[0m\u001b[0;34m)\u001b[0m\u001b[0;34m)\u001b[0m\u001b[0;34m\u001b[0m\u001b[0;34m\u001b[0m\u001b[0m\n",
            "\u001b[0;32m/usr/local/lib/python3.6/dist-packages/torchvision/datasets/folder.py\u001b[0m in \u001b[0;36m__init__\u001b[0;34m(self, root, transform, target_transform, loader, is_valid_file)\u001b[0m\n\u001b[1;32m    206\u001b[0m                                           \u001b[0mtransform\u001b[0m\u001b[0;34m=\u001b[0m\u001b[0mtransform\u001b[0m\u001b[0;34m,\u001b[0m\u001b[0;34m\u001b[0m\u001b[0;34m\u001b[0m\u001b[0m\n\u001b[1;32m    207\u001b[0m                                           \u001b[0mtarget_transform\u001b[0m\u001b[0;34m=\u001b[0m\u001b[0mtarget_transform\u001b[0m\u001b[0;34m,\u001b[0m\u001b[0;34m\u001b[0m\u001b[0;34m\u001b[0m\u001b[0m\n\u001b[0;32m--> 208\u001b[0;31m                                           is_valid_file=is_valid_file)\n\u001b[0m\u001b[1;32m    209\u001b[0m         \u001b[0mself\u001b[0m\u001b[0;34m.\u001b[0m\u001b[0mimgs\u001b[0m \u001b[0;34m=\u001b[0m \u001b[0mself\u001b[0m\u001b[0;34m.\u001b[0m\u001b[0msamples\u001b[0m\u001b[0;34m\u001b[0m\u001b[0;34m\u001b[0m\u001b[0m\n",
            "\u001b[0;32m/usr/local/lib/python3.6/dist-packages/torchvision/datasets/folder.py\u001b[0m in \u001b[0;36m__init__\u001b[0;34m(self, root, loader, extensions, transform, target_transform, is_valid_file)\u001b[0m\n\u001b[1;32m     92\u001b[0m         super(DatasetFolder, self).__init__(root, transform=transform,\n\u001b[1;32m     93\u001b[0m                                             target_transform=target_transform)\n\u001b[0;32m---> 94\u001b[0;31m         \u001b[0mclasses\u001b[0m\u001b[0;34m,\u001b[0m \u001b[0mclass_to_idx\u001b[0m \u001b[0;34m=\u001b[0m \u001b[0mself\u001b[0m\u001b[0;34m.\u001b[0m\u001b[0m_find_classes\u001b[0m\u001b[0;34m(\u001b[0m\u001b[0mself\u001b[0m\u001b[0;34m.\u001b[0m\u001b[0mroot\u001b[0m\u001b[0;34m)\u001b[0m\u001b[0;34m\u001b[0m\u001b[0;34m\u001b[0m\u001b[0m\n\u001b[0m\u001b[1;32m     95\u001b[0m         \u001b[0msamples\u001b[0m \u001b[0;34m=\u001b[0m \u001b[0mmake_dataset\u001b[0m\u001b[0;34m(\u001b[0m\u001b[0mself\u001b[0m\u001b[0;34m.\u001b[0m\u001b[0mroot\u001b[0m\u001b[0;34m,\u001b[0m \u001b[0mclass_to_idx\u001b[0m\u001b[0;34m,\u001b[0m \u001b[0mextensions\u001b[0m\u001b[0;34m,\u001b[0m \u001b[0mis_valid_file\u001b[0m\u001b[0;34m)\u001b[0m\u001b[0;34m\u001b[0m\u001b[0;34m\u001b[0m\u001b[0m\n\u001b[1;32m     96\u001b[0m         \u001b[0;32mif\u001b[0m \u001b[0mlen\u001b[0m\u001b[0;34m(\u001b[0m\u001b[0msamples\u001b[0m\u001b[0;34m)\u001b[0m \u001b[0;34m==\u001b[0m \u001b[0;36m0\u001b[0m\u001b[0;34m:\u001b[0m\u001b[0;34m\u001b[0m\u001b[0;34m\u001b[0m\u001b[0m\n",
            "\u001b[0;32m/usr/local/lib/python3.6/dist-packages/torchvision/datasets/folder.py\u001b[0m in \u001b[0;36m_find_classes\u001b[0;34m(self, dir)\u001b[0m\n\u001b[1;32m    121\u001b[0m             \u001b[0mNo\u001b[0m \u001b[0;32mclass\u001b[0m \u001b[0;32mis\u001b[0m \u001b[0ma\u001b[0m \u001b[0msubdirectory\u001b[0m \u001b[0mof\u001b[0m \u001b[0manother\u001b[0m\u001b[0;34m.\u001b[0m\u001b[0;34m\u001b[0m\u001b[0;34m\u001b[0m\u001b[0m\n\u001b[1;32m    122\u001b[0m         \"\"\"\n\u001b[0;32m--> 123\u001b[0;31m         \u001b[0mclasses\u001b[0m \u001b[0;34m=\u001b[0m \u001b[0;34m[\u001b[0m\u001b[0md\u001b[0m\u001b[0;34m.\u001b[0m\u001b[0mname\u001b[0m \u001b[0;32mfor\u001b[0m \u001b[0md\u001b[0m \u001b[0;32min\u001b[0m \u001b[0mos\u001b[0m\u001b[0;34m.\u001b[0m\u001b[0mscandir\u001b[0m\u001b[0;34m(\u001b[0m\u001b[0mdir\u001b[0m\u001b[0;34m)\u001b[0m \u001b[0;32mif\u001b[0m \u001b[0md\u001b[0m\u001b[0;34m.\u001b[0m\u001b[0mis_dir\u001b[0m\u001b[0;34m(\u001b[0m\u001b[0;34m)\u001b[0m\u001b[0;34m]\u001b[0m\u001b[0;34m\u001b[0m\u001b[0;34m\u001b[0m\u001b[0m\n\u001b[0m\u001b[1;32m    124\u001b[0m         \u001b[0mclasses\u001b[0m\u001b[0;34m.\u001b[0m\u001b[0msort\u001b[0m\u001b[0;34m(\u001b[0m\u001b[0;34m)\u001b[0m\u001b[0;34m\u001b[0m\u001b[0;34m\u001b[0m\u001b[0m\n\u001b[1;32m    125\u001b[0m         \u001b[0mclass_to_idx\u001b[0m \u001b[0;34m=\u001b[0m \u001b[0;34m{\u001b[0m\u001b[0mcls_name\u001b[0m\u001b[0;34m:\u001b[0m \u001b[0mi\u001b[0m \u001b[0;32mfor\u001b[0m \u001b[0mi\u001b[0m\u001b[0;34m,\u001b[0m \u001b[0mcls_name\u001b[0m \u001b[0;32min\u001b[0m \u001b[0menumerate\u001b[0m\u001b[0;34m(\u001b[0m\u001b[0mclasses\u001b[0m\u001b[0;34m)\u001b[0m\u001b[0;34m}\u001b[0m\u001b[0;34m\u001b[0m\u001b[0;34m\u001b[0m\u001b[0m\n",
            "\u001b[0;31mFileNotFoundError\u001b[0m: [Errno 2] No such file or directory: './class'"
          ]
        }
      ]
    },
    {
      "cell_type": "markdown",
      "metadata": {
        "id": "vbahHcB7BeS4"
      },
      "source": [
        "## 3.3 개인 데이터 사용(2 types)"
      ]
    },
    {
      "cell_type": "code",
      "metadata": {
        "id": "983CT8ZDBJBa",
        "outputId": "024dfb1d-fde6-4fe5-f104-06a1dbe0d142",
        "colab": {
          "base_uri": "https://localhost:8080/",
          "height": 35
        }
      },
      "source": [
        "# import preprocessing\n",
        "\n",
        "train_images = np.random.randint(256, size=(20, 32, 32, 3))\n",
        "train_labels = np.random.randint(2, size = (20, 1) )\n",
        "\n",
        "# preprocessing\n",
        "# train_images, train_labels = preprocessing(train_images, train_labels)\n",
        "\n",
        "print(train_images.shape, train_labels.shape)"
      ],
      "execution_count": null,
      "outputs": [
        {
          "output_type": "stream",
          "text": [
            "(20, 32, 32, 3) (20, 1)\n"
          ],
          "name": "stdout"
        }
      ]
    },
    {
      "cell_type": "code",
      "metadata": {
        "id": "lZnyJImYCADC"
      },
      "source": [
        "class TensorData(Dataset):\n",
        "\n",
        "    def __init__(self, x_data, y_data):\n",
        "        self.x_data = torch.FloatTensor(x_data)\n",
        "        self.x_data = self.x_data.permute(0, 3, 1, 2) # 이미지 개수, 채널 수, 이미지 너비, 높이\n",
        "        self.y_data = torch.LongTensor(y_data)\n",
        "        self.len = self.y_data.shape[0]\n",
        "\n",
        "    def __getitem__(self, index):\n",
        "\n",
        "        return self.x_data[index], self.y_data[index]\n",
        "\n",
        "    def __len__(self):\n",
        "\n",
        "        return self.len\n",
        "\n"
      ],
      "execution_count": null,
      "outputs": []
    },
    {
      "cell_type": "code",
      "metadata": {
        "id": "BmS08-8zrp3z"
      },
      "source": [
        "train_data = TensorData(train_images, train_labels)\n",
        "train_loader = DataLoader(train_data, batch_size = 10, shuffle = True)"
      ],
      "execution_count": null,
      "outputs": []
    },
    {
      "cell_type": "code",
      "metadata": {
        "id": "QYiWqNN1r-HT",
        "outputId": "ed0b8fc7-fb56-4ace-ffdd-2de0f41c8c12",
        "colab": {
          "base_uri": "https://localhost:8080/",
          "height": 35
        }
      },
      "source": [
        "train_data[0][0].size()"
      ],
      "execution_count": null,
      "outputs": [
        {
          "output_type": "execute_result",
          "data": {
            "text/plain": [
              "torch.Size([3, 32, 32])"
            ]
          },
          "metadata": {
            "tags": []
          },
          "execution_count": 55
        }
      ]
    },
    {
      "cell_type": "code",
      "metadata": {
        "id": "XPLElwphsMlS"
      },
      "source": [
        "dataiter = iter(train_loader)\n",
        "images, labels = dataiter.next()"
      ],
      "execution_count": null,
      "outputs": []
    },
    {
      "cell_type": "code",
      "metadata": {
        "id": "fLi7jLTeshhz",
        "outputId": "251a14e9-02b6-4b1e-d2a5-cd9c9995fb5b",
        "colab": {
          "base_uri": "https://localhost:8080/",
          "height": 35
        }
      },
      "source": [
        "images.size()"
      ],
      "execution_count": null,
      "outputs": [
        {
          "output_type": "execute_result",
          "data": {
            "text/plain": [
              "torch.Size([10, 3, 32, 32])"
            ]
          },
          "metadata": {
            "tags": []
          },
          "execution_count": 57
        }
      ]
    },
    {
      "cell_type": "markdown",
      "metadata": {
        "id": "x49oXpzOtgFz"
      },
      "source": [
        "from torch.utils.data import Dataset\n",
        "\n",
        "class MyDataset(Dataset):\n",
        "\n",
        "    def __init__(self):\n",
        "\n",
        "    def __gettime__(self, index):\n",
        "\n",
        "    def __len__(self):\n",
        "        "
      ]
    },
    {
      "cell_type": "code",
      "metadata": {
        "id": "g0rPc0ctsktj"
      },
      "source": [
        "# memorize this format\n",
        "from torch.utils.data import Dataset\n",
        "\n",
        "class MyDataset(Dataset):\n",
        "\n",
        "    def __init__(self, x_data, y_data, transform = None):\n",
        "        self.x_data = x_data\n",
        "        self.y_data = y_data\n",
        "        self.transform = transform\n",
        "        self.len = len(y_data)\n",
        "\n",
        "    def __getitem__(self, index):\n",
        "        sample = self.x_data[index], self.y_data[index]\n",
        "\n",
        "        if self.transform:\n",
        "            sample = self.transform(sample)\n",
        "\n",
        "        return sample\n",
        "\n",
        "    def __len__(self):\n",
        "        return self.len\n",
        "\n",
        "class ToTensor:\n",
        "  \n",
        "    def __call__(self, sample):\n",
        "        inputs, labels = sample\n",
        "        inputs = torch.FloatTensor(inputs)\n",
        "        inputs = inputs.permute(2, 0, 1)\n",
        "        return inputs, torch.LongTensor(labels)\n",
        "\n",
        "class LinearTensor:\n",
        "\n",
        "    def __init__(self, slope = 1, bias = 0):\n",
        "        self.slope = slope\n",
        "        self.bias = bias\n",
        "\n",
        "    def __call__(self, sample):\n",
        "        inputs, labels = sample\n",
        "        inputs = self.slope * inputs + self.bias\n",
        "        return inputs, labels"
      ],
      "execution_count": null,
      "outputs": []
    },
    {
      "cell_type": "code",
      "metadata": {
        "id": "tpIniAG6vVpA"
      },
      "source": [
        "trans = tr.Compose([ToTensor(), LinearTensor(2, 5)]) # vs. transf = tr.Compose([tr.Resize(8), tr.ToTensor()])\n",
        "\n",
        "ds1 = MyDataset(train_images, train_labels, transform = trans)\n",
        "train_loader1 = DataLoader(ds1, batch_size = 10, shuffle = True)"
      ],
      "execution_count": null,
      "outputs": []
    },
    {
      "cell_type": "code",
      "metadata": {
        "id": "DFxzl3cwwSA7",
        "outputId": "ad164c03-362b-4cc5-a036-f1a2f6c16651",
        "colab": {
          "base_uri": "https://localhost:8080/",
          "height": 35
        }
      },
      "source": [
        "first_data = ds1[0]\n",
        "features, labels = first_data\n",
        "print(type(features), type(labels))"
      ],
      "execution_count": null,
      "outputs": [
        {
          "output_type": "stream",
          "text": [
            "<class 'torch.Tensor'> <class 'torch.Tensor'>\n"
          ],
          "name": "stdout"
        }
      ]
    },
    {
      "cell_type": "code",
      "metadata": {
        "id": "WaI0VX9awlkU"
      },
      "source": [
        "dataiter1 = iter(train_loader1)\n",
        "images1, labels1 = dataiter1.next()"
      ],
      "execution_count": null,
      "outputs": []
    },
    {
      "cell_type": "code",
      "metadata": {
        "id": "GihERZ_DyRJf",
        "outputId": "90710f9f-e176-44ff-98c6-5381bdc6ff83",
        "colab": {
          "base_uri": "https://localhost:8080/",
          "height": 1000
        }
      },
      "source": [
        "images1"
      ],
      "execution_count": null,
      "outputs": [
        {
          "output_type": "execute_result",
          "data": {
            "text/plain": [
              "tensor([[[[133., 499., 193.,  ..., 201., 389.,  91.],\n",
              "          [271., 377., 181.,  ..., 291., 499., 387.],\n",
              "          [379., 455.,   9.,  ...,  15., 325., 477.],\n",
              "          ...,\n",
              "          [269., 291.,  31.,  ...,  17., 119.,  15.],\n",
              "          [485., 259., 163.,  ..., 213.,  79., 201.],\n",
              "          [481., 429., 339.,  ..., 315., 103., 213.]],\n",
              "\n",
              "         [[327., 175., 255.,  ..., 473., 249.,  51.],\n",
              "          [247., 297., 381.,  ...,  67., 347.,  99.],\n",
              "          [111., 503., 375.,  ..., 379.,  89., 301.],\n",
              "          ...,\n",
              "          [391., 297.,  55.,  ..., 173., 117., 421.],\n",
              "          [419., 183., 335.,  ..., 361.,  17., 161.],\n",
              "          [473., 445., 389.,  ...,  43., 287.,  49.]],\n",
              "\n",
              "         [[469., 235., 511.,  ..., 411., 317.,  13.],\n",
              "          [403., 239., 181.,  ..., 431.,  33., 371.],\n",
              "          [235.,  21., 391.,  ..., 479.,  37., 205.],\n",
              "          ...,\n",
              "          [305., 405., 333.,  ..., 313., 307., 159.],\n",
              "          [ 55., 409., 129.,  ..., 399., 473., 377.],\n",
              "          [353., 507., 405.,  ..., 381., 239., 235.]]],\n",
              "\n",
              "\n",
              "        [[[ 37., 321., 341.,  ...,  83., 455., 265.],\n",
              "          [157., 195., 171.,  ..., 397., 275., 389.],\n",
              "          [373.,   9., 141.,  ...,  77.,  67., 197.],\n",
              "          ...,\n",
              "          [ 67., 345., 187.,  ..., 361., 181., 203.],\n",
              "          [ 47., 277., 355.,  ..., 353.,  77.,  75.],\n",
              "          [ 71., 121., 399.,  ..., 381., 339., 217.]],\n",
              "\n",
              "         [[313., 261., 351.,  ..., 157., 289., 265.],\n",
              "          [ 85., 161., 119.,  ..., 435., 207., 187.],\n",
              "          [249., 489., 295.,  ..., 483.,  17., 311.],\n",
              "          ...,\n",
              "          [109., 357., 183.,  ...,  99., 123., 169.],\n",
              "          [379., 239.,  81.,  ..., 229., 109., 289.],\n",
              "          [111., 331., 415.,  ..., 343., 303., 151.]],\n",
              "\n",
              "         [[ 45., 411.,  95.,  ..., 443., 491., 331.],\n",
              "          [269., 501., 261.,  ..., 417., 421., 229.],\n",
              "          [143., 425., 329.,  ..., 287., 485., 211.],\n",
              "          ...,\n",
              "          [173., 461., 199.,  ..., 217., 285.,  17.],\n",
              "          [131., 185.,  17.,  ..., 385.,  41., 375.],\n",
              "          [395., 475., 107.,  ..., 249., 107., 173.]]],\n",
              "\n",
              "\n",
              "        [[[ 27.,  59., 311.,  ...,  71., 441., 211.],\n",
              "          [ 19.,  47.,  57.,  ..., 505.,  23., 293.],\n",
              "          [ 37., 217., 295.,  ..., 185., 507., 181.],\n",
              "          ...,\n",
              "          [363., 117., 303.,  ..., 361., 353.,  31.],\n",
              "          [ 17.,  39., 223.,  ..., 283., 297.,  13.],\n",
              "          [141., 277.,  95.,  ..., 351., 233., 487.]],\n",
              "\n",
              "         [[375., 171., 209.,  ...,  41., 455., 415.],\n",
              "          [ 95., 375., 395.,  ...,   5., 309., 231.],\n",
              "          [281.,  31., 443.,  ..., 145., 341., 259.],\n",
              "          ...,\n",
              "          [263., 381.,  31.,  ..., 145., 455., 181.],\n",
              "          [457., 421., 147.,  ..., 335.,  25., 167.],\n",
              "          [489., 191.,  75.,  ...,  55., 281., 309.]],\n",
              "\n",
              "         [[171., 353., 329.,  ..., 467., 209., 431.],\n",
              "          [235., 485., 499.,  ..., 357., 337., 217.],\n",
              "          [139., 191.,  35.,  ...,  55., 327., 405.],\n",
              "          ...,\n",
              "          [467., 449.,   9.,  ...,  59., 163., 209.],\n",
              "          [227., 483., 475.,  ..., 343.,  95., 451.],\n",
              "          [ 41.,  49., 141.,  ..., 295., 449., 147.]]],\n",
              "\n",
              "\n",
              "        ...,\n",
              "\n",
              "\n",
              "        [[[363., 133., 207.,  ..., 223.,  81., 159.],\n",
              "          [ 15., 501., 503.,  ..., 159., 251., 509.],\n",
              "          [479., 301.,  15.,  ..., 319., 221., 185.],\n",
              "          ...,\n",
              "          [267., 461., 185.,  ..., 483.,  33., 101.],\n",
              "          [363.,  83., 329.,  ...,  11.,  77., 121.],\n",
              "          [319., 221.,  93.,  ..., 151., 111., 313.]],\n",
              "\n",
              "         [[259., 251.,  51.,  ...,  39., 285., 313.],\n",
              "          [209., 325., 513.,  ...,  11., 329.,  25.],\n",
              "          [ 65.,  67., 401.,  ..., 465., 361., 255.],\n",
              "          ...,\n",
              "          [123., 445., 259.,  ..., 219.,  49., 127.],\n",
              "          [213., 359., 483.,  ...,  11., 505.,  97.],\n",
              "          [ 27., 415., 115.,  ..., 313.,  13., 405.]],\n",
              "\n",
              "         [[205.,  25., 145.,  ..., 465., 275., 207.],\n",
              "          [ 89., 437.,  43.,  ..., 495., 223., 359.],\n",
              "          [ 21., 341., 243.,  ..., 427., 389., 313.],\n",
              "          ...,\n",
              "          [155., 343.,  81.,  ..., 201., 295., 165.],\n",
              "          [431., 159., 423.,  ..., 147.,  93., 437.],\n",
              "          [515., 313., 453.,  ..., 103., 205., 461.]]],\n",
              "\n",
              "\n",
              "        [[[379., 199., 109.,  ...,  15., 145., 505.],\n",
              "          [363., 145., 261.,  ..., 195., 283., 447.],\n",
              "          [213., 201., 361.,  ...,  31., 199., 313.],\n",
              "          ...,\n",
              "          [  7., 419., 121.,  ..., 459., 307., 501.],\n",
              "          [407., 481., 469.,  ..., 229., 425.,  15.],\n",
              "          [133., 381.,  73.,  ..., 457., 367., 269.]],\n",
              "\n",
              "         [[115., 315., 501.,  ..., 103., 377., 397.],\n",
              "          [ 93., 513.,  53.,  ..., 145., 433., 125.],\n",
              "          [475., 439., 403.,  ..., 255., 139., 287.],\n",
              "          ...,\n",
              "          [215., 375., 421.,  ..., 337., 183.,   5.],\n",
              "          [ 55., 461., 265.,  ..., 285., 167., 509.],\n",
              "          [ 29., 157., 279.,  ...,  17., 477., 499.]],\n",
              "\n",
              "         [[ 41., 219., 363.,  ..., 423., 491.,  19.],\n",
              "          [ 75., 133., 269.,  ..., 231., 417.,  55.],\n",
              "          [409., 169., 267.,  ...,  29.,  25., 177.],\n",
              "          ...,\n",
              "          [351., 295., 149.,  ..., 203., 141.,  45.],\n",
              "          [441.,  93., 233.,  ..., 447.,  89., 303.],\n",
              "          [185., 155., 471.,  ..., 189., 111., 515.]]],\n",
              "\n",
              "\n",
              "        [[[235., 175.,  89.,  ..., 439., 155., 355.],\n",
              "          [161.,  55.,  73.,  ..., 147.,  95., 115.],\n",
              "          [195., 339., 367.,  ...,  45., 177., 301.],\n",
              "          ...,\n",
              "          [279., 227., 423.,  ..., 229.,  61., 513.],\n",
              "          [335., 271., 181.,  ..., 441., 309., 477.],\n",
              "          [495., 511., 383.,  ..., 121., 123., 369.]],\n",
              "\n",
              "         [[ 49.,  59., 443.,  ..., 161., 173., 109.],\n",
              "          [483., 243., 411.,  ..., 327., 201., 325.],\n",
              "          [283.,   9.,  81.,  ..., 247.,  47., 493.],\n",
              "          ...,\n",
              "          [175., 209., 463.,  ..., 305., 491., 505.],\n",
              "          [137., 289., 457.,  ..., 463., 477., 127.],\n",
              "          [ 69., 187., 403.,  ..., 407., 513.,  49.]],\n",
              "\n",
              "         [[463., 383., 139.,  ..., 271., 179., 361.],\n",
              "          [319., 505., 205.,  ..., 247., 457., 111.],\n",
              "          [173.,  21.,  79.,  ..., 137., 285., 127.],\n",
              "          ...,\n",
              "          [ 41., 487., 455.,  ...,  31., 495.,  95.],\n",
              "          [171., 147., 365.,  ..., 177., 371.,  45.],\n",
              "          [161., 513.,  17.,  ...,  85., 177., 479.]]]])"
            ]
          },
          "metadata": {
            "tags": []
          },
          "execution_count": 81
        }
      ]
    },
    {
      "cell_type": "code",
      "metadata": {
        "id": "cx-cUTsjyWCM"
      },
      "source": [
        "class MyDataset(Dataset):\n",
        "\n",
        "    def __init__(self, x_data, y_data, transform = None):\n",
        "        self.x_data = x_data\n",
        "        self.y_data = y_data\n",
        "        self.transform = transform\n",
        "        self.len = len(y_data)\n",
        "\n",
        "    def __getitem__(self, index):\n",
        "        sample = self.x_data[index], self.y_data[index]\n",
        "\n",
        "        if self.transform:\n",
        "            sample = self.transform(sample)\n",
        "\n",
        "        return sample\n",
        "\n",
        "    def __len__(self):\n",
        "        return self.len\n",
        "\n",
        "class MyTransform:\n",
        "\n",
        "    def __call__(self, sample):\n",
        "        inputs, labels = sample\n",
        "        inputs = torch.FloatTensor(inputs)\n",
        "        inputs = inputs.permute(2, 0, 1)\n",
        "        labels = torch.FloatTensor(labels)\n",
        "\n",
        "        transf = tr.Compose([tr.ToPILImage(), tr.Resize(128), tr.ToTensor() ])\n",
        "        final_output = transf(inputs)\n",
        "\n",
        "        return final_output, labels"
      ],
      "execution_count": null,
      "outputs": []
    },
    {
      "cell_type": "code",
      "metadata": {
        "id": "gDtF4DUnzhL1"
      },
      "source": [
        "ds2 = MyDataset(train_images, train_labels, transform = MyTransform() )\n",
        "train_loader2 = DataLoader(ds2, batch_size = 10, shuffle = True)"
      ],
      "execution_count": null,
      "outputs": []
    },
    {
      "cell_type": "code",
      "metadata": {
        "id": "No9QX0auzzwN",
        "outputId": "9a9a30b7-4ea3-4abe-803c-a055f7565f0a",
        "colab": {
          "base_uri": "https://localhost:8080/",
          "height": 35
        }
      },
      "source": [
        "first_data = ds2[0]\n",
        "features, labels = first_data\n",
        "print(type(features), type(labels))"
      ],
      "execution_count": null,
      "outputs": [
        {
          "output_type": "stream",
          "text": [
            "<class 'torch.Tensor'> <class 'torch.Tensor'>\n"
          ],
          "name": "stdout"
        }
      ]
    },
    {
      "cell_type": "code",
      "metadata": {
        "id": "3fxI7d21z2UN"
      },
      "source": [
        "dataiter2 = iter(train_loader2)\n",
        "images2, labels2 = dataiter2.next()"
      ],
      "execution_count": null,
      "outputs": []
    },
    {
      "cell_type": "code",
      "metadata": {
        "id": "WCb4zzV70LCV",
        "outputId": "250fbb4c-d303-4e64-d3cc-3193be9baf09",
        "colab": {
          "base_uri": "https://localhost:8080/",
          "height": 35
        }
      },
      "source": [
        "images2.size()"
      ],
      "execution_count": null,
      "outputs": [
        {
          "output_type": "execute_result",
          "data": {
            "text/plain": [
              "torch.Size([10, 3, 128, 128])"
            ]
          },
          "metadata": {
            "tags": []
          },
          "execution_count": 96
        }
      ]
    },
    {
      "cell_type": "code",
      "metadata": {
        "id": "mOR5_mhg0NEt",
        "outputId": "eeda3cb0-7c76-46e5-c937-269eb2dbaa9a",
        "colab": {
          "base_uri": "https://localhost:8080/",
          "height": 1000
        }
      },
      "source": [
        "images2"
      ],
      "execution_count": null,
      "outputs": [
        {
          "output_type": "execute_result",
          "data": {
            "text/plain": [
              "tensor([[[[0.0275, 0.0275, 0.0275,  ..., 0.7843, 0.7882, 0.7882],\n",
              "          [0.0275, 0.0275, 0.0275,  ..., 0.7843, 0.7882, 0.7882],\n",
              "          [0.1137, 0.1137, 0.1098,  ..., 0.7216, 0.7294, 0.7294],\n",
              "          ...,\n",
              "          [0.4000, 0.4000, 0.4275,  ..., 0.1059, 0.0863, 0.0863],\n",
              "          [0.3529, 0.3529, 0.3961,  ..., 0.0627, 0.0431, 0.0431],\n",
              "          [0.3529, 0.3529, 0.3961,  ..., 0.0627, 0.0431, 0.0431]],\n",
              "\n",
              "         [[0.6039, 0.6039, 0.5725,  ..., 0.7765, 0.8196, 0.8196],\n",
              "          [0.6039, 0.6039, 0.5725,  ..., 0.7765, 0.8196, 0.8196],\n",
              "          [0.6078, 0.6078, 0.5725,  ..., 0.6784, 0.7176, 0.7176],\n",
              "          ...,\n",
              "          [0.6353, 0.6353, 0.6314,  ..., 0.4980, 0.5020, 0.5020],\n",
              "          [0.6941, 0.6941, 0.6863,  ..., 0.5373, 0.5412, 0.5412],\n",
              "          [0.6941, 0.6941, 0.6863,  ..., 0.5373, 0.5412, 0.5412]],\n",
              "\n",
              "         [[0.4745, 0.4745, 0.5333,  ..., 0.2471, 0.2039, 0.2039],\n",
              "          [0.4745, 0.4745, 0.5333,  ..., 0.2471, 0.2039, 0.2039],\n",
              "          [0.5137, 0.5137, 0.5569,  ..., 0.2980, 0.2627, 0.2627],\n",
              "          ...,\n",
              "          [0.0980, 0.0980, 0.1490,  ..., 0.3216, 0.2941, 0.2941],\n",
              "          [0.0980, 0.0980, 0.1451,  ..., 0.3373, 0.3098, 0.3098],\n",
              "          [0.0980, 0.0980, 0.1451,  ..., 0.3373, 0.3098, 0.3098]]],\n",
              "\n",
              "\n",
              "        [[[0.4275, 0.4275, 0.4431,  ..., 0.6314, 0.7020, 0.7020],\n",
              "          [0.4275, 0.4275, 0.4431,  ..., 0.6314, 0.7020, 0.7020],\n",
              "          [0.4667, 0.4667, 0.4745,  ..., 0.6431, 0.7020, 0.7020],\n",
              "          ...,\n",
              "          [0.2902, 0.2902, 0.3725,  ..., 0.2745, 0.1882, 0.1882],\n",
              "          [0.2863, 0.2863, 0.3725,  ..., 0.2824, 0.1882, 0.1882],\n",
              "          [0.2863, 0.2863, 0.3725,  ..., 0.2824, 0.1882, 0.1882]],\n",
              "\n",
              "         [[0.4863, 0.4863, 0.4706,  ..., 0.4157, 0.4118, 0.4118],\n",
              "          [0.4863, 0.4863, 0.4706,  ..., 0.4157, 0.4118, 0.4118],\n",
              "          [0.4902, 0.4902, 0.4745,  ..., 0.4588, 0.4549, 0.4549],\n",
              "          ...,\n",
              "          [0.8118, 0.8118, 0.7451,  ..., 0.8314, 0.8863, 0.8863],\n",
              "          [0.8275, 0.8275, 0.7608,  ..., 0.8353, 0.8980, 0.8980],\n",
              "          [0.8275, 0.8275, 0.7608,  ..., 0.8353, 0.8980, 0.8980]],\n",
              "\n",
              "         [[0.1216, 0.1216, 0.1176,  ..., 0.6824, 0.6824, 0.6824],\n",
              "          [0.1216, 0.1216, 0.1176,  ..., 0.6824, 0.6824, 0.6824],\n",
              "          [0.2196, 0.2196, 0.2118,  ..., 0.6039, 0.6000, 0.6000],\n",
              "          ...,\n",
              "          [0.5255, 0.5255, 0.4902,  ..., 0.1294, 0.1294, 0.1294],\n",
              "          [0.4706, 0.4706, 0.4431,  ..., 0.1255, 0.1255, 0.1255],\n",
              "          [0.4706, 0.4706, 0.4431,  ..., 0.1255, 0.1255, 0.1255]]],\n",
              "\n",
              "\n",
              "        [[[0.3020, 0.3020, 0.3569,  ..., 0.7216, 0.7020, 0.7020],\n",
              "          [0.3020, 0.3020, 0.3569,  ..., 0.7216, 0.7020, 0.7020],\n",
              "          [0.3882, 0.3882, 0.4196,  ..., 0.6431, 0.6157, 0.6157],\n",
              "          ...,\n",
              "          [0.3765, 0.3765, 0.4078,  ..., 0.4941, 0.4471, 0.4471],\n",
              "          [0.3882, 0.3882, 0.4118,  ..., 0.4510, 0.4000, 0.4000],\n",
              "          [0.3882, 0.3882, 0.4118,  ..., 0.4510, 0.4000, 0.4000]],\n",
              "\n",
              "         [[0.5059, 0.5059, 0.5098,  ..., 0.4078, 0.4000, 0.4000],\n",
              "          [0.5059, 0.5059, 0.5098,  ..., 0.4078, 0.4000, 0.4000],\n",
              "          [0.5176, 0.5176, 0.5176,  ..., 0.4667, 0.4706, 0.4706],\n",
              "          ...,\n",
              "          [0.9137, 0.9137, 0.8275,  ..., 0.3686, 0.2941, 0.2941],\n",
              "          [0.9608, 0.9608, 0.8667,  ..., 0.3176, 0.2196, 0.2196],\n",
              "          [0.9608, 0.9608, 0.8667,  ..., 0.3176, 0.2196, 0.2196]],\n",
              "\n",
              "         [[0.6118, 0.6118, 0.6549,  ..., 0.5922, 0.6078, 0.6078],\n",
              "          [0.6118, 0.6118, 0.6549,  ..., 0.5922, 0.6078, 0.6078],\n",
              "          [0.6392, 0.6392, 0.6667,  ..., 0.5608, 0.5725, 0.5725],\n",
              "          ...,\n",
              "          [0.0235, 0.0235, 0.0784,  ..., 0.1804, 0.1176, 0.1176],\n",
              "          [0.0039, 0.0039, 0.0549,  ..., 0.1725, 0.1098, 0.1098],\n",
              "          [0.0039, 0.0039, 0.0549,  ..., 0.1725, 0.1098, 0.1098]]],\n",
              "\n",
              "\n",
              "        ...,\n",
              "\n",
              "\n",
              "        [[[0.2863, 0.2863, 0.2745,  ..., 0.7098, 0.7725, 0.7725],\n",
              "          [0.2863, 0.2863, 0.2745,  ..., 0.7098, 0.7725, 0.7725],\n",
              "          [0.2588, 0.2588, 0.2510,  ..., 0.6510, 0.7020, 0.7020],\n",
              "          ...,\n",
              "          [0.8510, 0.8510, 0.8118,  ..., 0.2784, 0.2353, 0.2353],\n",
              "          [0.8902, 0.8902, 0.8510,  ..., 0.2667, 0.2196, 0.2196],\n",
              "          [0.8902, 0.8902, 0.8510,  ..., 0.2667, 0.2196, 0.2196]],\n",
              "\n",
              "         [[0.6353, 0.6353, 0.6824,  ..., 0.1686, 0.1647, 0.1647],\n",
              "          [0.6353, 0.6353, 0.6824,  ..., 0.1686, 0.1647, 0.1647],\n",
              "          [0.5569, 0.5569, 0.6118,  ..., 0.2118, 0.2039, 0.2039],\n",
              "          ...,\n",
              "          [0.3137, 0.3137, 0.3725,  ..., 0.1098, 0.0431, 0.0431],\n",
              "          [0.2863, 0.2863, 0.3529,  ..., 0.1176, 0.0431, 0.0431],\n",
              "          [0.2863, 0.2863, 0.3529,  ..., 0.1176, 0.0431, 0.0431]],\n",
              "\n",
              "         [[0.4353, 0.4353, 0.4078,  ..., 0.2902, 0.2863, 0.2863],\n",
              "          [0.4353, 0.4353, 0.4078,  ..., 0.2902, 0.2863, 0.2863],\n",
              "          [0.4471, 0.4471, 0.4196,  ..., 0.2863, 0.2863, 0.2863],\n",
              "          ...,\n",
              "          [0.2980, 0.2980, 0.3059,  ..., 0.3098, 0.2275, 0.2275],\n",
              "          [0.2196, 0.2196, 0.2314,  ..., 0.2510, 0.1490, 0.1490],\n",
              "          [0.2196, 0.2196, 0.2314,  ..., 0.2510, 0.1490, 0.1490]]],\n",
              "\n",
              "\n",
              "        [[[0.5529, 0.5529, 0.5686,  ..., 0.3686, 0.3176, 0.3176],\n",
              "          [0.5529, 0.5529, 0.5686,  ..., 0.3686, 0.3176, 0.3176],\n",
              "          [0.5725, 0.5725, 0.5882,  ..., 0.4235, 0.3765, 0.3765],\n",
              "          ...,\n",
              "          [0.0824, 0.0824, 0.0824,  ..., 0.3216, 0.2627, 0.2627],\n",
              "          [0.0431, 0.0431, 0.0392,  ..., 0.3490, 0.2902, 0.2902],\n",
              "          [0.0431, 0.0431, 0.0392,  ..., 0.3490, 0.2902, 0.2902]],\n",
              "\n",
              "         [[0.9176, 0.9176, 0.9137,  ..., 0.7843, 0.8000, 0.8000],\n",
              "          [0.9176, 0.9176, 0.9137,  ..., 0.7843, 0.8000, 0.8000],\n",
              "          [0.8118, 0.8118, 0.8157,  ..., 0.7373, 0.7490, 0.7490],\n",
              "          ...,\n",
              "          [0.8627, 0.8627, 0.8353,  ..., 0.7882, 0.8980, 0.8980],\n",
              "          [0.8784, 0.8784, 0.8510,  ..., 0.8039, 0.9176, 0.9176],\n",
              "          [0.8784, 0.8784, 0.8510,  ..., 0.8039, 0.9176, 0.9176]],\n",
              "\n",
              "         [[0.1059, 0.1059, 0.1255,  ..., 0.3490, 0.3059, 0.3059],\n",
              "          [0.1059, 0.1059, 0.1255,  ..., 0.3490, 0.3059, 0.3059],\n",
              "          [0.1412, 0.1412, 0.1529,  ..., 0.3961, 0.3686, 0.3686],\n",
              "          ...,\n",
              "          [0.6941, 0.6941, 0.6196,  ..., 0.2353, 0.1804, 0.1804],\n",
              "          [0.6980, 0.6980, 0.6118,  ..., 0.1490, 0.0745, 0.0745],\n",
              "          [0.6980, 0.6980, 0.6118,  ..., 0.1490, 0.0745, 0.0745]]],\n",
              "\n",
              "\n",
              "        [[[0.6392, 0.6392, 0.6118,  ..., 0.7333, 0.7059, 0.7059],\n",
              "          [0.6392, 0.6392, 0.6118,  ..., 0.7333, 0.7059, 0.7059],\n",
              "          [0.5725, 0.5725, 0.5608,  ..., 0.7569, 0.7373, 0.7373],\n",
              "          ...,\n",
              "          [0.5882, 0.5882, 0.5490,  ..., 0.8667, 0.9686, 0.9686],\n",
              "          [0.5647, 0.5647, 0.5255,  ..., 0.8863, 0.9922, 0.9922],\n",
              "          [0.5647, 0.5647, 0.5255,  ..., 0.8863, 0.9922, 0.9922]],\n",
              "\n",
              "         [[0.2000, 0.2000, 0.2000,  ..., 0.0353, 0.0314, 0.0314],\n",
              "          [0.2000, 0.2000, 0.2000,  ..., 0.0353, 0.0314, 0.0314],\n",
              "          [0.2353, 0.2353, 0.2275,  ..., 0.0745, 0.0784, 0.0784],\n",
              "          ...,\n",
              "          [0.3373, 0.3373, 0.3059,  ..., 0.2549, 0.2000, 0.2000],\n",
              "          [0.3804, 0.3804, 0.3451,  ..., 0.1882, 0.1137, 0.1137],\n",
              "          [0.3804, 0.3804, 0.3451,  ..., 0.1882, 0.1137, 0.1137]],\n",
              "\n",
              "         [[0.1294, 0.1294, 0.1804,  ..., 0.7020, 0.7255, 0.7255],\n",
              "          [0.1294, 0.1294, 0.1804,  ..., 0.7020, 0.7255, 0.7255],\n",
              "          [0.1569, 0.1569, 0.2078,  ..., 0.7020, 0.7333, 0.7333],\n",
              "          ...,\n",
              "          [0.6863, 0.6863, 0.6196,  ..., 0.5765, 0.6275, 0.6275],\n",
              "          [0.7412, 0.7412, 0.6627,  ..., 0.6078, 0.6667, 0.6667],\n",
              "          [0.7412, 0.7412, 0.6627,  ..., 0.6078, 0.6667, 0.6667]]]])"
            ]
          },
          "metadata": {
            "tags": []
          },
          "execution_count": 97
        }
      ]
    },
    {
      "cell_type": "markdown",
      "metadata": {
        "id": "VO9v_Xb-nGRx"
      },
      "source": [
        "# 4. Build and Save Basic Models"
      ]
    },
    {
      "cell_type": "code",
      "metadata": {
        "id": "ekcohSCU0UIe"
      },
      "source": [
        "import torch\n",
        "import torchvision\n",
        "import torchvision.transforms as transforms\n",
        "from torch.utils.data import DataLoader"
      ],
      "execution_count": null,
      "outputs": []
    },
    {
      "cell_type": "markdown",
      "metadata": {
        "id": "cRrgGY92nVpW"
      },
      "source": [
        "## 4.1. Load data set"
      ]
    },
    {
      "cell_type": "code",
      "metadata": {
        "id": "7UIb0j9enUcz",
        "outputId": "b1e86bff-7495-4d4d-fa01-87fdb3473b03",
        "colab": {
          "base_uri": "https://localhost:8080/",
          "height": 51
        }
      },
      "source": [
        "transform = transforms.Compose(\n",
        "    [transforms.ToTensor(),\n",
        "     transforms.Normalize((0.5, 0.5, 0.5), (0.5, 0.5, 0.5))]\n",
        ")\n",
        "\n",
        "trainset = torchvision.datasets.CIFAR10(root='./data', train=True,\n",
        "                                        download=True, transform=transform)\n",
        "\n",
        "trainloader = torch.utils.data.DataLoader(trainset, batch_size = 8,\n",
        "                                          shuffle=True, num_workers = 2)\n",
        "\n",
        "testset = torchvision.datasets.CIFAR10(root='./data', train=False,\n",
        "                                       download=True, transform=transform)\n",
        "\n",
        "testloader = torch.utils.data.DataLoader(testset, batch_size = 8, \n",
        "                                         shuffle = False, num_workers = 2)\n",
        "\n",
        "classes = ( 'plane', 'car', 'bird', 'cat', \n",
        "           'deer', 'dog', 'frog', 'horse', 'ship', 'truck')"
      ],
      "execution_count": null,
      "outputs": [
        {
          "output_type": "stream",
          "text": [
            "Files already downloaded and verified\n",
            "Files already downloaded and verified\n"
          ],
          "name": "stdout"
        }
      ]
    },
    {
      "cell_type": "markdown",
      "metadata": {
        "id": "jTlQtQo2wdjq"
      },
      "source": [
        "## 4.2. Build a model"
      ]
    },
    {
      "cell_type": "code",
      "metadata": {
        "id": "WJ6BpSm7vaBZ"
      },
      "source": [
        "import torch.nn as nn\n",
        "import torch.nn.functional as F\n",
        "\n",
        "class Net(nn.Module):\n",
        "    def __init__(self):\n",
        "        super(Net, self).__init__()\n",
        "        self.conv1 = nn.Conv2d(3, 6, 5)\n",
        "        self.pool = nn.MaxPool2d(2, 2)\n",
        "        self.conv2 = nn.Conv2d(6, 16, 5)\n",
        "        self.fc1 = nn.Linear(16 * 5 * 5, 120)\n",
        "        self.fc2 = nn.Linear(120, 84)\n",
        "        self.fc3 = nn.Linear(84, 10)\n",
        "\n",
        "    def forward(self, x):\n",
        "        x = self.pool(F.relu(self.conv1(x)))\n",
        "        x = self.pool(F.relu(self.conv2(x)))\n",
        "        x = x.view(-1, 16 * 5 * 5) # in order to plug in x to fully connected we flat the x with view funtion \n",
        "        x = F.relu(self.fc1(x))\n",
        "        x = F.relu(self.fc2(x))\n",
        "        x = self.fc3(x)\n",
        "        return x\n",
        "\n",
        "net = Net()"
      ],
      "execution_count": null,
      "outputs": []
    },
    {
      "cell_type": "code",
      "metadata": {
        "id": "JRF5TTmo0uvE",
        "outputId": "ea8a4cec-8cc3-448c-e152-e7b32685e035",
        "colab": {
          "base_uri": "https://localhost:8080/",
          "height": 173
        }
      },
      "source": [
        "print(net)"
      ],
      "execution_count": null,
      "outputs": [
        {
          "output_type": "stream",
          "text": [
            "Net(\n",
            "  (conv1): Conv2d(3, 6, kernel_size=(5, 5), stride=(1, 1))\n",
            "  (pool): MaxPool2d(kernel_size=2, stride=2, padding=0, dilation=1, ceil_mode=False)\n",
            "  (conv2): Conv2d(6, 16, kernel_size=(5, 5), stride=(1, 1))\n",
            "  (fc1): Linear(in_features=400, out_features=120, bias=True)\n",
            "  (fc2): Linear(in_features=120, out_features=84, bias=True)\n",
            "  (fc3): Linear(in_features=84, out_features=10, bias=True)\n",
            ")\n"
          ],
          "name": "stdout"
        }
      ]
    },
    {
      "cell_type": "markdown",
      "metadata": {
        "id": "dMXlPc991Fho"
      },
      "source": [
        "## 4.3. Implement the model with training set"
      ]
    },
    {
      "cell_type": "code",
      "metadata": {
        "id": "kPmySilO0xEO"
      },
      "source": [
        "import torch.optim as optim\n",
        "\n",
        "criterion = nn.CrossEntropyLoss() # classifying \n",
        "optimizer = optim.SGD(net.parameters(), lr=0.001, momentum=0.9)"
      ],
      "execution_count": null,
      "outputs": []
    },
    {
      "cell_type": "code",
      "metadata": {
        "id": "3nlu7v-_2OyF",
        "outputId": "e1315053-5cba-4562-95cf-b9736fe0d725",
        "colab": {
          "base_uri": "https://localhost:8080/",
          "height": 85
        }
      },
      "source": [
        "for epoch in range(1): # loop over the dataset multiple times\n",
        "\n",
        "    running_loss = 0.0\n",
        "    for i, data in enumerate(trainloader, 0): \n",
        "        # get the inputs; data is a list of [inputs, labels]\n",
        "        inputs, labels = data\n",
        "\n",
        "        # zero the parmeter gradients\n",
        "        optimizer.zero_grad()\n",
        "\n",
        "        # forward + backward + optimize\n",
        "        outputs = net(inputs)\n",
        "        loss = criterion(outputs, labels)\n",
        "        loss.backward()\n",
        "        optimizer.step()\n",
        "\n",
        "        # print statistics\n",
        "        running_loss += loss.item()\n",
        "        if i % 2000 == 1999: # print every 2000 mini-batches\n",
        "            print('[%d, %5d] loss: %.3f' %\n",
        "                  (epoch + 1, i + 1, running_loss / 2000))\n",
        "            running_loss = 0.0\n",
        "\n",
        "print('Finished Training')"
      ],
      "execution_count": null,
      "outputs": [
        {
          "output_type": "stream",
          "text": [
            "[1,  2000] loss: 2.200\n",
            "[1,  4000] loss: 1.815\n",
            "[1,  6000] loss: 1.613\n",
            "Finished Training\n"
          ],
          "name": "stdout"
        }
      ]
    },
    {
      "cell_type": "markdown",
      "metadata": {
        "id": "OjyRbuxo_7JF"
      },
      "source": [
        "### 4.4. Save the trained model"
      ]
    },
    {
      "cell_type": "code",
      "metadata": {
        "id": "pZ_qj5cd_6Mu"
      },
      "source": [
        "PATH = './cifar_net.pth'\n",
        "torch.save(net.state_dict(), PATH)"
      ],
      "execution_count": null,
      "outputs": []
    },
    {
      "cell_type": "markdown",
      "metadata": {
        "id": "mSCmc7h1ATAX"
      },
      "source": [
        "### 4.5 Load the pre-trained model"
      ]
    },
    {
      "cell_type": "code",
      "metadata": {
        "id": "hd84HglF_nmB",
        "outputId": "1a0aae2e-2ca8-49e0-d061-49b5ac23dec9",
        "colab": {
          "base_uri": "https://localhost:8080/",
          "height": 34
        }
      },
      "source": [
        "net = Net()\n",
        "net.load_state_dict((torch.load(PATH)))"
      ],
      "execution_count": null,
      "outputs": [
        {
          "output_type": "execute_result",
          "data": {
            "text/plain": [
              "<All keys matched successfully>"
            ]
          },
          "metadata": {
            "tags": []
          },
          "execution_count": 25
        }
      ]
    },
    {
      "cell_type": "markdown",
      "metadata": {
        "id": "vXbABJ5FAk-I"
      },
      "source": [
        "### output은 미니배치의 결과가 산출되기 때문에 for 문을 통해서 test 전체의 예측값을 구해야 한다."
      ]
    },
    {
      "cell_type": "code",
      "metadata": {
        "id": "dwdZYQYPAbiE",
        "outputId": "b853a39a-da44-4830-9b8d-601657037bdb",
        "colab": {
          "base_uri": "https://localhost:8080/",
          "height": 34
        }
      },
      "source": [
        "correct = 0\n",
        "total = 0\n",
        "with torch.no_grad():\n",
        "    for data in testloader:\n",
        "        images, labels = data\n",
        "        outputs = net(images) # output is the vector of length 10 \n",
        "        _, predicted = torch.max(outputs.data, 1)\n",
        "        total += labels.size(0)\n",
        "        correct += (predicted == labels).sum().item()\n",
        "\n",
        "print(\"Accuracy of the network on the 10000 test images: %d %%\" % (100 * correct / total))"
      ],
      "execution_count": null,
      "outputs": [
        {
          "output_type": "stream",
          "text": [
            "Accuracy of the network on the 10000 test images: 43 %\n"
          ],
          "name": "stdout"
        }
      ]
    },
    {
      "cell_type": "markdown",
      "metadata": {
        "id": "0qWKmxmSDYBN"
      },
      "source": [
        "# 5. Network-based Deep Transfer Learning"
      ]
    },
    {
      "cell_type": "code",
      "metadata": {
        "id": "MV3Rfs-6BZMV"
      },
      "source": [
        "import torch\n",
        "import torchvision\n",
        "import torchvision.transforms as transforms # data preprocessing\n",
        "from torch.utils.data import DataLoader # mini-batch\n",
        "\n",
        "import torch.nn as nn # loss\n",
        "import torch.optim as optim # optimizer"
      ],
      "execution_count": null,
      "outputs": []
    },
    {
      "cell_type": "code",
      "metadata": {
        "id": "enlyO10RDepm",
        "outputId": "7466ec76-6a4c-4410-8edc-c055df1a7e26",
        "colab": {
          "base_uri": "https://localhost:8080/",
          "height": 34
        }
      },
      "source": [
        "from google.colab import drive\n",
        "drive.mount('/content/gdrive')"
      ],
      "execution_count": null,
      "outputs": [
        {
          "output_type": "stream",
          "text": [
            "Mounted at /content/gdrive\n"
          ],
          "name": "stdout"
        }
      ]
    },
    {
      "cell_type": "code",
      "metadata": {
        "id": "ZMx8bgTVVs9V",
        "outputId": "a608661a-8386-41d5-f59a-5480dbb538a8",
        "colab": {
          "base_uri": "https://localhost:8080/",
          "height": 34
        }
      },
      "source": [
        "PATH = '/content/gdrive/My Drive/colab/pytorch_tutorial/'\n",
        "device = torch.device(\"cuda:0\" if torch.cuda.is_available() else \"cpu\")\n",
        "print(device)"
      ],
      "execution_count": null,
      "outputs": [
        {
          "output_type": "stream",
          "text": [
            "cuda:0\n"
          ],
          "name": "stdout"
        }
      ]
    },
    {
      "cell_type": "code",
      "metadata": {
        "id": "EgLy_y4aaqaQ",
        "outputId": "cea1adc2-65c6-44bc-8ec3-2e296c3e44a1",
        "colab": {
          "base_uri": "https://localhost:8080/",
          "height": 100,
          "referenced_widgets": [
            "2ec8260d26f346e3bec1fa66abf40724",
            "63811025292c46bd9dad22f708250903",
            "19da6be5a23f4612a02d46675067805b",
            "93b8a169076b44428b9a9d7b5101546d",
            "053fe49ac2a647989d7ac3c8197372f4",
            "7a81d0d132474e96838386cee5aa58ad",
            "b2c097d705ec4a3abcc2396baf954138",
            "d095c9481b984f4f9ef85ffacc949b19"
          ]
        }
      },
      "source": [
        "transform = transforms.Compose(\n",
        "    [transforms.ToTensor(),\n",
        "     transforms.Normalize((0.5, 0.5, 0.5), (0.5, 0.5, 0.5))]\n",
        ")\n",
        "\n",
        "trainset = torchvision.datasets.CIFAR10(root = PATH + 'data', train=True,\n",
        "                                        download=True, transform=transform)\n",
        "\n",
        "trainloader = torch.utils.data.DataLoader(trainset, batch_size = 100,\n",
        "                                          shuffle=True, num_workers = 2)\n",
        "\n",
        "testset = torchvision.datasets.CIFAR10(root = PATH + 'data', train=False,\n",
        "                                       download=True, transform=transform)\n",
        "\n",
        "testloader = torch.utils.data.DataLoader(testset, batch_size = 100, \n",
        "                                         shuffle = False, num_workers = 2)\n",
        "\n",
        "classes = ( 'plane', 'car', 'bird', 'cat', \n",
        "           'deer', 'dog', 'frog', 'horse', 'ship', 'truck')"
      ],
      "execution_count": null,
      "outputs": [
        {
          "output_type": "stream",
          "text": [
            "Downloading https://www.cs.toronto.edu/~kriz/cifar-10-python.tar.gz to /content/gdrive/My Drive/colab/pytorch_tutorial/data/cifar-10-python.tar.gz\n"
          ],
          "name": "stdout"
        },
        {
          "output_type": "display_data",
          "data": {
            "application/vnd.jupyter.widget-view+json": {
              "model_id": "2ec8260d26f346e3bec1fa66abf40724",
              "version_minor": 0,
              "version_major": 2
            },
            "text/plain": [
              "HBox(children=(FloatProgress(value=1.0, bar_style='info', max=1.0), HTML(value='')))"
            ]
          },
          "metadata": {
            "tags": []
          }
        },
        {
          "output_type": "stream",
          "text": [
            "Extracting /content/gdrive/My Drive/colab/pytorch_tutorial/data/cifar-10-python.tar.gz to /content/gdrive/My Drive/colab/pytorch_tutorial/data\n",
            "Files already downloaded and verified\n"
          ],
          "name": "stdout"
        }
      ]
    },
    {
      "cell_type": "code",
      "metadata": {
        "id": "yocnVEeFa2YJ",
        "outputId": "6b1ff185-0ae8-449b-dec3-de8ddb200c03",
        "colab": {
          "base_uri": "https://localhost:8080/",
          "height": 124
        }
      },
      "source": [
        "import matplotlib.pyplot as plt\n",
        "import numpy as np\n",
        "\n",
        "def imshow(img):\n",
        "    img = img / 2 + 0.5\n",
        "    npimg = img.numpy()\n",
        "    fig = plt.figure(figsize=(10, 5))\n",
        "    plt.imshow(np.transpose(npimg, (1, 2, 0)))\n",
        "    plt.show()\n",
        "\n",
        "dataiter = iter(trainloader)\n",
        "images, labels = dataiter.next()\n",
        "\n",
        "imshow(torchvision.utils.make_grid(images[:8]))"
      ],
      "execution_count": null,
      "outputs": [
        {
          "output_type": "display_data",
          "data": {
            "image/png": "[encoded data removed]",
            "text/plain": [
              "<Figure size 720x360 with 1 Axes>"
            ]
          },
          "metadata": {
            "tags": [],
            "needs_background": "light"
          }
        }
      ]
    },
    {
      "cell_type": "code",
      "metadata": {
        "id": "SO8yXGw-cCDU",
        "outputId": "e726217f-9c80-4799-ce77-4efbc09ea919",
        "colab": {
          "base_uri": "https://localhost:8080/",
          "height": 83,
          "referenced_widgets": [
            "91bc170bdeba48d3b95e0fc2410af9a2",
            "918cb177f6324cd181e22c54a80b6f83",
            "e8d9a5b69aac412cabdce0b644c5ed7b",
            "552c03537e1f4bc49f075a63796fba5d",
            "71ad8c3c5cfe4966b5256d38d85bdb39",
            "a91fb4b4dc2e4581942a1be12504b73c",
            "e37f0a3aec7d4b5482c6120daa927ca3",
            "4913eda3eaf04322adb855ee228e3da9"
          ]
        }
      },
      "source": [
        "model = torchvision.models.resnet50(pretrained = True).to(device)\n",
        "# If True, returns a model pre-trained on ImageNet\n",
        "# transfer the model to the GPU"
      ],
      "execution_count": null,
      "outputs": [
        {
          "output_type": "stream",
          "text": [
            "Downloading: \"https://download.pytorch.org/models/resnet50-19c8e357.pth\" to /root/.cache/torch/hub/checkpoints/resnet50-19c8e357.pth\n"
          ],
          "name": "stderr"
        },
        {
          "output_type": "display_data",
          "data": {
            "application/vnd.jupyter.widget-view+json": {
              "model_id": "91bc170bdeba48d3b95e0fc2410af9a2",
              "version_minor": 0,
              "version_major": 2
            },
            "text/plain": [
              "HBox(children=(FloatProgress(value=0.0, max=102502400.0), HTML(value='')))"
            ]
          },
          "metadata": {
            "tags": []
          }
        },
        {
          "output_type": "stream",
          "text": [
            "\n"
          ],
          "name": "stdout"
        }
      ]
    },
    {
      "cell_type": "code",
      "metadata": {
        "id": "T2efXQ5JcYgf",
        "outputId": "3a582fc9-dd42-437e-de96-40806ec0585b",
        "colab": {
          "base_uri": "https://localhost:8080/",
          "height": 1000
        }
      },
      "source": [
        "model\n",
        "# pretrained model's out_features are 1000 length vector, so we will change it's length to 10"
      ],
      "execution_count": null,
      "outputs": [
        {
          "output_type": "execute_result",
          "data": {
            "text/plain": [
              "ResNet(\n",
              "  (conv1): Conv2d(3, 64, kernel_size=(7, 7), stride=(2, 2), padding=(3, 3), bias=False)\n",
              "  (bn1): BatchNorm2d(64, eps=1e-05, momentum=0.1, affine=True, track_running_stats=True)\n",
              "  (relu): ReLU(inplace=True)\n",
              "  (maxpool): MaxPool2d(kernel_size=3, stride=2, padding=1, dilation=1, ceil_mode=False)\n",
              "  (layer1): Sequential(\n",
              "    (0): Bottleneck(\n",
              "      (conv1): Conv2d(64, 64, kernel_size=(1, 1), stride=(1, 1), bias=False)\n",
              "      (bn1): BatchNorm2d(64, eps=1e-05, momentum=0.1, affine=True, track_running_stats=True)\n",
              "      (conv2): Conv2d(64, 64, kernel_size=(3, 3), stride=(1, 1), padding=(1, 1), bias=False)\n",
              "      (bn2): BatchNorm2d(64, eps=1e-05, momentum=0.1, affine=True, track_running_stats=True)\n",
              "      (conv3): Conv2d(64, 256, kernel_size=(1, 1), stride=(1, 1), bias=False)\n",
              "      (bn3): BatchNorm2d(256, eps=1e-05, momentum=0.1, affine=True, track_running_stats=True)\n",
              "      (relu): ReLU(inplace=True)\n",
              "      (downsample): Sequential(\n",
              "        (0): Conv2d(64, 256, kernel_size=(1, 1), stride=(1, 1), bias=False)\n",
              "        (1): BatchNorm2d(256, eps=1e-05, momentum=0.1, affine=True, track_running_stats=True)\n",
              "      )\n",
              "    )\n",
              "    (1): Bottleneck(\n",
              "      (conv1): Conv2d(256, 64, kernel_size=(1, 1), stride=(1, 1), bias=False)\n",
              "      (bn1): BatchNorm2d(64, eps=1e-05, momentum=0.1, affine=True, track_running_stats=True)\n",
              "      (conv2): Conv2d(64, 64, kernel_size=(3, 3), stride=(1, 1), padding=(1, 1), bias=False)\n",
              "      (bn2): BatchNorm2d(64, eps=1e-05, momentum=0.1, affine=True, track_running_stats=True)\n",
              "      (conv3): Conv2d(64, 256, kernel_size=(1, 1), stride=(1, 1), bias=False)\n",
              "      (bn3): BatchNorm2d(256, eps=1e-05, momentum=0.1, affine=True, track_running_stats=True)\n",
              "      (relu): ReLU(inplace=True)\n",
              "    )\n",
              "    (2): Bottleneck(\n",
              "      (conv1): Conv2d(256, 64, kernel_size=(1, 1), stride=(1, 1), bias=False)\n",
              "      (bn1): BatchNorm2d(64, eps=1e-05, momentum=0.1, affine=True, track_running_stats=True)\n",
              "      (conv2): Conv2d(64, 64, kernel_size=(3, 3), stride=(1, 1), padding=(1, 1), bias=False)\n",
              "      (bn2): BatchNorm2d(64, eps=1e-05, momentum=0.1, affine=True, track_running_stats=True)\n",
              "      (conv3): Conv2d(64, 256, kernel_size=(1, 1), stride=(1, 1), bias=False)\n",
              "      (bn3): BatchNorm2d(256, eps=1e-05, momentum=0.1, affine=True, track_running_stats=True)\n",
              "      (relu): ReLU(inplace=True)\n",
              "    )\n",
              "  )\n",
              "  (layer2): Sequential(\n",
              "    (0): Bottleneck(\n",
              "      (conv1): Conv2d(256, 128, kernel_size=(1, 1), stride=(1, 1), bias=False)\n",
              "      (bn1): BatchNorm2d(128, eps=1e-05, momentum=0.1, affine=True, track_running_stats=True)\n",
              "      (conv2): Conv2d(128, 128, kernel_size=(3, 3), stride=(2, 2), padding=(1, 1), bias=False)\n",
              "      (bn2): BatchNorm2d(128, eps=1e-05, momentum=0.1, affine=True, track_running_stats=True)\n",
              "      (conv3): Conv2d(128, 512, kernel_size=(1, 1), stride=(1, 1), bias=False)\n",
              "      (bn3): BatchNorm2d(512, eps=1e-05, momentum=0.1, affine=True, track_running_stats=True)\n",
              "      (relu): ReLU(inplace=True)\n",
              "      (downsample): Sequential(\n",
              "        (0): Conv2d(256, 512, kernel_size=(1, 1), stride=(2, 2), bias=False)\n",
              "        (1): BatchNorm2d(512, eps=1e-05, momentum=0.1, affine=True, track_running_stats=True)\n",
              "      )\n",
              "    )\n",
              "    (1): Bottleneck(\n",
              "      (conv1): Conv2d(512, 128, kernel_size=(1, 1), stride=(1, 1), bias=False)\n",
              "      (bn1): BatchNorm2d(128, eps=1e-05, momentum=0.1, affine=True, track_running_stats=True)\n",
              "      (conv2): Conv2d(128, 128, kernel_size=(3, 3), stride=(1, 1), padding=(1, 1), bias=False)\n",
              "      (bn2): BatchNorm2d(128, eps=1e-05, momentum=0.1, affine=True, track_running_stats=True)\n",
              "      (conv3): Conv2d(128, 512, kernel_size=(1, 1), stride=(1, 1), bias=False)\n",
              "      (bn3): BatchNorm2d(512, eps=1e-05, momentum=0.1, affine=True, track_running_stats=True)\n",
              "      (relu): ReLU(inplace=True)\n",
              "    )\n",
              "    (2): Bottleneck(\n",
              "      (conv1): Conv2d(512, 128, kernel_size=(1, 1), stride=(1, 1), bias=False)\n",
              "      (bn1): BatchNorm2d(128, eps=1e-05, momentum=0.1, affine=True, track_running_stats=True)\n",
              "      (conv2): Conv2d(128, 128, kernel_size=(3, 3), stride=(1, 1), padding=(1, 1), bias=False)\n",
              "      (bn2): BatchNorm2d(128, eps=1e-05, momentum=0.1, affine=True, track_running_stats=True)\n",
              "      (conv3): Conv2d(128, 512, kernel_size=(1, 1), stride=(1, 1), bias=False)\n",
              "      (bn3): BatchNorm2d(512, eps=1e-05, momentum=0.1, affine=True, track_running_stats=True)\n",
              "      (relu): ReLU(inplace=True)\n",
              "    )\n",
              "    (3): Bottleneck(\n",
              "      (conv1): Conv2d(512, 128, kernel_size=(1, 1), stride=(1, 1), bias=False)\n",
              "      (bn1): BatchNorm2d(128, eps=1e-05, momentum=0.1, affine=True, track_running_stats=True)\n",
              "      (conv2): Conv2d(128, 128, kernel_size=(3, 3), stride=(1, 1), padding=(1, 1), bias=False)\n",
              "      (bn2): BatchNorm2d(128, eps=1e-05, momentum=0.1, affine=True, track_running_stats=True)\n",
              "      (conv3): Conv2d(128, 512, kernel_size=(1, 1), stride=(1, 1), bias=False)\n",
              "      (bn3): BatchNorm2d(512, eps=1e-05, momentum=0.1, affine=True, track_running_stats=True)\n",
              "      (relu): ReLU(inplace=True)\n",
              "    )\n",
              "  )\n",
              "  (layer3): Sequential(\n",
              "    (0): Bottleneck(\n",
              "      (conv1): Conv2d(512, 256, kernel_size=(1, 1), stride=(1, 1), bias=False)\n",
              "      (bn1): BatchNorm2d(256, eps=1e-05, momentum=0.1, affine=True, track_running_stats=True)\n",
              "      (conv2): Conv2d(256, 256, kernel_size=(3, 3), stride=(2, 2), padding=(1, 1), bias=False)\n",
              "      (bn2): BatchNorm2d(256, eps=1e-05, momentum=0.1, affine=True, track_running_stats=True)\n",
              "      (conv3): Conv2d(256, 1024, kernel_size=(1, 1), stride=(1, 1), bias=False)\n",
              "      (bn3): BatchNorm2d(1024, eps=1e-05, momentum=0.1, affine=True, track_running_stats=True)\n",
              "      (relu): ReLU(inplace=True)\n",
              "      (downsample): Sequential(\n",
              "        (0): Conv2d(512, 1024, kernel_size=(1, 1), stride=(2, 2), bias=False)\n",
              "        (1): BatchNorm2d(1024, eps=1e-05, momentum=0.1, affine=True, track_running_stats=True)\n",
              "      )\n",
              "    )\n",
              "    (1): Bottleneck(\n",
              "      (conv1): Conv2d(1024, 256, kernel_size=(1, 1), stride=(1, 1), bias=False)\n",
              "      (bn1): BatchNorm2d(256, eps=1e-05, momentum=0.1, affine=True, track_running_stats=True)\n",
              "      (conv2): Conv2d(256, 256, kernel_size=(3, 3), stride=(1, 1), padding=(1, 1), bias=False)\n",
              "      (bn2): BatchNorm2d(256, eps=1e-05, momentum=0.1, affine=True, track_running_stats=True)\n",
              "      (conv3): Conv2d(256, 1024, kernel_size=(1, 1), stride=(1, 1), bias=False)\n",
              "      (bn3): BatchNorm2d(1024, eps=1e-05, momentum=0.1, affine=True, track_running_stats=True)\n",
              "      (relu): ReLU(inplace=True)\n",
              "    )\n",
              "    (2): Bottleneck(\n",
              "      (conv1): Conv2d(1024, 256, kernel_size=(1, 1), stride=(1, 1), bias=False)\n",
              "      (bn1): BatchNorm2d(256, eps=1e-05, momentum=0.1, affine=True, track_running_stats=True)\n",
              "      (conv2): Conv2d(256, 256, kernel_size=(3, 3), stride=(1, 1), padding=(1, 1), bias=False)\n",
              "      (bn2): BatchNorm2d(256, eps=1e-05, momentum=0.1, affine=True, track_running_stats=True)\n",
              "      (conv3): Conv2d(256, 1024, kernel_size=(1, 1), stride=(1, 1), bias=False)\n",
              "      (bn3): BatchNorm2d(1024, eps=1e-05, momentum=0.1, affine=True, track_running_stats=True)\n",
              "      (relu): ReLU(inplace=True)\n",
              "    )\n",
              "    (3): Bottleneck(\n",
              "      (conv1): Conv2d(1024, 256, kernel_size=(1, 1), stride=(1, 1), bias=False)\n",
              "      (bn1): BatchNorm2d(256, eps=1e-05, momentum=0.1, affine=True, track_running_stats=True)\n",
              "      (conv2): Conv2d(256, 256, kernel_size=(3, 3), stride=(1, 1), padding=(1, 1), bias=False)\n",
              "      (bn2): BatchNorm2d(256, eps=1e-05, momentum=0.1, affine=True, track_running_stats=True)\n",
              "      (conv3): Conv2d(256, 1024, kernel_size=(1, 1), stride=(1, 1), bias=False)\n",
              "      (bn3): BatchNorm2d(1024, eps=1e-05, momentum=0.1, affine=True, track_running_stats=True)\n",
              "      (relu): ReLU(inplace=True)\n",
              "    )\n",
              "    (4): Bottleneck(\n",
              "      (conv1): Conv2d(1024, 256, kernel_size=(1, 1), stride=(1, 1), bias=False)\n",
              "      (bn1): BatchNorm2d(256, eps=1e-05, momentum=0.1, affine=True, track_running_stats=True)\n",
              "      (conv2): Conv2d(256, 256, kernel_size=(3, 3), stride=(1, 1), padding=(1, 1), bias=False)\n",
              "      (bn2): BatchNorm2d(256, eps=1e-05, momentum=0.1, affine=True, track_running_stats=True)\n",
              "      (conv3): Conv2d(256, 1024, kernel_size=(1, 1), stride=(1, 1), bias=False)\n",
              "      (bn3): BatchNorm2d(1024, eps=1e-05, momentum=0.1, affine=True, track_running_stats=True)\n",
              "      (relu): ReLU(inplace=True)\n",
              "    )\n",
              "    (5): Bottleneck(\n",
              "      (conv1): Conv2d(1024, 256, kernel_size=(1, 1), stride=(1, 1), bias=False)\n",
              "      (bn1): BatchNorm2d(256, eps=1e-05, momentum=0.1, affine=True, track_running_stats=True)\n",
              "      (conv2): Conv2d(256, 256, kernel_size=(3, 3), stride=(1, 1), padding=(1, 1), bias=False)\n",
              "      (bn2): BatchNorm2d(256, eps=1e-05, momentum=0.1, affine=True, track_running_stats=True)\n",
              "      (conv3): Conv2d(256, 1024, kernel_size=(1, 1), stride=(1, 1), bias=False)\n",
              "      (bn3): BatchNorm2d(1024, eps=1e-05, momentum=0.1, affine=True, track_running_stats=True)\n",
              "      (relu): ReLU(inplace=True)\n",
              "    )\n",
              "  )\n",
              "  (layer4): Sequential(\n",
              "    (0): Bottleneck(\n",
              "      (conv1): Conv2d(1024, 512, kernel_size=(1, 1), stride=(1, 1), bias=False)\n",
              "      (bn1): BatchNorm2d(512, eps=1e-05, momentum=0.1, affine=True, track_running_stats=True)\n",
              "      (conv2): Conv2d(512, 512, kernel_size=(3, 3), stride=(2, 2), padding=(1, 1), bias=False)\n",
              "      (bn2): BatchNorm2d(512, eps=1e-05, momentum=0.1, affine=True, track_running_stats=True)\n",
              "      (conv3): Conv2d(512, 2048, kernel_size=(1, 1), stride=(1, 1), bias=False)\n",
              "      (bn3): BatchNorm2d(2048, eps=1e-05, momentum=0.1, affine=True, track_running_stats=True)\n",
              "      (relu): ReLU(inplace=True)\n",
              "      (downsample): Sequential(\n",
              "        (0): Conv2d(1024, 2048, kernel_size=(1, 1), stride=(2, 2), bias=False)\n",
              "        (1): BatchNorm2d(2048, eps=1e-05, momentum=0.1, affine=True, track_running_stats=True)\n",
              "      )\n",
              "    )\n",
              "    (1): Bottleneck(\n",
              "      (conv1): Conv2d(2048, 512, kernel_size=(1, 1), stride=(1, 1), bias=False)\n",
              "      (bn1): BatchNorm2d(512, eps=1e-05, momentum=0.1, affine=True, track_running_stats=True)\n",
              "      (conv2): Conv2d(512, 512, kernel_size=(3, 3), stride=(1, 1), padding=(1, 1), bias=False)\n",
              "      (bn2): BatchNorm2d(512, eps=1e-05, momentum=0.1, affine=True, track_running_stats=True)\n",
              "      (conv3): Conv2d(512, 2048, kernel_size=(1, 1), stride=(1, 1), bias=False)\n",
              "      (bn3): BatchNorm2d(2048, eps=1e-05, momentum=0.1, affine=True, track_running_stats=True)\n",
              "      (relu): ReLU(inplace=True)\n",
              "    )\n",
              "    (2): Bottleneck(\n",
              "      (conv1): Conv2d(2048, 512, kernel_size=(1, 1), stride=(1, 1), bias=False)\n",
              "      (bn1): BatchNorm2d(512, eps=1e-05, momentum=0.1, affine=True, track_running_stats=True)\n",
              "      (conv2): Conv2d(512, 512, kernel_size=(3, 3), stride=(1, 1), padding=(1, 1), bias=False)\n",
              "      (bn2): BatchNorm2d(512, eps=1e-05, momentum=0.1, affine=True, track_running_stats=True)\n",
              "      (conv3): Conv2d(512, 2048, kernel_size=(1, 1), stride=(1, 1), bias=False)\n",
              "      (bn3): BatchNorm2d(2048, eps=1e-05, momentum=0.1, affine=True, track_running_stats=True)\n",
              "      (relu): ReLU(inplace=True)\n",
              "    )\n",
              "  )\n",
              "  (avgpool): AdaptiveAvgPool2d(output_size=(1, 1))\n",
              "  (fc): Linear(in_features=2048, out_features=1000, bias=True)\n",
              ")"
            ]
          },
          "metadata": {
            "tags": []
          },
          "execution_count": 9
        }
      ]
    },
    {
      "cell_type": "code",
      "metadata": {
        "id": "vcTmEqhmcbEa"
      },
      "source": [
        "num_ftrs = model.fc.in_features # output is in_features == 2048, input is 10 after Linear\n",
        "model.fc = nn.Linear(num_ftrs, 10)\n",
        "model = model.to(device)"
      ],
      "execution_count": null,
      "outputs": []
    },
    {
      "cell_type": "code",
      "metadata": {
        "id": "hd_qpno_cmV5",
        "outputId": "6e5de1ba-ca97-4191-b244-07254e0b21dd",
        "colab": {
          "base_uri": "https://localhost:8080/",
          "height": 1000
        }
      },
      "source": [
        "model"
      ],
      "execution_count": null,
      "outputs": [
        {
          "output_type": "execute_result",
          "data": {
            "text/plain": [
              "ResNet(\n",
              "  (conv1): Conv2d(3, 64, kernel_size=(7, 7), stride=(2, 2), padding=(3, 3), bias=False)\n",
              "  (bn1): BatchNorm2d(64, eps=1e-05, momentum=0.1, affine=True, track_running_stats=True)\n",
              "  (relu): ReLU(inplace=True)\n",
              "  (maxpool): MaxPool2d(kernel_size=3, stride=2, padding=1, dilation=1, ceil_mode=False)\n",
              "  (layer1): Sequential(\n",
              "    (0): Bottleneck(\n",
              "      (conv1): Conv2d(64, 64, kernel_size=(1, 1), stride=(1, 1), bias=False)\n",
              "      (bn1): BatchNorm2d(64, eps=1e-05, momentum=0.1, affine=True, track_running_stats=True)\n",
              "      (conv2): Conv2d(64, 64, kernel_size=(3, 3), stride=(1, 1), padding=(1, 1), bias=False)\n",
              "      (bn2): BatchNorm2d(64, eps=1e-05, momentum=0.1, affine=True, track_running_stats=True)\n",
              "      (conv3): Conv2d(64, 256, kernel_size=(1, 1), stride=(1, 1), bias=False)\n",
              "      (bn3): BatchNorm2d(256, eps=1e-05, momentum=0.1, affine=True, track_running_stats=True)\n",
              "      (relu): ReLU(inplace=True)\n",
              "      (downsample): Sequential(\n",
              "        (0): Conv2d(64, 256, kernel_size=(1, 1), stride=(1, 1), bias=False)\n",
              "        (1): BatchNorm2d(256, eps=1e-05, momentum=0.1, affine=True, track_running_stats=True)\n",
              "      )\n",
              "    )\n",
              "    (1): Bottleneck(\n",
              "      (conv1): Conv2d(256, 64, kernel_size=(1, 1), stride=(1, 1), bias=False)\n",
              "      (bn1): BatchNorm2d(64, eps=1e-05, momentum=0.1, affine=True, track_running_stats=True)\n",
              "      (conv2): Conv2d(64, 64, kernel_size=(3, 3), stride=(1, 1), padding=(1, 1), bias=False)\n",
              "      (bn2): BatchNorm2d(64, eps=1e-05, momentum=0.1, affine=True, track_running_stats=True)\n",
              "      (conv3): Conv2d(64, 256, kernel_size=(1, 1), stride=(1, 1), bias=False)\n",
              "      (bn3): BatchNorm2d(256, eps=1e-05, momentum=0.1, affine=True, track_running_stats=True)\n",
              "      (relu): ReLU(inplace=True)\n",
              "    )\n",
              "    (2): Bottleneck(\n",
              "      (conv1): Conv2d(256, 64, kernel_size=(1, 1), stride=(1, 1), bias=False)\n",
              "      (bn1): BatchNorm2d(64, eps=1e-05, momentum=0.1, affine=True, track_running_stats=True)\n",
              "      (conv2): Conv2d(64, 64, kernel_size=(3, 3), stride=(1, 1), padding=(1, 1), bias=False)\n",
              "      (bn2): BatchNorm2d(64, eps=1e-05, momentum=0.1, affine=True, track_running_stats=True)\n",
              "      (conv3): Conv2d(64, 256, kernel_size=(1, 1), stride=(1, 1), bias=False)\n",
              "      (bn3): BatchNorm2d(256, eps=1e-05, momentum=0.1, affine=True, track_running_stats=True)\n",
              "      (relu): ReLU(inplace=True)\n",
              "    )\n",
              "  )\n",
              "  (layer2): Sequential(\n",
              "    (0): Bottleneck(\n",
              "      (conv1): Conv2d(256, 128, kernel_size=(1, 1), stride=(1, 1), bias=False)\n",
              "      (bn1): BatchNorm2d(128, eps=1e-05, momentum=0.1, affine=True, track_running_stats=True)\n",
              "      (conv2): Conv2d(128, 128, kernel_size=(3, 3), stride=(2, 2), padding=(1, 1), bias=False)\n",
              "      (bn2): BatchNorm2d(128, eps=1e-05, momentum=0.1, affine=True, track_running_stats=True)\n",
              "      (conv3): Conv2d(128, 512, kernel_size=(1, 1), stride=(1, 1), bias=False)\n",
              "      (bn3): BatchNorm2d(512, eps=1e-05, momentum=0.1, affine=True, track_running_stats=True)\n",
              "      (relu): ReLU(inplace=True)\n",
              "      (downsample): Sequential(\n",
              "        (0): Conv2d(256, 512, kernel_size=(1, 1), stride=(2, 2), bias=False)\n",
              "        (1): BatchNorm2d(512, eps=1e-05, momentum=0.1, affine=True, track_running_stats=True)\n",
              "      )\n",
              "    )\n",
              "    (1): Bottleneck(\n",
              "      (conv1): Conv2d(512, 128, kernel_size=(1, 1), stride=(1, 1), bias=False)\n",
              "      (bn1): BatchNorm2d(128, eps=1e-05, momentum=0.1, affine=True, track_running_stats=True)\n",
              "      (conv2): Conv2d(128, 128, kernel_size=(3, 3), stride=(1, 1), padding=(1, 1), bias=False)\n",
              "      (bn2): BatchNorm2d(128, eps=1e-05, momentum=0.1, affine=True, track_running_stats=True)\n",
              "      (conv3): Conv2d(128, 512, kernel_size=(1, 1), stride=(1, 1), bias=False)\n",
              "      (bn3): BatchNorm2d(512, eps=1e-05, momentum=0.1, affine=True, track_running_stats=True)\n",
              "      (relu): ReLU(inplace=True)\n",
              "    )\n",
              "    (2): Bottleneck(\n",
              "      (conv1): Conv2d(512, 128, kernel_size=(1, 1), stride=(1, 1), bias=False)\n",
              "      (bn1): BatchNorm2d(128, eps=1e-05, momentum=0.1, affine=True, track_running_stats=True)\n",
              "      (conv2): Conv2d(128, 128, kernel_size=(3, 3), stride=(1, 1), padding=(1, 1), bias=False)\n",
              "      (bn2): BatchNorm2d(128, eps=1e-05, momentum=0.1, affine=True, track_running_stats=True)\n",
              "      (conv3): Conv2d(128, 512, kernel_size=(1, 1), stride=(1, 1), bias=False)\n",
              "      (bn3): BatchNorm2d(512, eps=1e-05, momentum=0.1, affine=True, track_running_stats=True)\n",
              "      (relu): ReLU(inplace=True)\n",
              "    )\n",
              "    (3): Bottleneck(\n",
              "      (conv1): Conv2d(512, 128, kernel_size=(1, 1), stride=(1, 1), bias=False)\n",
              "      (bn1): BatchNorm2d(128, eps=1e-05, momentum=0.1, affine=True, track_running_stats=True)\n",
              "      (conv2): Conv2d(128, 128, kernel_size=(3, 3), stride=(1, 1), padding=(1, 1), bias=False)\n",
              "      (bn2): BatchNorm2d(128, eps=1e-05, momentum=0.1, affine=True, track_running_stats=True)\n",
              "      (conv3): Conv2d(128, 512, kernel_size=(1, 1), stride=(1, 1), bias=False)\n",
              "      (bn3): BatchNorm2d(512, eps=1e-05, momentum=0.1, affine=True, track_running_stats=True)\n",
              "      (relu): ReLU(inplace=True)\n",
              "    )\n",
              "  )\n",
              "  (layer3): Sequential(\n",
              "    (0): Bottleneck(\n",
              "      (conv1): Conv2d(512, 256, kernel_size=(1, 1), stride=(1, 1), bias=False)\n",
              "      (bn1): BatchNorm2d(256, eps=1e-05, momentum=0.1, affine=True, track_running_stats=True)\n",
              "      (conv2): Conv2d(256, 256, kernel_size=(3, 3), stride=(2, 2), padding=(1, 1), bias=False)\n",
              "      (bn2): BatchNorm2d(256, eps=1e-05, momentum=0.1, affine=True, track_running_stats=True)\n",
              "      (conv3): Conv2d(256, 1024, kernel_size=(1, 1), stride=(1, 1), bias=False)\n",
              "      (bn3): BatchNorm2d(1024, eps=1e-05, momentum=0.1, affine=True, track_running_stats=True)\n",
              "      (relu): ReLU(inplace=True)\n",
              "      (downsample): Sequential(\n",
              "        (0): Conv2d(512, 1024, kernel_size=(1, 1), stride=(2, 2), bias=False)\n",
              "        (1): BatchNorm2d(1024, eps=1e-05, momentum=0.1, affine=True, track_running_stats=True)\n",
              "      )\n",
              "    )\n",
              "    (1): Bottleneck(\n",
              "      (conv1): Conv2d(1024, 256, kernel_size=(1, 1), stride=(1, 1), bias=False)\n",
              "      (bn1): BatchNorm2d(256, eps=1e-05, momentum=0.1, affine=True, track_running_stats=True)\n",
              "      (conv2): Conv2d(256, 256, kernel_size=(3, 3), stride=(1, 1), padding=(1, 1), bias=False)\n",
              "      (bn2): BatchNorm2d(256, eps=1e-05, momentum=0.1, affine=True, track_running_stats=True)\n",
              "      (conv3): Conv2d(256, 1024, kernel_size=(1, 1), stride=(1, 1), bias=False)\n",
              "      (bn3): BatchNorm2d(1024, eps=1e-05, momentum=0.1, affine=True, track_running_stats=True)\n",
              "      (relu): ReLU(inplace=True)\n",
              "    )\n",
              "    (2): Bottleneck(\n",
              "      (conv1): Conv2d(1024, 256, kernel_size=(1, 1), stride=(1, 1), bias=False)\n",
              "      (bn1): BatchNorm2d(256, eps=1e-05, momentum=0.1, affine=True, track_running_stats=True)\n",
              "      (conv2): Conv2d(256, 256, kernel_size=(3, 3), stride=(1, 1), padding=(1, 1), bias=False)\n",
              "      (bn2): BatchNorm2d(256, eps=1e-05, momentum=0.1, affine=True, track_running_stats=True)\n",
              "      (conv3): Conv2d(256, 1024, kernel_size=(1, 1), stride=(1, 1), bias=False)\n",
              "      (bn3): BatchNorm2d(1024, eps=1e-05, momentum=0.1, affine=True, track_running_stats=True)\n",
              "      (relu): ReLU(inplace=True)\n",
              "    )\n",
              "    (3): Bottleneck(\n",
              "      (conv1): Conv2d(1024, 256, kernel_size=(1, 1), stride=(1, 1), bias=False)\n",
              "      (bn1): BatchNorm2d(256, eps=1e-05, momentum=0.1, affine=True, track_running_stats=True)\n",
              "      (conv2): Conv2d(256, 256, kernel_size=(3, 3), stride=(1, 1), padding=(1, 1), bias=False)\n",
              "      (bn2): BatchNorm2d(256, eps=1e-05, momentum=0.1, affine=True, track_running_stats=True)\n",
              "      (conv3): Conv2d(256, 1024, kernel_size=(1, 1), stride=(1, 1), bias=False)\n",
              "      (bn3): BatchNorm2d(1024, eps=1e-05, momentum=0.1, affine=True, track_running_stats=True)\n",
              "      (relu): ReLU(inplace=True)\n",
              "    )\n",
              "    (4): Bottleneck(\n",
              "      (conv1): Conv2d(1024, 256, kernel_size=(1, 1), stride=(1, 1), bias=False)\n",
              "      (bn1): BatchNorm2d(256, eps=1e-05, momentum=0.1, affine=True, track_running_stats=True)\n",
              "      (conv2): Conv2d(256, 256, kernel_size=(3, 3), stride=(1, 1), padding=(1, 1), bias=False)\n",
              "      (bn2): BatchNorm2d(256, eps=1e-05, momentum=0.1, affine=True, track_running_stats=True)\n",
              "      (conv3): Conv2d(256, 1024, kernel_size=(1, 1), stride=(1, 1), bias=False)\n",
              "      (bn3): BatchNorm2d(1024, eps=1e-05, momentum=0.1, affine=True, track_running_stats=True)\n",
              "      (relu): ReLU(inplace=True)\n",
              "    )\n",
              "    (5): Bottleneck(\n",
              "      (conv1): Conv2d(1024, 256, kernel_size=(1, 1), stride=(1, 1), bias=False)\n",
              "      (bn1): BatchNorm2d(256, eps=1e-05, momentum=0.1, affine=True, track_running_stats=True)\n",
              "      (conv2): Conv2d(256, 256, kernel_size=(3, 3), stride=(1, 1), padding=(1, 1), bias=False)\n",
              "      (bn2): BatchNorm2d(256, eps=1e-05, momentum=0.1, affine=True, track_running_stats=True)\n",
              "      (conv3): Conv2d(256, 1024, kernel_size=(1, 1), stride=(1, 1), bias=False)\n",
              "      (bn3): BatchNorm2d(1024, eps=1e-05, momentum=0.1, affine=True, track_running_stats=True)\n",
              "      (relu): ReLU(inplace=True)\n",
              "    )\n",
              "  )\n",
              "  (layer4): Sequential(\n",
              "    (0): Bottleneck(\n",
              "      (conv1): Conv2d(1024, 512, kernel_size=(1, 1), stride=(1, 1), bias=False)\n",
              "      (bn1): BatchNorm2d(512, eps=1e-05, momentum=0.1, affine=True, track_running_stats=True)\n",
              "      (conv2): Conv2d(512, 512, kernel_size=(3, 3), stride=(2, 2), padding=(1, 1), bias=False)\n",
              "      (bn2): BatchNorm2d(512, eps=1e-05, momentum=0.1, affine=True, track_running_stats=True)\n",
              "      (conv3): Conv2d(512, 2048, kernel_size=(1, 1), stride=(1, 1), bias=False)\n",
              "      (bn3): BatchNorm2d(2048, eps=1e-05, momentum=0.1, affine=True, track_running_stats=True)\n",
              "      (relu): ReLU(inplace=True)\n",
              "      (downsample): Sequential(\n",
              "        (0): Conv2d(1024, 2048, kernel_size=(1, 1), stride=(2, 2), bias=False)\n",
              "        (1): BatchNorm2d(2048, eps=1e-05, momentum=0.1, affine=True, track_running_stats=True)\n",
              "      )\n",
              "    )\n",
              "    (1): Bottleneck(\n",
              "      (conv1): Conv2d(2048, 512, kernel_size=(1, 1), stride=(1, 1), bias=False)\n",
              "      (bn1): BatchNorm2d(512, eps=1e-05, momentum=0.1, affine=True, track_running_stats=True)\n",
              "      (conv2): Conv2d(512, 512, kernel_size=(3, 3), stride=(1, 1), padding=(1, 1), bias=False)\n",
              "      (bn2): BatchNorm2d(512, eps=1e-05, momentum=0.1, affine=True, track_running_stats=True)\n",
              "      (conv3): Conv2d(512, 2048, kernel_size=(1, 1), stride=(1, 1), bias=False)\n",
              "      (bn3): BatchNorm2d(2048, eps=1e-05, momentum=0.1, affine=True, track_running_stats=True)\n",
              "      (relu): ReLU(inplace=True)\n",
              "    )\n",
              "    (2): Bottleneck(\n",
              "      (conv1): Conv2d(2048, 512, kernel_size=(1, 1), stride=(1, 1), bias=False)\n",
              "      (bn1): BatchNorm2d(512, eps=1e-05, momentum=0.1, affine=True, track_running_stats=True)\n",
              "      (conv2): Conv2d(512, 512, kernel_size=(3, 3), stride=(1, 1), padding=(1, 1), bias=False)\n",
              "      (bn2): BatchNorm2d(512, eps=1e-05, momentum=0.1, affine=True, track_running_stats=True)\n",
              "      (conv3): Conv2d(512, 2048, kernel_size=(1, 1), stride=(1, 1), bias=False)\n",
              "      (bn3): BatchNorm2d(2048, eps=1e-05, momentum=0.1, affine=True, track_running_stats=True)\n",
              "      (relu): ReLU(inplace=True)\n",
              "    )\n",
              "  )\n",
              "  (avgpool): AdaptiveAvgPool2d(output_size=(1, 1))\n",
              "  (fc): Linear(in_features=2048, out_features=10, bias=True)\n",
              ")"
            ]
          },
          "metadata": {
            "tags": []
          },
          "execution_count": 12
        }
      ]
    },
    {
      "cell_type": "code",
      "metadata": {
        "id": "3GNFJGzHdmVm"
      },
      "source": [
        "criterion = nn.CrossEntropyLoss() # loss fuction for image classifying task\n",
        "optimizer = optim.Adam(model.parameters(), lr = 1e-3 )"
      ],
      "execution_count": null,
      "outputs": []
    },
    {
      "cell_type": "code",
      "metadata": {
        "id": "YwIKZyNOd0h5",
        "outputId": "998a2cfe-e952-44b2-b5fd-558cd1bdb50d",
        "colab": {
          "base_uri": "https://localhost:8080/",
          "height": 102
        }
      },
      "source": [
        "old_loss = 10\n",
        "PATH_model = PATH + 'cifar_model.pth'\n",
        "\n",
        "for epoch in range(2):\n",
        "\n",
        "    running_loss = 0.0\n",
        "    for i, data in enumerate(trainloader, 0):\n",
        "\n",
        "        inputs, labels = data[0].to(device), data[1].to(device) # change tensor to tensor for gpu\n",
        "\n",
        "        optimizer.zero_grad()\n",
        "        outputs = model(inputs)\n",
        "        loss = criterion(outputs, labels)\n",
        "        loss.backward()\n",
        "        optimizer.step()\n",
        "\n",
        "        running_loss += loss.item()\n",
        "\n",
        "    cost = running_loss / len(trainloader)\n",
        "    print('[%d] loss: %.3f' % (epoch + 1, cost))\n",
        "    if cost < old_loss:\n",
        "        print(\"Save the best model\")\n",
        "        torch.save(model.state_dict(), PATH_model)\n",
        "        old_loss = cost\n",
        "\n",
        "print('Finished Training')"
      ],
      "execution_count": null,
      "outputs": [
        {
          "output_type": "stream",
          "text": [
            "[1] loss: 0.832\n",
            "Save the best model\n",
            "[2] loss: 0.709\n",
            "Save the best model\n",
            "Finished Training\n"
          ],
          "name": "stdout"
        }
      ]
    },
    {
      "cell_type": "code",
      "metadata": {
        "id": "CH7QqlHOeMI2",
        "outputId": "ecc81c54-e26b-47a1-8e0e-bf3e0a724ce9",
        "colab": {
          "base_uri": "https://localhost:8080/",
          "height": 34
        }
      },
      "source": [
        "# model = torchvision.models.resnet50(pretrained = False).to(device)\n",
        "model.load_state_dict(torch.load(PATH_model))"
      ],
      "execution_count": null,
      "outputs": [
        {
          "output_type": "execute_result",
          "data": {
            "text/plain": [
              "<All keys matched successfully>"
            ]
          },
          "metadata": {
            "tags": []
          },
          "execution_count": 18
        }
      ]
    },
    {
      "cell_type": "code",
      "metadata": {
        "id": "yba2w4KEfudX",
        "outputId": "2bfbe6ea-4d84-4191-d6ec-9c300d282163",
        "colab": {
          "base_uri": "https://localhost:8080/",
          "height": 34
        }
      },
      "source": [
        "correct = 0\n",
        "total = 0\n",
        "with torch.no_grad():\n",
        "    for data in testloader:\n",
        "        images, labels = data[0].to(device), data[1].to(device)\n",
        "        outputs = model(images)\n",
        "        _, predicted = torch.max(outputs.data, 1)\n",
        "        total += labels.size(0)\n",
        "        correct += (predicted == labels).sum().item()\n",
        "\n",
        "print('Accuracy of the network on the 10000 test images: %d %%' % (100 * correct / total))"
      ],
      "execution_count": null,
      "outputs": [
        {
          "output_type": "stream",
          "text": [
            "Accuracy of the network on the 10000 test images: 77 %\n"
          ],
          "name": "stdout"
        }
      ]
    },
    {
      "cell_type": "markdown",
      "metadata": {
        "id": "RQbIqBFbg04x"
      },
      "source": [
        "# 6. Model Freezing"
      ]
    },
    {
      "cell_type": "code",
      "metadata": {
        "id": "7xRGxXM_gUzB"
      },
      "source": [
        "import torch\n",
        "import torchvision\n",
        "import torchvision.transforms as transforms # data preprocessing\n",
        "from torch.utils.data import DataLoader # mini-batch\n",
        "\n",
        "import torch.nn as nn # loss\n",
        "import torch.optim as optim # optimizer"
      ],
      "execution_count": null,
      "outputs": []
    },
    {
      "cell_type": "code",
      "metadata": {
        "id": "uX-EKr7Og5LE"
      },
      "source": [
        "from google.colab import drive\n",
        "drive.mount('/content/gdrive')"
      ],
      "execution_count": null,
      "outputs": []
    },
    {
      "cell_type": "code",
      "metadata": {
        "id": "YyV9PAfrhLBb"
      },
      "source": [
        "PATH = '/content/gdrive/My Drive/colab/pytorch_tutorial/'\n",
        "device = torch.device(\"cuda:0\" if torch.cuda.is_available() else \"cpu\")\n",
        "print(device)"
      ],
      "execution_count": null,
      "outputs": []
    },
    {
      "cell_type": "code",
      "metadata": {
        "id": "k9HyOfaihLK5",
        "outputId": "164eca22-b17e-4116-c660-fab44dd5b050",
        "colab": {
          "base_uri": "https://localhost:8080/",
          "height": 51
        }
      },
      "source": [
        "transform = transforms.Compose(\n",
        "    [transforms.ToTensor(),\n",
        "     transforms.Normalize((0.5, 0.5, 0.5), (0.5, 0.5, 0.5))]\n",
        ")\n",
        "\n",
        "trainset = torchvision.datasets.CIFAR10(root = PATH + 'data', train=True,\n",
        "                                        download=True, transform=transform)\n",
        "\n",
        "trainloader = torch.utils.data.DataLoader(trainset, batch_size = 100,\n",
        "                                          shuffle=True, num_workers = 2)\n",
        "\n",
        "testset = torchvision.datasets.CIFAR10(root = PATH + 'data', train=False,\n",
        "                                       download=True, transform=transform)\n",
        "\n",
        "testloader = torch.utils.data.DataLoader(testset, batch_size = 100, \n",
        "                                         shuffle = False, num_workers = 2)\n",
        "\n",
        "classes = ( 'plane', 'car', 'bird', 'cat', \n",
        "           'deer', 'dog', 'frog', 'horse', 'ship', 'truck')"
      ],
      "execution_count": null,
      "outputs": [
        {
          "output_type": "stream",
          "text": [
            "Files already downloaded and verified\n",
            "Files already downloaded and verified\n"
          ],
          "name": "stdout"
        }
      ]
    },
    {
      "cell_type": "code",
      "metadata": {
        "id": "hAF8JULZhLUD",
        "outputId": "0ba48121-c867-4cad-ee5d-a3f3b396b0f2",
        "colab": {
          "base_uri": "https://localhost:8080/",
          "height": 124
        }
      },
      "source": [
        "import matplotlib.pyplot as plt\n",
        "import numpy as np\n",
        "\n",
        "def imshow(img):\n",
        "    img = img / 2 + 0.5\n",
        "    npimg = img.numpy()\n",
        "    fig = plt.figure(figsize=(10, 5))\n",
        "    plt.imshow(np.transpose(npimg, (1, 2, 0)))\n",
        "    plt.show()\n",
        "\n",
        "dataiter = iter(trainloader)\n",
        "images, labels = dataiter.next()\n",
        "\n",
        "imshow(torchvision.utils.make_grid(images[:8]))"
      ],
      "execution_count": null,
      "outputs": [
        {
          "output_type": "display_data",
          "data": {
            "image/png": "[encoded data removed]",
            "text/plain": [
              "<Figure size 720x360 with 1 Axes>"
            ]
          },
          "metadata": {
            "tags": [],
            "needs_background": "light"
          }
        }
      ]
    },
    {
      "cell_type": "code",
      "metadata": {
        "id": "87nfsghLhLZl"
      },
      "source": [
        "model = torchvision.models.resnet50(pretrained = True).to(device)\n",
        "# If True, returns a model pre-trained on ImageNet\n",
        "# transfer the model to the GPU"
      ],
      "execution_count": null,
      "outputs": []
    },
    {
      "cell_type": "code",
      "metadata": {
        "id": "QOa6hR9Ch0MM",
        "outputId": "86ae3dd9-a2f4-4d95-a548-22cdfb6d1d0b",
        "colab": {
          "base_uri": "https://localhost:8080/",
          "height": 1000
        }
      },
      "source": [
        "model"
      ],
      "execution_count": null,
      "outputs": [
        {
          "output_type": "execute_result",
          "data": {
            "text/plain": [
              "ResNet(\n",
              "  (conv1): Conv2d(3, 64, kernel_size=(7, 7), stride=(2, 2), padding=(3, 3), bias=False)\n",
              "  (bn1): BatchNorm2d(64, eps=1e-05, momentum=0.1, affine=True, track_running_stats=True)\n",
              "  (relu): ReLU(inplace=True)\n",
              "  (maxpool): MaxPool2d(kernel_size=3, stride=2, padding=1, dilation=1, ceil_mode=False)\n",
              "  (layer1): Sequential(\n",
              "    (0): Bottleneck(\n",
              "      (conv1): Conv2d(64, 64, kernel_size=(1, 1), stride=(1, 1), bias=False)\n",
              "      (bn1): BatchNorm2d(64, eps=1e-05, momentum=0.1, affine=True, track_running_stats=True)\n",
              "      (conv2): Conv2d(64, 64, kernel_size=(3, 3), stride=(1, 1), padding=(1, 1), bias=False)\n",
              "      (bn2): BatchNorm2d(64, eps=1e-05, momentum=0.1, affine=True, track_running_stats=True)\n",
              "      (conv3): Conv2d(64, 256, kernel_size=(1, 1), stride=(1, 1), bias=False)\n",
              "      (bn3): BatchNorm2d(256, eps=1e-05, momentum=0.1, affine=True, track_running_stats=True)\n",
              "      (relu): ReLU(inplace=True)\n",
              "      (downsample): Sequential(\n",
              "        (0): Conv2d(64, 256, kernel_size=(1, 1), stride=(1, 1), bias=False)\n",
              "        (1): BatchNorm2d(256, eps=1e-05, momentum=0.1, affine=True, track_running_stats=True)\n",
              "      )\n",
              "    )\n",
              "    (1): Bottleneck(\n",
              "      (conv1): Conv2d(256, 64, kernel_size=(1, 1), stride=(1, 1), bias=False)\n",
              "      (bn1): BatchNorm2d(64, eps=1e-05, momentum=0.1, affine=True, track_running_stats=True)\n",
              "      (conv2): Conv2d(64, 64, kernel_size=(3, 3), stride=(1, 1), padding=(1, 1), bias=False)\n",
              "      (bn2): BatchNorm2d(64, eps=1e-05, momentum=0.1, affine=True, track_running_stats=True)\n",
              "      (conv3): Conv2d(64, 256, kernel_size=(1, 1), stride=(1, 1), bias=False)\n",
              "      (bn3): BatchNorm2d(256, eps=1e-05, momentum=0.1, affine=True, track_running_stats=True)\n",
              "      (relu): ReLU(inplace=True)\n",
              "    )\n",
              "    (2): Bottleneck(\n",
              "      (conv1): Conv2d(256, 64, kernel_size=(1, 1), stride=(1, 1), bias=False)\n",
              "      (bn1): BatchNorm2d(64, eps=1e-05, momentum=0.1, affine=True, track_running_stats=True)\n",
              "      (conv2): Conv2d(64, 64, kernel_size=(3, 3), stride=(1, 1), padding=(1, 1), bias=False)\n",
              "      (bn2): BatchNorm2d(64, eps=1e-05, momentum=0.1, affine=True, track_running_stats=True)\n",
              "      (conv3): Conv2d(64, 256, kernel_size=(1, 1), stride=(1, 1), bias=False)\n",
              "      (bn3): BatchNorm2d(256, eps=1e-05, momentum=0.1, affine=True, track_running_stats=True)\n",
              "      (relu): ReLU(inplace=True)\n",
              "    )\n",
              "  )\n",
              "  (layer2): Sequential(\n",
              "    (0): Bottleneck(\n",
              "      (conv1): Conv2d(256, 128, kernel_size=(1, 1), stride=(1, 1), bias=False)\n",
              "      (bn1): BatchNorm2d(128, eps=1e-05, momentum=0.1, affine=True, track_running_stats=True)\n",
              "      (conv2): Conv2d(128, 128, kernel_size=(3, 3), stride=(2, 2), padding=(1, 1), bias=False)\n",
              "      (bn2): BatchNorm2d(128, eps=1e-05, momentum=0.1, affine=True, track_running_stats=True)\n",
              "      (conv3): Conv2d(128, 512, kernel_size=(1, 1), stride=(1, 1), bias=False)\n",
              "      (bn3): BatchNorm2d(512, eps=1e-05, momentum=0.1, affine=True, track_running_stats=True)\n",
              "      (relu): ReLU(inplace=True)\n",
              "      (downsample): Sequential(\n",
              "        (0): Conv2d(256, 512, kernel_size=(1, 1), stride=(2, 2), bias=False)\n",
              "        (1): BatchNorm2d(512, eps=1e-05, momentum=0.1, affine=True, track_running_stats=True)\n",
              "      )\n",
              "    )\n",
              "    (1): Bottleneck(\n",
              "      (conv1): Conv2d(512, 128, kernel_size=(1, 1), stride=(1, 1), bias=False)\n",
              "      (bn1): BatchNorm2d(128, eps=1e-05, momentum=0.1, affine=True, track_running_stats=True)\n",
              "      (conv2): Conv2d(128, 128, kernel_size=(3, 3), stride=(1, 1), padding=(1, 1), bias=False)\n",
              "      (bn2): BatchNorm2d(128, eps=1e-05, momentum=0.1, affine=True, track_running_stats=True)\n",
              "      (conv3): Conv2d(128, 512, kernel_size=(1, 1), stride=(1, 1), bias=False)\n",
              "      (bn3): BatchNorm2d(512, eps=1e-05, momentum=0.1, affine=True, track_running_stats=True)\n",
              "      (relu): ReLU(inplace=True)\n",
              "    )\n",
              "    (2): Bottleneck(\n",
              "      (conv1): Conv2d(512, 128, kernel_size=(1, 1), stride=(1, 1), bias=False)\n",
              "      (bn1): BatchNorm2d(128, eps=1e-05, momentum=0.1, affine=True, track_running_stats=True)\n",
              "      (conv2): Conv2d(128, 128, kernel_size=(3, 3), stride=(1, 1), padding=(1, 1), bias=False)\n",
              "      (bn2): BatchNorm2d(128, eps=1e-05, momentum=0.1, affine=True, track_running_stats=True)\n",
              "      (conv3): Conv2d(128, 512, kernel_size=(1, 1), stride=(1, 1), bias=False)\n",
              "      (bn3): BatchNorm2d(512, eps=1e-05, momentum=0.1, affine=True, track_running_stats=True)\n",
              "      (relu): ReLU(inplace=True)\n",
              "    )\n",
              "    (3): Bottleneck(\n",
              "      (conv1): Conv2d(512, 128, kernel_size=(1, 1), stride=(1, 1), bias=False)\n",
              "      (bn1): BatchNorm2d(128, eps=1e-05, momentum=0.1, affine=True, track_running_stats=True)\n",
              "      (conv2): Conv2d(128, 128, kernel_size=(3, 3), stride=(1, 1), padding=(1, 1), bias=False)\n",
              "      (bn2): BatchNorm2d(128, eps=1e-05, momentum=0.1, affine=True, track_running_stats=True)\n",
              "      (conv3): Conv2d(128, 512, kernel_size=(1, 1), stride=(1, 1), bias=False)\n",
              "      (bn3): BatchNorm2d(512, eps=1e-05, momentum=0.1, affine=True, track_running_stats=True)\n",
              "      (relu): ReLU(inplace=True)\n",
              "    )\n",
              "  )\n",
              "  (layer3): Sequential(\n",
              "    (0): Bottleneck(\n",
              "      (conv1): Conv2d(512, 256, kernel_size=(1, 1), stride=(1, 1), bias=False)\n",
              "      (bn1): BatchNorm2d(256, eps=1e-05, momentum=0.1, affine=True, track_running_stats=True)\n",
              "      (conv2): Conv2d(256, 256, kernel_size=(3, 3), stride=(2, 2), padding=(1, 1), bias=False)\n",
              "      (bn2): BatchNorm2d(256, eps=1e-05, momentum=0.1, affine=True, track_running_stats=True)\n",
              "      (conv3): Conv2d(256, 1024, kernel_size=(1, 1), stride=(1, 1), bias=False)\n",
              "      (bn3): BatchNorm2d(1024, eps=1e-05, momentum=0.1, affine=True, track_running_stats=True)\n",
              "      (relu): ReLU(inplace=True)\n",
              "      (downsample): Sequential(\n",
              "        (0): Conv2d(512, 1024, kernel_size=(1, 1), stride=(2, 2), bias=False)\n",
              "        (1): BatchNorm2d(1024, eps=1e-05, momentum=0.1, affine=True, track_running_stats=True)\n",
              "      )\n",
              "    )\n",
              "    (1): Bottleneck(\n",
              "      (conv1): Conv2d(1024, 256, kernel_size=(1, 1), stride=(1, 1), bias=False)\n",
              "      (bn1): BatchNorm2d(256, eps=1e-05, momentum=0.1, affine=True, track_running_stats=True)\n",
              "      (conv2): Conv2d(256, 256, kernel_size=(3, 3), stride=(1, 1), padding=(1, 1), bias=False)\n",
              "      (bn2): BatchNorm2d(256, eps=1e-05, momentum=0.1, affine=True, track_running_stats=True)\n",
              "      (conv3): Conv2d(256, 1024, kernel_size=(1, 1), stride=(1, 1), bias=False)\n",
              "      (bn3): BatchNorm2d(1024, eps=1e-05, momentum=0.1, affine=True, track_running_stats=True)\n",
              "      (relu): ReLU(inplace=True)\n",
              "    )\n",
              "    (2): Bottleneck(\n",
              "      (conv1): Conv2d(1024, 256, kernel_size=(1, 1), stride=(1, 1), bias=False)\n",
              "      (bn1): BatchNorm2d(256, eps=1e-05, momentum=0.1, affine=True, track_running_stats=True)\n",
              "      (conv2): Conv2d(256, 256, kernel_size=(3, 3), stride=(1, 1), padding=(1, 1), bias=False)\n",
              "      (bn2): BatchNorm2d(256, eps=1e-05, momentum=0.1, affine=True, track_running_stats=True)\n",
              "      (conv3): Conv2d(256, 1024, kernel_size=(1, 1), stride=(1, 1), bias=False)\n",
              "      (bn3): BatchNorm2d(1024, eps=1e-05, momentum=0.1, affine=True, track_running_stats=True)\n",
              "      (relu): ReLU(inplace=True)\n",
              "    )\n",
              "    (3): Bottleneck(\n",
              "      (conv1): Conv2d(1024, 256, kernel_size=(1, 1), stride=(1, 1), bias=False)\n",
              "      (bn1): BatchNorm2d(256, eps=1e-05, momentum=0.1, affine=True, track_running_stats=True)\n",
              "      (conv2): Conv2d(256, 256, kernel_size=(3, 3), stride=(1, 1), padding=(1, 1), bias=False)\n",
              "      (bn2): BatchNorm2d(256, eps=1e-05, momentum=0.1, affine=True, track_running_stats=True)\n",
              "      (conv3): Conv2d(256, 1024, kernel_size=(1, 1), stride=(1, 1), bias=False)\n",
              "      (bn3): BatchNorm2d(1024, eps=1e-05, momentum=0.1, affine=True, track_running_stats=True)\n",
              "      (relu): ReLU(inplace=True)\n",
              "    )\n",
              "    (4): Bottleneck(\n",
              "      (conv1): Conv2d(1024, 256, kernel_size=(1, 1), stride=(1, 1), bias=False)\n",
              "      (bn1): BatchNorm2d(256, eps=1e-05, momentum=0.1, affine=True, track_running_stats=True)\n",
              "      (conv2): Conv2d(256, 256, kernel_size=(3, 3), stride=(1, 1), padding=(1, 1), bias=False)\n",
              "      (bn2): BatchNorm2d(256, eps=1e-05, momentum=0.1, affine=True, track_running_stats=True)\n",
              "      (conv3): Conv2d(256, 1024, kernel_size=(1, 1), stride=(1, 1), bias=False)\n",
              "      (bn3): BatchNorm2d(1024, eps=1e-05, momentum=0.1, affine=True, track_running_stats=True)\n",
              "      (relu): ReLU(inplace=True)\n",
              "    )\n",
              "    (5): Bottleneck(\n",
              "      (conv1): Conv2d(1024, 256, kernel_size=(1, 1), stride=(1, 1), bias=False)\n",
              "      (bn1): BatchNorm2d(256, eps=1e-05, momentum=0.1, affine=True, track_running_stats=True)\n",
              "      (conv2): Conv2d(256, 256, kernel_size=(3, 3), stride=(1, 1), padding=(1, 1), bias=False)\n",
              "      (bn2): BatchNorm2d(256, eps=1e-05, momentum=0.1, affine=True, track_running_stats=True)\n",
              "      (conv3): Conv2d(256, 1024, kernel_size=(1, 1), stride=(1, 1), bias=False)\n",
              "      (bn3): BatchNorm2d(1024, eps=1e-05, momentum=0.1, affine=True, track_running_stats=True)\n",
              "      (relu): ReLU(inplace=True)\n",
              "    )\n",
              "  )\n",
              "  (layer4): Sequential(\n",
              "    (0): Bottleneck(\n",
              "      (conv1): Conv2d(1024, 512, kernel_size=(1, 1), stride=(1, 1), bias=False)\n",
              "      (bn1): BatchNorm2d(512, eps=1e-05, momentum=0.1, affine=True, track_running_stats=True)\n",
              "      (conv2): Conv2d(512, 512, kernel_size=(3, 3), stride=(2, 2), padding=(1, 1), bias=False)\n",
              "      (bn2): BatchNorm2d(512, eps=1e-05, momentum=0.1, affine=True, track_running_stats=True)\n",
              "      (conv3): Conv2d(512, 2048, kernel_size=(1, 1), stride=(1, 1), bias=False)\n",
              "      (bn3): BatchNorm2d(2048, eps=1e-05, momentum=0.1, affine=True, track_running_stats=True)\n",
              "      (relu): ReLU(inplace=True)\n",
              "      (downsample): Sequential(\n",
              "        (0): Conv2d(1024, 2048, kernel_size=(1, 1), stride=(2, 2), bias=False)\n",
              "        (1): BatchNorm2d(2048, eps=1e-05, momentum=0.1, affine=True, track_running_stats=True)\n",
              "      )\n",
              "    )\n",
              "    (1): Bottleneck(\n",
              "      (conv1): Conv2d(2048, 512, kernel_size=(1, 1), stride=(1, 1), bias=False)\n",
              "      (bn1): BatchNorm2d(512, eps=1e-05, momentum=0.1, affine=True, track_running_stats=True)\n",
              "      (conv2): Conv2d(512, 512, kernel_size=(3, 3), stride=(1, 1), padding=(1, 1), bias=False)\n",
              "      (bn2): BatchNorm2d(512, eps=1e-05, momentum=0.1, affine=True, track_running_stats=True)\n",
              "      (conv3): Conv2d(512, 2048, kernel_size=(1, 1), stride=(1, 1), bias=False)\n",
              "      (bn3): BatchNorm2d(2048, eps=1e-05, momentum=0.1, affine=True, track_running_stats=True)\n",
              "      (relu): ReLU(inplace=True)\n",
              "    )\n",
              "    (2): Bottleneck(\n",
              "      (conv1): Conv2d(2048, 512, kernel_size=(1, 1), stride=(1, 1), bias=False)\n",
              "      (bn1): BatchNorm2d(512, eps=1e-05, momentum=0.1, affine=True, track_running_stats=True)\n",
              "      (conv2): Conv2d(512, 512, kernel_size=(3, 3), stride=(1, 1), padding=(1, 1), bias=False)\n",
              "      (bn2): BatchNorm2d(512, eps=1e-05, momentum=0.1, affine=True, track_running_stats=True)\n",
              "      (conv3): Conv2d(512, 2048, kernel_size=(1, 1), stride=(1, 1), bias=False)\n",
              "      (bn3): BatchNorm2d(2048, eps=1e-05, momentum=0.1, affine=True, track_running_stats=True)\n",
              "      (relu): ReLU(inplace=True)\n",
              "    )\n",
              "  )\n",
              "  (avgpool): AdaptiveAvgPool2d(output_size=(1, 1))\n",
              "  (fc): Linear(in_features=2048, out_features=1000, bias=True)\n",
              ")"
            ]
          },
          "metadata": {
            "tags": []
          },
          "execution_count": 24
        }
      ]
    },
    {
      "cell_type": "code",
      "metadata": {
        "id": "0JZ_z-Kih0u9"
      },
      "source": [
        "num_ftrs = model.fc.in_features # output is in_features == 2048, input is 10 after Linear\n",
        "model.fc = nn.Linear(num_ftrs, 10)\n",
        "model = model.to(device)"
      ],
      "execution_count": null,
      "outputs": []
    },
    {
      "cell_type": "code",
      "metadata": {
        "id": "0j9wZcxxiP8x",
        "outputId": "c9897d10-9071-48f4-fa98-2d39680d420e",
        "colab": {
          "base_uri": "https://localhost:8080/",
          "height": 1000
        }
      },
      "source": [
        "i = 0\n",
        "for name, param in model.named_parameters():\n",
        "    i += 1\n",
        "    # print(i, name)\n",
        "    param.requires_grad = False\n",
        "    if i == 159:\n",
        "        break\n",
        "\n",
        "# for param in model.parameters():\n",
        "#     param.requires_grad = False\n",
        "#     model.fc.requires_grad = True"
      ],
      "execution_count": null,
      "outputs": [
        {
          "output_type": "stream",
          "text": [
            "1 conv1.weight\n",
            "2 bn1.weight\n",
            "3 bn1.bias\n",
            "4 layer1.0.conv1.weight\n",
            "5 layer1.0.bn1.weight\n",
            "6 layer1.0.bn1.bias\n",
            "7 layer1.0.conv2.weight\n",
            "8 layer1.0.bn2.weight\n",
            "9 layer1.0.bn2.bias\n",
            "10 layer1.0.conv3.weight\n",
            "11 layer1.0.bn3.weight\n",
            "12 layer1.0.bn3.bias\n",
            "13 layer1.0.downsample.0.weight\n",
            "14 layer1.0.downsample.1.weight\n",
            "15 layer1.0.downsample.1.bias\n",
            "16 layer1.1.conv1.weight\n",
            "17 layer1.1.bn1.weight\n",
            "18 layer1.1.bn1.bias\n",
            "19 layer1.1.conv2.weight\n",
            "20 layer1.1.bn2.weight\n",
            "21 layer1.1.bn2.bias\n",
            "22 layer1.1.conv3.weight\n",
            "23 layer1.1.bn3.weight\n",
            "24 layer1.1.bn3.bias\n",
            "25 layer1.2.conv1.weight\n",
            "26 layer1.2.bn1.weight\n",
            "27 layer1.2.bn1.bias\n",
            "28 layer1.2.conv2.weight\n",
            "29 layer1.2.bn2.weight\n",
            "30 layer1.2.bn2.bias\n",
            "31 layer1.2.conv3.weight\n",
            "32 layer1.2.bn3.weight\n",
            "33 layer1.2.bn3.bias\n",
            "34 layer2.0.conv1.weight\n",
            "35 layer2.0.bn1.weight\n",
            "36 layer2.0.bn1.bias\n",
            "37 layer2.0.conv2.weight\n",
            "38 layer2.0.bn2.weight\n",
            "39 layer2.0.bn2.bias\n",
            "40 layer2.0.conv3.weight\n",
            "41 layer2.0.bn3.weight\n",
            "42 layer2.0.bn3.bias\n",
            "43 layer2.0.downsample.0.weight\n",
            "44 layer2.0.downsample.1.weight\n",
            "45 layer2.0.downsample.1.bias\n",
            "46 layer2.1.conv1.weight\n",
            "47 layer2.1.bn1.weight\n",
            "48 layer2.1.bn1.bias\n",
            "49 layer2.1.conv2.weight\n",
            "50 layer2.1.bn2.weight\n",
            "51 layer2.1.bn2.bias\n",
            "52 layer2.1.conv3.weight\n",
            "53 layer2.1.bn3.weight\n",
            "54 layer2.1.bn3.bias\n",
            "55 layer2.2.conv1.weight\n",
            "56 layer2.2.bn1.weight\n",
            "57 layer2.2.bn1.bias\n",
            "58 layer2.2.conv2.weight\n",
            "59 layer2.2.bn2.weight\n",
            "60 layer2.2.bn2.bias\n",
            "61 layer2.2.conv3.weight\n",
            "62 layer2.2.bn3.weight\n",
            "63 layer2.2.bn3.bias\n",
            "64 layer2.3.conv1.weight\n",
            "65 layer2.3.bn1.weight\n",
            "66 layer2.3.bn1.bias\n",
            "67 layer2.3.conv2.weight\n",
            "68 layer2.3.bn2.weight\n",
            "69 layer2.3.bn2.bias\n",
            "70 layer2.3.conv3.weight\n",
            "71 layer2.3.bn3.weight\n",
            "72 layer2.3.bn3.bias\n",
            "73 layer3.0.conv1.weight\n",
            "74 layer3.0.bn1.weight\n",
            "75 layer3.0.bn1.bias\n",
            "76 layer3.0.conv2.weight\n",
            "77 layer3.0.bn2.weight\n",
            "78 layer3.0.bn2.bias\n",
            "79 layer3.0.conv3.weight\n",
            "80 layer3.0.bn3.weight\n",
            "81 layer3.0.bn3.bias\n",
            "82 layer3.0.downsample.0.weight\n",
            "83 layer3.0.downsample.1.weight\n",
            "84 layer3.0.downsample.1.bias\n",
            "85 layer3.1.conv1.weight\n",
            "86 layer3.1.bn1.weight\n",
            "87 layer3.1.bn1.bias\n",
            "88 layer3.1.conv2.weight\n",
            "89 layer3.1.bn2.weight\n",
            "90 layer3.1.bn2.bias\n",
            "91 layer3.1.conv3.weight\n",
            "92 layer3.1.bn3.weight\n",
            "93 layer3.1.bn3.bias\n",
            "94 layer3.2.conv1.weight\n",
            "95 layer3.2.bn1.weight\n",
            "96 layer3.2.bn1.bias\n",
            "97 layer3.2.conv2.weight\n",
            "98 layer3.2.bn2.weight\n",
            "99 layer3.2.bn2.bias\n",
            "100 layer3.2.conv3.weight\n",
            "101 layer3.2.bn3.weight\n",
            "102 layer3.2.bn3.bias\n",
            "103 layer3.3.conv1.weight\n",
            "104 layer3.3.bn1.weight\n",
            "105 layer3.3.bn1.bias\n",
            "106 layer3.3.conv2.weight\n",
            "107 layer3.3.bn2.weight\n",
            "108 layer3.3.bn2.bias\n",
            "109 layer3.3.conv3.weight\n",
            "110 layer3.3.bn3.weight\n",
            "111 layer3.3.bn3.bias\n",
            "112 layer3.4.conv1.weight\n",
            "113 layer3.4.bn1.weight\n",
            "114 layer3.4.bn1.bias\n",
            "115 layer3.4.conv2.weight\n",
            "116 layer3.4.bn2.weight\n",
            "117 layer3.4.bn2.bias\n",
            "118 layer3.4.conv3.weight\n",
            "119 layer3.4.bn3.weight\n",
            "120 layer3.4.bn3.bias\n",
            "121 layer3.5.conv1.weight\n",
            "122 layer3.5.bn1.weight\n",
            "123 layer3.5.bn1.bias\n",
            "124 layer3.5.conv2.weight\n",
            "125 layer3.5.bn2.weight\n",
            "126 layer3.5.bn2.bias\n",
            "127 layer3.5.conv3.weight\n",
            "128 layer3.5.bn3.weight\n",
            "129 layer3.5.bn3.bias\n",
            "130 layer4.0.conv1.weight\n",
            "131 layer4.0.bn1.weight\n",
            "132 layer4.0.bn1.bias\n",
            "133 layer4.0.conv2.weight\n",
            "134 layer4.0.bn2.weight\n",
            "135 layer4.0.bn2.bias\n",
            "136 layer4.0.conv3.weight\n",
            "137 layer4.0.bn3.weight\n",
            "138 layer4.0.bn3.bias\n",
            "139 layer4.0.downsample.0.weight\n",
            "140 layer4.0.downsample.1.weight\n",
            "141 layer4.0.downsample.1.bias\n",
            "142 layer4.1.conv1.weight\n",
            "143 layer4.1.bn1.weight\n",
            "144 layer4.1.bn1.bias\n",
            "145 layer4.1.conv2.weight\n",
            "146 layer4.1.bn2.weight\n",
            "147 layer4.1.bn2.bias\n",
            "148 layer4.1.conv3.weight\n",
            "149 layer4.1.bn3.weight\n",
            "150 layer4.1.bn3.bias\n",
            "151 layer4.2.conv1.weight\n",
            "152 layer4.2.bn1.weight\n",
            "153 layer4.2.bn1.bias\n",
            "154 layer4.2.conv2.weight\n",
            "155 layer4.2.bn2.weight\n",
            "156 layer4.2.bn2.bias\n",
            "157 layer4.2.conv3.weight\n",
            "158 layer4.2.bn3.weight\n",
            "159 layer4.2.bn3.bias\n"
          ],
          "name": "stdout"
        }
      ]
    },
    {
      "cell_type": "code",
      "metadata": {
        "id": "OnLDG40Si_t_"
      },
      "source": [
        "# model.layer3.0.conv3.requires_grad = False vs model.layer3[0].conv3.requires_grad = False\n",
        "# model.layer4.requires_grad = False"
      ],
      "execution_count": null,
      "outputs": []
    },
    {
      "cell_type": "code",
      "metadata": {
        "id": "KgLGUDEPiDL8"
      },
      "source": [
        "criterion = nn.CrossEntropyLoss() # loss fuction for image classifying task\n",
        "optimizer = optim.Adam(model.parameters(), lr = 1e-3 )"
      ],
      "execution_count": null,
      "outputs": []
    },
    {
      "cell_type": "code",
      "metadata": {
        "id": "ms56bTcojTzX",
        "outputId": "adfa6c2a-4cb0-433c-c7b5-6b4b265aff03",
        "colab": {
          "base_uri": "https://localhost:8080/",
          "height": 102
        }
      },
      "source": [
        "old_loss = 10\n",
        "PATH_model = PATH + 'cifar_model_freezed.pth'\n",
        "\n",
        "for epoch in range(2):\n",
        "\n",
        "    running_loss = 0.0\n",
        "    for i, data in enumerate(trainloader, 0):\n",
        "\n",
        "        inputs, labels = data[0].to(device), data[1].to(device) # change tensor to tensor for gpu\n",
        "\n",
        "        optimizer.zero_grad()\n",
        "        outputs = model(inputs)\n",
        "        loss = criterion(outputs, labels)\n",
        "        loss.backward()\n",
        "        optimizer.step()\n",
        "\n",
        "        running_loss += loss.item()\n",
        "\n",
        "    cost = running_loss / len(trainloader)\n",
        "    print('[%d] loss: %.3f' % (epoch + 1, cost))\n",
        "    if cost < old_loss:\n",
        "        print(\"Save the best model\")\n",
        "        torch.save(model.state_dict(), PATH_model)\n",
        "        old_loss = cost\n",
        "\n",
        "print('Finished Training')"
      ],
      "execution_count": null,
      "outputs": [
        {
          "output_type": "stream",
          "text": [
            "[1] loss: 1.631\n",
            "Save the best model\n",
            "[2] loss: 1.466\n",
            "Save the best model\n",
            "Finished Training\n"
          ],
          "name": "stdout"
        }
      ]
    },
    {
      "cell_type": "code",
      "metadata": {
        "id": "UgV_Uf_4jcT3",
        "outputId": "0a8146d2-19ba-4390-d0e9-7930871126df",
        "colab": {
          "base_uri": "https://localhost:8080/",
          "height": 34
        }
      },
      "source": [
        "# model = torchvision.models.resnet50(pretrained = False).to(device)\n",
        "model.load_state_dict(torch.load(PATH_model))"
      ],
      "execution_count": null,
      "outputs": [
        {
          "output_type": "execute_result",
          "data": {
            "text/plain": [
              "<All keys matched successfully>"
            ]
          },
          "metadata": {
            "tags": []
          },
          "execution_count": 30
        }
      ]
    },
    {
      "cell_type": "code",
      "metadata": {
        "id": "IkmXY8lsjnZQ",
        "outputId": "be610b48-6c44-4ea9-f1f8-07e822f36997",
        "colab": {
          "base_uri": "https://localhost:8080/",
          "height": 34
        }
      },
      "source": [
        "correct = 0\n",
        "total = 0\n",
        "with torch.no_grad():\n",
        "    for data in testloader:\n",
        "        images, labels = data[0].to(device), data[1].to(device)\n",
        "        outputs = model(images)\n",
        "        _, predicted = torch.max(outputs.data, 1)\n",
        "        total += labels.size(0)\n",
        "        correct += (predicted == labels).sum().item()\n",
        "\n",
        "print('Accuracy of the network on the 10000 test images: %d %%' % (100 * correct / total))"
      ],
      "execution_count": null,
      "outputs": [
        {
          "output_type": "stream",
          "text": [
            "Accuracy of the network on the 10000 test images: 50 %\n"
          ],
          "name": "stdout"
        }
      ]
    },
    {
      "cell_type": "markdown",
      "metadata": {
        "id": "VklXTUjUiwin"
      },
      "source": [
        "# 8. Artificial Neural Network 101"
      ]
    },
    {
      "cell_type": "code",
      "metadata": {
        "id": "-cweljhcivh_"
      },
      "source": [
        "# Data\n",
        "from sklearn.datasets import load_boston\n",
        "import pandas as pd\n",
        "import numpy as np\n",
        "from sklearn.model_selection import train_test_split\n",
        "from sklearn.preprocessing import MinMaxScaler\n",
        "\n",
        "# ANN\n",
        "import torch\n",
        "from torch import nn, optim\n",
        "from torch.utils.data import DataLoader, Dataset\n",
        "import torch.nn.functional as F\n",
        "from torch.distributions import normal\n",
        "\n",
        "# Loss\n",
        "from sklearn.metrics import mean_squared_error\n",
        "\n",
        "# Plot\n",
        "import matplotlib.pyplot as plt"
      ],
      "execution_count": null,
      "outputs": []
    },
    {
      "cell_type": "code",
      "metadata": {
        "id": "uT3-ejXnjoOh"
      },
      "source": [
        "bos = load_boston()"
      ],
      "execution_count": null,
      "outputs": []
    },
    {
      "cell_type": "code",
      "metadata": {
        "id": "RpO3dn1MlDDi",
        "outputId": "ad382970-2be0-4f31-84c3-8aac739dad86",
        "colab": {
          "base_uri": "https://localhost:8080/",
          "height": 204
        }
      },
      "source": [
        "df = pd.DataFrame(bos.data)\n",
        "df.columns = bos.feature_names\n",
        "df['Price'] = bos.target\n",
        "df.head()"
      ],
      "execution_count": null,
      "outputs": [
        {
          "output_type": "execute_result",
          "data": {
            "text/html": [
              "<div>\n",
              "<style scoped>\n",
              "    .dataframe tbody tr th:only-of-type {\n",
              "        vertical-align: middle;\n",
              "    }\n",
              "\n",
              "    .dataframe tbody tr th {\n",
              "        vertical-align: top;\n",
              "    }\n",
              "\n",
              "    .dataframe thead th {\n",
              "        text-align: right;\n",
              "    }\n",
              "</style>\n",
              "<table border=\"1\" class=\"dataframe\">\n",
              "  <thead>\n",
              "    <tr style=\"text-align: right;\">\n",
              "      <th></th>\n",
              "      <th>CRIM</th>\n",
              "      <th>ZN</th>\n",
              "      <th>INDUS</th>\n",
              "      <th>CHAS</th>\n",
              "      <th>NOX</th>\n",
              "      <th>RM</th>\n",
              "      <th>AGE</th>\n",
              "      <th>DIS</th>\n",
              "      <th>RAD</th>\n",
              "      <th>TAX</th>\n",
              "      <th>PTRATIO</th>\n",
              "      <th>B</th>\n",
              "      <th>LSTAT</th>\n",
              "      <th>Price</th>\n",
              "    </tr>\n",
              "  </thead>\n",
              "  <tbody>\n",
              "    <tr>\n",
              "      <th>0</th>\n",
              "      <td>0.00632</td>\n",
              "      <td>18.0</td>\n",
              "      <td>2.31</td>\n",
              "      <td>0.0</td>\n",
              "      <td>0.538</td>\n",
              "      <td>6.575</td>\n",
              "      <td>65.2</td>\n",
              "      <td>4.0900</td>\n",
              "      <td>1.0</td>\n",
              "      <td>296.0</td>\n",
              "      <td>15.3</td>\n",
              "      <td>396.90</td>\n",
              "      <td>4.98</td>\n",
              "      <td>24.0</td>\n",
              "    </tr>\n",
              "    <tr>\n",
              "      <th>1</th>\n",
              "      <td>0.02731</td>\n",
              "      <td>0.0</td>\n",
              "      <td>7.07</td>\n",
              "      <td>0.0</td>\n",
              "      <td>0.469</td>\n",
              "      <td>6.421</td>\n",
              "      <td>78.9</td>\n",
              "      <td>4.9671</td>\n",
              "      <td>2.0</td>\n",
              "      <td>242.0</td>\n",
              "      <td>17.8</td>\n",
              "      <td>396.90</td>\n",
              "      <td>9.14</td>\n",
              "      <td>21.6</td>\n",
              "    </tr>\n",
              "    <tr>\n",
              "      <th>2</th>\n",
              "      <td>0.02729</td>\n",
              "      <td>0.0</td>\n",
              "      <td>7.07</td>\n",
              "      <td>0.0</td>\n",
              "      <td>0.469</td>\n",
              "      <td>7.185</td>\n",
              "      <td>61.1</td>\n",
              "      <td>4.9671</td>\n",
              "      <td>2.0</td>\n",
              "      <td>242.0</td>\n",
              "      <td>17.8</td>\n",
              "      <td>392.83</td>\n",
              "      <td>4.03</td>\n",
              "      <td>34.7</td>\n",
              "    </tr>\n",
              "    <tr>\n",
              "      <th>3</th>\n",
              "      <td>0.03237</td>\n",
              "      <td>0.0</td>\n",
              "      <td>2.18</td>\n",
              "      <td>0.0</td>\n",
              "      <td>0.458</td>\n",
              "      <td>6.998</td>\n",
              "      <td>45.8</td>\n",
              "      <td>6.0622</td>\n",
              "      <td>3.0</td>\n",
              "      <td>222.0</td>\n",
              "      <td>18.7</td>\n",
              "      <td>394.63</td>\n",
              "      <td>2.94</td>\n",
              "      <td>33.4</td>\n",
              "    </tr>\n",
              "    <tr>\n",
              "      <th>4</th>\n",
              "      <td>0.06905</td>\n",
              "      <td>0.0</td>\n",
              "      <td>2.18</td>\n",
              "      <td>0.0</td>\n",
              "      <td>0.458</td>\n",
              "      <td>7.147</td>\n",
              "      <td>54.2</td>\n",
              "      <td>6.0622</td>\n",
              "      <td>3.0</td>\n",
              "      <td>222.0</td>\n",
              "      <td>18.7</td>\n",
              "      <td>396.90</td>\n",
              "      <td>5.33</td>\n",
              "      <td>36.2</td>\n",
              "    </tr>\n",
              "  </tbody>\n",
              "</table>\n",
              "</div>"
            ],
            "text/plain": [
              "      CRIM    ZN  INDUS  CHAS    NOX  ...    TAX  PTRATIO       B  LSTAT  Price\n",
              "0  0.00632  18.0   2.31   0.0  0.538  ...  296.0     15.3  396.90   4.98   24.0\n",
              "1  0.02731   0.0   7.07   0.0  0.469  ...  242.0     17.8  396.90   9.14   21.6\n",
              "2  0.02729   0.0   7.07   0.0  0.469  ...  242.0     17.8  392.83   4.03   34.7\n",
              "3  0.03237   0.0   2.18   0.0  0.458  ...  222.0     18.7  394.63   2.94   33.4\n",
              "4  0.06905   0.0   2.18   0.0  0.458  ...  222.0     18.7  396.90   5.33   36.2\n",
              "\n",
              "[5 rows x 14 columns]"
            ]
          },
          "metadata": {
            "tags": []
          },
          "execution_count": 4
        }
      ]
    },
    {
      "cell_type": "code",
      "metadata": {
        "id": "y-H3UndAlNHB",
        "outputId": "fdb0cd22-3c84-4427-d66d-da18d62a28c7",
        "colab": {
          "base_uri": "https://localhost:8080/",
          "height": 34
        }
      },
      "source": [
        "# Multithreaded Local Regularization Neural Networks for Regression Tasks, 2015\n",
        "print(\"RMSE: 0.08019\")"
      ],
      "execution_count": null,
      "outputs": [
        {
          "output_type": "stream",
          "text": [
            "RMSE: 0.08019\n"
          ],
          "name": "stdout"
        }
      ]
    },
    {
      "cell_type": "code",
      "metadata": {
        "id": "8NDPAObmliU6"
      },
      "source": [
        "class TensorData(Dataset):\n",
        "\n",
        "    def __init__(self, x_data, y_data):\n",
        "        self.x_data = torch.FloatTensor(x_data)\n",
        "        self.y_data = torch.FloatTensor(y_data)\n",
        "        self.len = self.y_data.shape[0]\n",
        "\n",
        "    def __getitem__(self, index):\n",
        "\n",
        "        return self.x_data[index], self.y_data[index]\n",
        "\n",
        "    def __len__(self):\n",
        "        \n",
        "        return self.len"
      ],
      "execution_count": null,
      "outputs": []
    },
    {
      "cell_type": "code",
      "metadata": {
        "id": "4SS9MRLOmnKZ"
      },
      "source": [
        "class Regressor(nn.Module):\n",
        "    def __init__(self):\n",
        "        super().__init__()\n",
        "        self.fc1 = nn.Linear(13, 50, bias = True)\n",
        "        self.fc2 = nn.Linear(50, 30, bias = True)\n",
        "        self.fc3 = nn.Linear(30, 1, bias = True)\n",
        "        self.dropout = nn.Dropout(0.1) # Drop rate\n",
        "\n",
        "    def forward(self, x):\n",
        "        x = F.relu(self.fc1(x))\n",
        "        x = self.dropout(F.relu(self.fc2(x)))\n",
        "        x = F.relu(self.fc3(x))\n",
        "\n",
        "        return x"
      ],
      "execution_count": null,
      "outputs": []
    },
    {
      "cell_type": "code",
      "metadata": {
        "id": "Dibzg0OUpyOV"
      },
      "source": [
        "X = df.drop('Price', axis=1).to_numpy()\n",
        "scaler = MinMaxScaler()\n",
        "scaler.fit(X)\n",
        "X = scaler.transform(X)\n",
        "Y = df['Price'].to_numpy().reshape((-1, 1))\n",
        "scaler.fit(Y)\n",
        "Y = scaler.transform(Y)"
      ],
      "execution_count": null,
      "outputs": []
    },
    {
      "cell_type": "code",
      "metadata": {
        "id": "QEVHN-Kip2Vl",
        "outputId": "0b618c2e-50bb-4db8-bfae-7c5e44e344a5",
        "colab": {
          "base_uri": "https://localhost:8080/",
          "height": 34
        }
      },
      "source": [
        "# Data Set\n",
        "X_train, X_test, Y_train, Y_test = train_test_split(X, Y, test_size = 0.5)\n",
        "\n",
        "# Mini Batch\n",
        "trainsets = TensorData(X_train, Y_train)\n",
        "trainloader = torch.utils.data.DataLoader(trainsets, batch_size = 10, shuffle = True)\n",
        "testsets = TensorData(X_test, Y_test)\n",
        "testloader = torch.utils.data.DataLoader(testsets, batch_size = 10, shuffle = False)\n",
        "\n",
        "# Model\n",
        "model = Regressor()\n",
        "criterion = nn.MSELoss()\n",
        "optimizer = optim.Adam(model.parameters(), lr = 0.001, weight_decay = 1e-8 ) # weight_decay is l2 normalization(penalty) term\n",
        "\n",
        "loss_ = []\n",
        "n = len(trainloader)\n",
        "\n",
        "for epoch in range(500):\n",
        "\n",
        "    running_loss = 0.0\n",
        "\n",
        "    for i, data in enumerate(trainloader, 0):\n",
        "\n",
        "        inputs, values = data\n",
        "\n",
        "        optimizer.zero_grad()\n",
        "        outputs = model(inputs)\n",
        "        loss = criterion(outputs, values)\n",
        "        loss.backward()\n",
        "        optimizer.step()\n",
        "        running_loss += loss.item()\n",
        "\n",
        "    loss_.append(np.sqrt(running_loss) / n)\n",
        "\n",
        "print(\"Finished Training\")"
      ],
      "execution_count": null,
      "outputs": [
        {
          "output_type": "stream",
          "text": [
            "Finished Training\n"
          ],
          "name": "stdout"
        }
      ]
    },
    {
      "cell_type": "code",
      "metadata": {
        "id": "SY4WVVilspT4",
        "outputId": "7c806333-0034-4ff2-d51f-d34a82590934",
        "colab": {
          "base_uri": "https://localhost:8080/",
          "height": 282
        }
      },
      "source": [
        "plt.plot(loss_)\n",
        "plt.show"
      ],
      "execution_count": null,
      "outputs": [
        {
          "output_type": "execute_result",
          "data": {
            "text/plain": [
              "<function matplotlib.pyplot.show>"
            ]
          },
          "metadata": {
            "tags": []
          },
          "execution_count": 12
        },
        {
          "output_type": "display_data",
          "data": {
            "image/png": "[encoded data removed]",
            "text/plain": [
              "<Figure size 432x288 with 1 Axes>"
            ]
          },
          "metadata": {
            "tags": [],
            "needs_background": "light"
          }
        }
      ]
    },
    {
      "cell_type": "code",
      "metadata": {
        "id": "TKkuU8hOtWRa"
      },
      "source": [
        "def evaluation(dataloader):\n",
        "\n",
        "    predictions = torch.tensor([], dtype = torch.float)\n",
        "    actual = torch.tensor([], dtype = torch.float)\n",
        "\n",
        "    with torch.no_grad():\n",
        "        model.eval() # deactivate dropout when evaluates using model.eval()\n",
        "        for data in dataloader:\n",
        "            inputs, values = data\n",
        "            outputs = model(inputs)\n",
        "\n",
        "            predictions = torch.cat((predictions, outputs), 0)\n",
        "            actual = torch.cat((actual, values), 0)\n",
        "\n",
        "    predictions = predictions.numpy()\n",
        "    actual = actual.numpy()\n",
        "    rmse = np.sqrt(mean_squared_error(predictions, actual))\n",
        "\n",
        "    return rmse"
      ],
      "execution_count": null,
      "outputs": []
    },
    {
      "cell_type": "code",
      "metadata": {
        "id": "9ZqIrSV8uHCV",
        "outputId": "97f664e6-e4eb-4463-91c2-f1a7cb909fb5",
        "colab": {
          "base_uri": "https://localhost:8080/",
          "height": 51
        }
      },
      "source": [
        "train_rmse = evaluation(trainloader)\n",
        "test_rmse = evaluation(testloader)\n",
        "\n",
        "print(\"Train RMSE: \", train_rmse)\n",
        "print(\"Test RMSE: \", test_rmse)"
      ],
      "execution_count": null,
      "outputs": [
        {
          "output_type": "stream",
          "text": [
            "Train RMSE:  0.029675718\n",
            "Test RMSE:  0.07037903\n"
          ],
          "name": "stdout"
        }
      ]
    },
    {
      "cell_type": "markdown",
      "metadata": {
        "id": "ar75lWL3JokY"
      },
      "source": [
        "# 9. Represent Papers"
      ]
    },
    {
      "cell_type": "code",
      "metadata": {
        "id": "vYEAmVNpuk9R"
      },
      "source": [
        "import torch\n",
        "import torchvision\n",
        "import torchvision.transforms as transforms\n",
        "from torch.utils.data import DataLoader \n",
        "import torch.nn.functional as F\n",
        "import torch.nn as nn\n",
        "import torch.optim as optim\n",
        "\n",
        "import matplotlib.pyplot as plot\n",
        "import cv2"
      ],
      "execution_count": 4,
      "outputs": []
    },
    {
      "cell_type": "code",
      "metadata": {
        "id": "XdTn-6yhKDVI",
        "outputId": "d68dbcb2-3b8a-41c7-e71e-a066fa108832",
        "colab": {
          "base_uri": "https://localhost:8080/",
          "height": 34
        }
      },
      "source": [
        "from google.colab import drive\n",
        "drive.mount('/content/gdrive')"
      ],
      "execution_count": 5,
      "outputs": [
        {
          "output_type": "stream",
          "text": [
            "Mounted at /content/gdrive\n"
          ],
          "name": "stdout"
        }
      ]
    },
    {
      "cell_type": "code",
      "metadata": {
        "id": "hy-CwhqAKuzF",
        "outputId": "aae3d6e6-abc8-47b5-bbb6-77aa5f0a12ab",
        "colab": {
          "base_uri": "https://localhost:8080/",
          "height": 34
        }
      },
      "source": [
        "path = '/content/gdrive/My Drive/cam/'\n",
        "device = torch.device(\"cuda:0\" if torch.cuda.is_available() else \"cpu\")\n",
        "print(device)"
      ],
      "execution_count": 6,
      "outputs": [
        {
          "output_type": "stream",
          "text": [
            "cuda:0\n"
          ],
          "name": "stdout"
        }
      ]
    },
    {
      "cell_type": "code",
      "metadata": {
        "id": "teQEc4asLHK8",
        "outputId": "052c7fb1-d3c1-4db2-d5d2-2ef80d4de0c9",
        "colab": {
          "base_uri": "https://localhost:8080/",
          "height": 83,
          "referenced_widgets": [
            "e75ef0b077324c55836311a5a307b707",
            "ef82eb50089241e79df6822e0d74663f",
            "1c717f9779ba4998b8b81421af121549",
            "a8ab6ac5fdef4d55a3447cf5385ab10c",
            "6cadee91ca5e4040a211b0d8788b5af8",
            "514a7ffb9859485da2c9d3e8bcd0ea31",
            "18d4904d9a8f47f1b2e0e0d5bee44e08",
            "06bbec07d1c744f3a8915c9aea0a76f5"
          ]
        }
      },
      "source": [
        "resize = 128\n",
        "transform = transforms.Compose(\n",
        "    [transforms.Resize(resize), \n",
        "     transforms.ToTensor(),\n",
        "     transforms.Normalize((0.5, 0.5, 0.5), (0.5, 0.5, 0.5))]\n",
        ")\n",
        "\n",
        "trainset = torchvision.datasets.STL10(root= path + 'data', split = 'train',\n",
        "                                        download=True, transform=transform)\n",
        "\n",
        "trainloader = torch.utils.data.DataLoader(trainset, batch_size = 40, shuffle=True)\n",
        "# 10 classes: airplane, bird, car, cat, deer, dog, horse, monkey, ship, truck"
      ],
      "execution_count": 7,
      "outputs": [
        {
          "output_type": "stream",
          "text": [
            "Downloading http://ai.stanford.edu/~acoates/stl10/stl10_binary.tar.gz to /content/gdrive/My Drive/cam/data/stl10_binary.tar.gz\n"
          ],
          "name": "stdout"
        },
        {
          "output_type": "display_data",
          "data": {
            "application/vnd.jupyter.widget-view+json": {
              "model_id": "e75ef0b077324c55836311a5a307b707",
              "version_minor": 0,
              "version_major": 2
            },
            "text/plain": [
              "HBox(children=(FloatProgress(value=1.0, bar_style='info', max=1.0), HTML(value='')))"
            ]
          },
          "metadata": {
            "tags": []
          }
        },
        {
          "output_type": "stream",
          "text": [
            "Extracting /content/gdrive/My Drive/cam/data/stl10_binary.tar.gz to /content/gdrive/My Drive/cam/data\n"
          ],
          "name": "stdout"
        }
      ]
    },
    {
      "cell_type": "code",
      "metadata": {
        "id": "Y4mcW_liLssp",
        "outputId": "59b410d6-9cb0-4982-df3a-8e7e48e6c335",
        "colab": {
          "base_uri": "https://localhost:8080/",
          "height": 198
        }
      },
      "source": [
        "import matplotlib.pyplot as plt\n",
        "import numpy as np\n",
        "\n",
        "def imgshow(img):\n",
        "\n",
        "    img = img / 2 + 0.5 # unnormalizing to see the original picture\n",
        "    npimg = img.numpy()\n",
        "    fig = plt.figure(figsize=(10, 5))\n",
        "    plt.imshow(np.transpose(npimg, (1, 2, 0)))\n",
        "    plt.show()\n",
        "\n",
        "dataiter = iter(trainloader)\n",
        "images, labels = dataiter.next()\n",
        "\n",
        "imshow(torchvision.utils.make_grid(images[:8]))"
      ],
      "execution_count": 8,
      "outputs": [
        {
          "output_type": "error",
          "ename": "NameError",
          "evalue": "ignored",
          "traceback": [
            "\u001b[0;31m---------------------------------------------------------------------------\u001b[0m",
            "\u001b[0;31mNameError\u001b[0m                                 Traceback (most recent call last)",
            "\u001b[0;32m<ipython-input-8-fbf131466ccc>\u001b[0m in \u001b[0;36m<module>\u001b[0;34m()\u001b[0m\n\u001b[1;32m     13\u001b[0m \u001b[0mimages\u001b[0m\u001b[0;34m,\u001b[0m \u001b[0mlabels\u001b[0m \u001b[0;34m=\u001b[0m \u001b[0mdataiter\u001b[0m\u001b[0;34m.\u001b[0m\u001b[0mnext\u001b[0m\u001b[0;34m(\u001b[0m\u001b[0;34m)\u001b[0m\u001b[0;34m\u001b[0m\u001b[0;34m\u001b[0m\u001b[0m\n\u001b[1;32m     14\u001b[0m \u001b[0;34m\u001b[0m\u001b[0m\n\u001b[0;32m---> 15\u001b[0;31m \u001b[0mimshow\u001b[0m\u001b[0;34m(\u001b[0m\u001b[0mtorchvision\u001b[0m\u001b[0;34m.\u001b[0m\u001b[0mutils\u001b[0m\u001b[0;34m.\u001b[0m\u001b[0mmake_grid\u001b[0m\u001b[0;34m(\u001b[0m\u001b[0mimages\u001b[0m\u001b[0;34m[\u001b[0m\u001b[0;34m:\u001b[0m\u001b[0;36m8\u001b[0m\u001b[0;34m]\u001b[0m\u001b[0;34m)\u001b[0m\u001b[0;34m)\u001b[0m\u001b[0;34m\u001b[0m\u001b[0;34m\u001b[0m\u001b[0m\n\u001b[0m",
            "\u001b[0;31mNameError\u001b[0m: name 'imshow' is not defined"
          ]
        }
      ]
    },
    {
      "cell_type": "code",
      "metadata": {
        "id": "7MpmORt1MPgV",
        "outputId": "ca78e42a-4540-4b3c-c5bf-aea5c4fe6765",
        "colab": {
          "base_uri": "https://localhost:8080/",
          "height": 476
        }
      },
      "source": [
        "model = torchvision.models.alexnet(pretrained = False)\n",
        "print(model)\n",
        "\n",
        "# 0~9 will be reused"
      ],
      "execution_count": 10,
      "outputs": [
        {
          "output_type": "stream",
          "text": [
            "AlexNet(\n",
            "  (features): Sequential(\n",
            "    (0): Conv2d(3, 64, kernel_size=(11, 11), stride=(4, 4), padding=(2, 2))\n",
            "    (1): ReLU(inplace=True)\n",
            "    (2): MaxPool2d(kernel_size=3, stride=2, padding=0, dilation=1, ceil_mode=False)\n",
            "    (3): Conv2d(64, 192, kernel_size=(5, 5), stride=(1, 1), padding=(2, 2))\n",
            "    (4): ReLU(inplace=True)\n",
            "    (5): MaxPool2d(kernel_size=3, stride=2, padding=0, dilation=1, ceil_mode=False)\n",
            "    (6): Conv2d(192, 384, kernel_size=(3, 3), stride=(1, 1), padding=(1, 1))\n",
            "    (7): ReLU(inplace=True)\n",
            "    (8): Conv2d(384, 256, kernel_size=(3, 3), stride=(1, 1), padding=(1, 1))\n",
            "    (9): ReLU(inplace=True)\n",
            "    (10): Conv2d(256, 256, kernel_size=(3, 3), stride=(1, 1), padding=(1, 1))\n",
            "    (11): ReLU(inplace=True)\n",
            "    (12): MaxPool2d(kernel_size=3, stride=2, padding=0, dilation=1, ceil_mode=False)\n",
            "  )\n",
            "  (avgpool): AdaptiveAvgPool2d(output_size=(6, 6))\n",
            "  (classifier): Sequential(\n",
            "    (0): Dropout(p=0.5, inplace=False)\n",
            "    (1): Linear(in_features=9216, out_features=4096, bias=True)\n",
            "    (2): ReLU(inplace=True)\n",
            "    (3): Dropout(p=0.5, inplace=False)\n",
            "    (4): Linear(in_features=4096, out_features=4096, bias=True)\n",
            "    (5): ReLU(inplace=True)\n",
            "    (6): Linear(in_features=4096, out_features=1000, bias=True)\n",
            "  )\n",
            ")\n"
          ],
          "name": "stdout"
        }
      ]
    },
    {
      "cell_type": "code",
      "metadata": {
        "id": "AKi3OaWUMdTY"
      },
      "source": [
        "from collections import OrderedDict # making name\n",
        "\n",
        "class Classifier(nn.Module):\n",
        "    def __init__(self):\n",
        "        super(Classifier, self).__init__()\n",
        "\n",
        "        self.fc1 = nn.Linear(512, 256)\n",
        "        self.fc2 = nn.Linear(256, 10)\n",
        "\n",
        "    def forward(self, x):\n",
        "\n",
        "        x = x.mean([2, 3])\n",
        "        x = F.relu(self.fc1(x))\n",
        "        x = F.softmax(self.fc2(x), dim = 1)\n",
        "\n",
        "        return x\n",
        "\n",
        "model.features[8] = nn.Conv2d(384, 512, 3) # change the original model's eighth output size\n",
        "model = nn.Sequential(OrderedDict([('features', model.features[:10]), ('classifier', Classifier())]))\n",
        "model = model.to(device)"
      ],
      "execution_count": 11,
      "outputs": []
    },
    {
      "cell_type": "code",
      "metadata": {
        "id": "3r5M5FGWOVsQ",
        "outputId": "d7807298-1048-4100-de6e-66d9655fa74a",
        "colab": {
          "base_uri": "https://localhost:8080/",
          "height": 323
        }
      },
      "source": [
        "model"
      ],
      "execution_count": 12,
      "outputs": [
        {
          "output_type": "execute_result",
          "data": {
            "text/plain": [
              "Sequential(\n",
              "  (features): Sequential(\n",
              "    (0): Conv2d(3, 64, kernel_size=(11, 11), stride=(4, 4), padding=(2, 2))\n",
              "    (1): ReLU(inplace=True)\n",
              "    (2): MaxPool2d(kernel_size=3, stride=2, padding=0, dilation=1, ceil_mode=False)\n",
              "    (3): Conv2d(64, 192, kernel_size=(5, 5), stride=(1, 1), padding=(2, 2))\n",
              "    (4): ReLU(inplace=True)\n",
              "    (5): MaxPool2d(kernel_size=3, stride=2, padding=0, dilation=1, ceil_mode=False)\n",
              "    (6): Conv2d(192, 384, kernel_size=(3, 3), stride=(1, 1), padding=(1, 1))\n",
              "    (7): ReLU(inplace=True)\n",
              "    (8): Conv2d(384, 512, kernel_size=(3, 3), stride=(1, 1))\n",
              "    (9): ReLU(inplace=True)\n",
              "  )\n",
              "  (classifier): Classifier(\n",
              "    (fc1): Linear(in_features=512, out_features=256, bias=True)\n",
              "    (fc2): Linear(in_features=256, out_features=10, bias=True)\n",
              "  )\n",
              ")"
            ]
          },
          "metadata": {
            "tags": []
          },
          "execution_count": 12
        }
      ]
    },
    {
      "cell_type": "code",
      "metadata": {
        "id": "XIvlQDu_OWld"
      },
      "source": [
        "criterion = nn.CrossEntropyLoss()\n",
        "optimizer = optim.Adam(model.parameters(), lr = 1e-4)"
      ],
      "execution_count": 14,
      "outputs": []
    },
    {
      "cell_type": "code",
      "metadata": {
        "id": "BQKLknpoOkVZ",
        "outputId": "01034f75-a305-40e0-d761-08eeedb3ca95",
        "colab": {
          "base_uri": "https://localhost:8080/",
          "height": 324
        }
      },
      "source": [
        "# 돌려 놓은 파일을 꺼낸다.\n",
        "PATH = path + 'cam_model.pth'\n",
        "model.load_state_dict(torch.load(PATH))"
      ],
      "execution_count": 15,
      "outputs": [
        {
          "output_type": "error",
          "ename": "FileNotFoundError",
          "evalue": "ignored",
          "traceback": [
            "\u001b[0;31m---------------------------------------------------------------------------\u001b[0m",
            "\u001b[0;31mFileNotFoundError\u001b[0m                         Traceback (most recent call last)",
            "\u001b[0;32m<ipython-input-15-179ed6aea590>\u001b[0m in \u001b[0;36m<module>\u001b[0;34m()\u001b[0m\n\u001b[1;32m      1\u001b[0m \u001b[0mPATH\u001b[0m \u001b[0;34m=\u001b[0m \u001b[0mpath\u001b[0m \u001b[0;34m+\u001b[0m \u001b[0;34m'cam_model.pth'\u001b[0m\u001b[0;34m\u001b[0m\u001b[0;34m\u001b[0m\u001b[0m\n\u001b[0;32m----> 2\u001b[0;31m \u001b[0mmodel\u001b[0m\u001b[0;34m.\u001b[0m\u001b[0mload_state_dict\u001b[0m\u001b[0;34m(\u001b[0m\u001b[0mtorch\u001b[0m\u001b[0;34m.\u001b[0m\u001b[0mload\u001b[0m\u001b[0;34m(\u001b[0m\u001b[0mPATH\u001b[0m\u001b[0;34m)\u001b[0m\u001b[0;34m)\u001b[0m\u001b[0;34m\u001b[0m\u001b[0;34m\u001b[0m\u001b[0m\n\u001b[0m",
            "\u001b[0;32m/usr/local/lib/python3.6/dist-packages/torch/serialization.py\u001b[0m in \u001b[0;36mload\u001b[0;34m(f, map_location, pickle_module, **pickle_load_args)\u001b[0m\n\u001b[1;32m    569\u001b[0m         \u001b[0mpickle_load_args\u001b[0m\u001b[0;34m[\u001b[0m\u001b[0;34m'encoding'\u001b[0m\u001b[0;34m]\u001b[0m \u001b[0;34m=\u001b[0m \u001b[0;34m'utf-8'\u001b[0m\u001b[0;34m\u001b[0m\u001b[0;34m\u001b[0m\u001b[0m\n\u001b[1;32m    570\u001b[0m \u001b[0;34m\u001b[0m\u001b[0m\n\u001b[0;32m--> 571\u001b[0;31m     \u001b[0;32mwith\u001b[0m \u001b[0m_open_file_like\u001b[0m\u001b[0;34m(\u001b[0m\u001b[0mf\u001b[0m\u001b[0;34m,\u001b[0m \u001b[0;34m'rb'\u001b[0m\u001b[0;34m)\u001b[0m \u001b[0;32mas\u001b[0m \u001b[0mopened_file\u001b[0m\u001b[0;34m:\u001b[0m\u001b[0;34m\u001b[0m\u001b[0;34m\u001b[0m\u001b[0m\n\u001b[0m\u001b[1;32m    572\u001b[0m         \u001b[0;32mif\u001b[0m \u001b[0m_is_zipfile\u001b[0m\u001b[0;34m(\u001b[0m\u001b[0mopened_file\u001b[0m\u001b[0;34m)\u001b[0m\u001b[0;34m:\u001b[0m\u001b[0;34m\u001b[0m\u001b[0;34m\u001b[0m\u001b[0m\n\u001b[1;32m    573\u001b[0m             \u001b[0;31m# The zipfile reader is going to advance the current file position.\u001b[0m\u001b[0;34m\u001b[0m\u001b[0;34m\u001b[0m\u001b[0;34m\u001b[0m\u001b[0m\n",
            "\u001b[0;32m/usr/local/lib/python3.6/dist-packages/torch/serialization.py\u001b[0m in \u001b[0;36m_open_file_like\u001b[0;34m(name_or_buffer, mode)\u001b[0m\n\u001b[1;32m    227\u001b[0m \u001b[0;32mdef\u001b[0m \u001b[0m_open_file_like\u001b[0m\u001b[0;34m(\u001b[0m\u001b[0mname_or_buffer\u001b[0m\u001b[0;34m,\u001b[0m \u001b[0mmode\u001b[0m\u001b[0;34m)\u001b[0m\u001b[0;34m:\u001b[0m\u001b[0;34m\u001b[0m\u001b[0;34m\u001b[0m\u001b[0m\n\u001b[1;32m    228\u001b[0m     \u001b[0;32mif\u001b[0m \u001b[0m_is_path\u001b[0m\u001b[0;34m(\u001b[0m\u001b[0mname_or_buffer\u001b[0m\u001b[0;34m)\u001b[0m\u001b[0;34m:\u001b[0m\u001b[0;34m\u001b[0m\u001b[0;34m\u001b[0m\u001b[0m\n\u001b[0;32m--> 229\u001b[0;31m         \u001b[0;32mreturn\u001b[0m \u001b[0m_open_file\u001b[0m\u001b[0;34m(\u001b[0m\u001b[0mname_or_buffer\u001b[0m\u001b[0;34m,\u001b[0m \u001b[0mmode\u001b[0m\u001b[0;34m)\u001b[0m\u001b[0;34m\u001b[0m\u001b[0;34m\u001b[0m\u001b[0m\n\u001b[0m\u001b[1;32m    230\u001b[0m     \u001b[0;32melse\u001b[0m\u001b[0;34m:\u001b[0m\u001b[0;34m\u001b[0m\u001b[0;34m\u001b[0m\u001b[0m\n\u001b[1;32m    231\u001b[0m         \u001b[0;32mif\u001b[0m \u001b[0;34m'w'\u001b[0m \u001b[0;32min\u001b[0m \u001b[0mmode\u001b[0m\u001b[0;34m:\u001b[0m\u001b[0;34m\u001b[0m\u001b[0;34m\u001b[0m\u001b[0m\n",
            "\u001b[0;32m/usr/local/lib/python3.6/dist-packages/torch/serialization.py\u001b[0m in \u001b[0;36m__init__\u001b[0;34m(self, name, mode)\u001b[0m\n\u001b[1;32m    208\u001b[0m \u001b[0;32mclass\u001b[0m \u001b[0m_open_file\u001b[0m\u001b[0;34m(\u001b[0m\u001b[0m_opener\u001b[0m\u001b[0;34m)\u001b[0m\u001b[0;34m:\u001b[0m\u001b[0;34m\u001b[0m\u001b[0;34m\u001b[0m\u001b[0m\n\u001b[1;32m    209\u001b[0m     \u001b[0;32mdef\u001b[0m \u001b[0m__init__\u001b[0m\u001b[0;34m(\u001b[0m\u001b[0mself\u001b[0m\u001b[0;34m,\u001b[0m \u001b[0mname\u001b[0m\u001b[0;34m,\u001b[0m \u001b[0mmode\u001b[0m\u001b[0;34m)\u001b[0m\u001b[0;34m:\u001b[0m\u001b[0;34m\u001b[0m\u001b[0;34m\u001b[0m\u001b[0m\n\u001b[0;32m--> 210\u001b[0;31m         \u001b[0msuper\u001b[0m\u001b[0;34m(\u001b[0m\u001b[0m_open_file\u001b[0m\u001b[0;34m,\u001b[0m \u001b[0mself\u001b[0m\u001b[0;34m)\u001b[0m\u001b[0;34m.\u001b[0m\u001b[0m__init__\u001b[0m\u001b[0;34m(\u001b[0m\u001b[0mopen\u001b[0m\u001b[0;34m(\u001b[0m\u001b[0mname\u001b[0m\u001b[0;34m,\u001b[0m \u001b[0mmode\u001b[0m\u001b[0;34m)\u001b[0m\u001b[0;34m)\u001b[0m\u001b[0;34m\u001b[0m\u001b[0;34m\u001b[0m\u001b[0m\n\u001b[0m\u001b[1;32m    211\u001b[0m \u001b[0;34m\u001b[0m\u001b[0m\n\u001b[1;32m    212\u001b[0m     \u001b[0;32mdef\u001b[0m \u001b[0m__exit__\u001b[0m\u001b[0;34m(\u001b[0m\u001b[0mself\u001b[0m\u001b[0;34m,\u001b[0m \u001b[0;34m*\u001b[0m\u001b[0margs\u001b[0m\u001b[0;34m)\u001b[0m\u001b[0;34m:\u001b[0m\u001b[0;34m\u001b[0m\u001b[0;34m\u001b[0m\u001b[0m\n",
            "\u001b[0;31mFileNotFoundError\u001b[0m: [Errno 2] No such file or directory: '/content/gdrive/My Drive/cam/cam_model.pth'"
          ]
        }
      ]
    },
    {
      "cell_type": "code",
      "metadata": {
        "id": "CxL2rhOUOsI6"
      },
      "source": [
        "# Vi"
      ],
      "execution_count": null,
      "outputs": []
    }
  ]
}